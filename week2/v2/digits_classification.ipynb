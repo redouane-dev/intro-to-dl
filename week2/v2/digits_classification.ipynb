{
 "cells": [
  {
   "cell_type": "code",
   "execution_count": null,
   "metadata": {},
   "outputs": [],
   "source": [
    "# set tf 1.x for colab\n",
    "%tensorflow_version 1.x"
   ]
  },
  {
   "cell_type": "markdown",
   "metadata": {
    "slideshow": {
     "slide_type": "slide"
    }
   },
   "source": [
    "# MNIST digits classification with TensorFlow"
   ]
  },
  {
   "cell_type": "markdown",
   "metadata": {},
   "source": [
    "<img src=\"images/mnist_sample.png\" style=\"width:30%\">"
   ]
  },
  {
   "cell_type": "code",
   "execution_count": 99,
   "metadata": {},
   "outputs": [
    {
     "name": "stdout",
     "output_type": "stream",
     "text": [
      "We're using TF 2.2.0\n"
     ]
    }
   ],
   "source": [
    "import numpy as np\n",
    "from sklearn.metrics import accuracy_score\n",
    "from matplotlib import pyplot as plt\n",
    "%matplotlib inline\n",
    "import tensorflow.compat.v1 as tf\n",
    "print(\"We're using TF\", tf.__version__)\n",
    "\n",
    "import sys\n",
    "sys.path.append(\"../..\")\n",
    "import grading\n",
    "\n",
    "import matplotlib_utils\n",
    "from importlib import reload\n",
    "reload(matplotlib_utils)\n",
    "\n",
    "import grading_utils\n",
    "reload(grading_utils)\n",
    "\n",
    "import keras_utils\n",
    "from keras_utils import reset_tf_session"
   ]
  },
  {
   "cell_type": "code",
   "execution_count": 2,
   "metadata": {},
   "outputs": [],
   "source": [
    "tf.disable_eager_execution()"
   ]
  },
  {
   "cell_type": "markdown",
   "metadata": {},
   "source": [
    "# Fill in your Coursera token and email\n",
    "To successfully submit your answers to our grader, please fill in your Coursera submission token and email"
   ]
  },
  {
   "cell_type": "code",
   "execution_count": 3,
   "metadata": {},
   "outputs": [],
   "source": [
    "grader = grading.Grader(assignment_key=\"XtD7ho3TEeiHQBLWejjYAA\", \n",
    "                        all_parts=[\"9XaAS\", \"vmogZ\", \"RMv95\", \"i8bgs\", \"rE763\"])"
   ]
  },
  {
   "cell_type": "code",
   "execution_count": 133,
   "metadata": {},
   "outputs": [],
   "source": [
    "# token expires every 30 min\n",
    "COURSERA_TOKEN = \"\"\n",
    "COURSERA_EMAIL = \"\""
   ]
  },
  {
   "cell_type": "markdown",
   "metadata": {},
   "source": [
    "# Look at the data\n",
    "\n",
    "In this task we have 50000 28x28 images of digits from 0 to 9.\n",
    "We will train a classifier on this data."
   ]
  },
  {
   "cell_type": "code",
   "execution_count": 4,
   "metadata": {},
   "outputs": [],
   "source": [
    "import preprocessed_mnist\n",
    "X_train, y_train, X_val, y_val, X_test, y_test = preprocessed_mnist.load_dataset()"
   ]
  },
  {
   "cell_type": "code",
   "execution_count": 5,
   "metadata": {},
   "outputs": [
    {
     "name": "stdout",
     "output_type": "stream",
     "text": [
      "X_train [shape (50000, 28, 28)] sample patch:\n",
      " [[0.         0.29803922 0.96470588 0.98823529 0.43921569]\n",
      " [0.         0.33333333 0.98823529 0.90196078 0.09803922]\n",
      " [0.         0.33333333 0.98823529 0.8745098  0.        ]\n",
      " [0.         0.33333333 0.98823529 0.56862745 0.        ]\n",
      " [0.         0.3372549  0.99215686 0.88235294 0.        ]]\n",
      "A closeup of a sample patch:\n"
     ]
    },
    {
     "data": {
      "image/png": "[encoded data removed]",
      "text/plain": [
       "<Figure size 432x288 with 1 Axes>"
      ]
     },
     "metadata": {
      "needs_background": "light"
     },
     "output_type": "display_data"
    },
    {
     "name": "stdout",
     "output_type": "stream",
     "text": [
      "And the whole sample:\n"
     ]
    },
    {
     "data": {
      "image/png": "[encoded data removed]",
      "text/plain": [
       "<Figure size 432x288 with 1 Axes>"
      ]
     },
     "metadata": {
      "needs_background": "light"
     },
     "output_type": "display_data"
    },
    {
     "name": "stdout",
     "output_type": "stream",
     "text": [
      "y_train [shape (50000,)] 10 samples:\n",
      " [5 0 4 1 9 2 1 3 1 4]\n"
     ]
    }
   ],
   "source": [
    "# X contains rgb values divided by 255\n",
    "print(\"X_train [shape %s] sample patch:\\n\" % (str(X_train.shape)), X_train[1, 15:20, 5:10])\n",
    "print(\"A closeup of a sample patch:\")\n",
    "plt.imshow(X_train[1, 15:20, 5:10], cmap=\"Greys\")\n",
    "plt.show()\n",
    "print(\"And the whole sample:\")\n",
    "plt.imshow(X_train[1], cmap=\"Greys\")\n",
    "plt.show()\n",
    "print(\"y_train [shape %s] 10 samples:\\n\" % (str(y_train.shape)), y_train[:10])"
   ]
  },
  {
   "cell_type": "markdown",
   "metadata": {},
   "source": [
    "# Linear model\n",
    "\n",
    "Your task is to train a linear classifier $\\vec{x} \\rightarrow y$ with SGD using TensorFlow.\n",
    "\n",
    "You will need to calculate a logit (a linear transformation) $z_k$ for each class: \n",
    "$$z_k = \\vec{x} \\cdot \\vec{w_k} + b_k \\quad k = 0..9$$\n",
    "\n",
    "And transform logits $z_k$ to valid probabilities $p_k$ with softmax: \n",
    "$$p_k = \\frac{e^{z_k}}{\\sum_{i=0}^{9}{e^{z_i}}} \\quad k = 0..9$$\n",
    "\n",
    "We will use a cross-entropy loss to train our multi-class classifier:\n",
    "$$\\text{cross-entropy}(y, p) = -\\sum_{k=0}^{9}{\\log(p_k)[y = k]}$$ \n",
    "\n",
    "where \n",
    "$$\n",
    "[x]=\\begin{cases}\n",
    "       1, \\quad \\text{if $x$ is true} \\\\\n",
    "       0, \\quad \\text{otherwise}\n",
    "    \\end{cases}\n",
    "$$\n",
    "\n",
    "Cross-entropy minimization pushes $p_k$ close to 1 when $y = k$, which is what we want.\n",
    "\n",
    "Here's the plan:\n",
    "* Flatten the images (28x28 -> 784) with `X_train.reshape((X_train.shape[0], -1))` to simplify our linear model implementation\n",
    "* Use a matrix placeholder for flattened `X_train`\n",
    "* Convert `y_train` to one-hot encoded vectors that are needed for cross-entropy\n",
    "* Use a shared variable `W` for all weights (a column $\\vec{w_k}$ per class) and `b` for all biases.\n",
    "* Aim for ~0.93 validation accuracy"
   ]
  },
  {
   "cell_type": "code",
   "execution_count": 6,
   "metadata": {},
   "outputs": [
    {
     "name": "stdout",
     "output_type": "stream",
     "text": [
      "(50000, 784)\n",
      "(10000, 784)\n"
     ]
    }
   ],
   "source": [
    "X_train_flat = X_train.reshape((X_train.shape[0], -1))\n",
    "print(X_train_flat.shape)\n",
    "\n",
    "X_val_flat = X_val.reshape((X_val.shape[0], -1))\n",
    "print(X_val_flat.shape)"
   ]
  },
  {
   "cell_type": "code",
   "execution_count": 7,
   "metadata": {},
   "outputs": [
    {
     "name": "stdout",
     "output_type": "stream",
     "text": [
      "(50000, 10)\n",
      "[[0. 0. 0. 0. 0. 1. 0. 0. 0. 0.]\n",
      " [1. 0. 0. 0. 0. 0. 0. 0. 0. 0.]\n",
      " [0. 0. 0. 0. 1. 0. 0. 0. 0. 0.]] [5 0 4]\n"
     ]
    }
   ],
   "source": [
    "import keras\n",
    "\n",
    "y_train_oh = keras.utils.to_categorical(y_train, 10)\n",
    "y_val_oh = keras.utils.to_categorical(y_val, 10)\n",
    "\n",
    "print(y_train_oh.shape)\n",
    "print(y_train_oh[:3], y_train[:3])"
   ]
  },
  {
   "cell_type": "code",
   "execution_count": 27,
   "metadata": {},
   "outputs": [],
   "source": [
    "# run this again if you remake your graph\n",
    "s = reset_tf_session()"
   ]
  },
  {
   "cell_type": "code",
   "execution_count": 75,
   "metadata": {},
   "outputs": [
    {
     "name": "stdout",
     "output_type": "stream",
     "text": [
      "W: (784, 10), b: (10,)\n"
     ]
    }
   ],
   "source": [
    "# run this again if you remake your graph\n",
    "s = reset_tf_session()\n",
    "\n",
    "## Model parameters: W and b\n",
    "W = tf.get_variable(dtype=tf.float32, shape=(X_train_flat.shape[1], y_train_oh.shape[1]), name=\"variable_weights\")\n",
    "# b = tf.get_variable(dtype=tf.float32, shape=(1, y_train_oh.shape[1]), name=\"variable_bias\")\n",
    "b = tf.get_variable(dtype=tf.float32, shape=(y_train_oh.shape[1],), name=\"variable_bias\")\n",
    "\n",
    "print(\"W: {}, b: {}\".format(W.shape, b.shape))"
   ]
  },
  {
   "cell_type": "code",
   "execution_count": 76,
   "metadata": {},
   "outputs": [
    {
     "name": "stdout",
     "output_type": "stream",
     "text": [
      "inputX: (None, 784), input_y: (None, 10)\n"
     ]
    }
   ],
   "source": [
    "# Placeholders for the input data\n",
    "input_X = tf.placeholder(dtype=tf.float32, shape=(None, X_train_flat.shape[1]))\n",
    "input_y = tf.placeholder(dtype=tf.float32, shape=(None, y_train_oh.shape[1]))\n",
    "\n",
    "print(\"inputX: {}, input_y: {}\".format(input_X.shape, input_y.shape))"
   ]
  },
  {
   "cell_type": "code",
   "execution_count": 77,
   "metadata": {},
   "outputs": [],
   "source": [
    "# Compute predictions\n",
    "\n",
    "# logits for input_X, resulting shape should be [input_X.shape[0], 10]\n",
    "logits = input_X @ W + b\n",
    "\n",
    "# apply tf.nn.softmax to logits\n",
    "probas = tf.nn.softmax(logits)\n",
    "\n",
    "# apply tf.argmax to find a class index with highest probability\n",
    "classes = tf.argmax(probas, axis=1)\n",
    "\n",
    "\n",
    "# Loss should be a scalar number: average loss over all the objects with tf.reduce_mean().\n",
    "# Use tf.nn.softmax_cross_entropy_with_logits on top of one-hot encoded input_y and logits.\n",
    "# It is identical to calculating cross-entropy on top of probas, but is more numerically friendly (read the docs).\n",
    "loss = tf.reduce_mean(tf.nn.softmax_cross_entropy_with_logits(logits=logits, labels=input_y))\n",
    "\n",
    "# Use a default tf.train.AdamOptimizer to get an SGD step\n",
    "step = tf.train.AdamOptimizer(0.01).minimize(loss)"
   ]
  },
  {
   "cell_type": "code",
   "execution_count": 78,
   "metadata": {},
   "outputs": [
    {
     "name": "stdout",
     "output_type": "stream",
     "text": [
      "W: (784, 10), b: (10,)\n",
      "inputX: (None, 784), input_y: (None, 10)\n",
      "logits: (None, 10)\n"
     ]
    }
   ],
   "source": [
    "print(\"W: {}, b: {}\".format(W.shape, b.shape))\n",
    "print(\"inputX: {}, input_y: {}\".format(input_X.shape, input_y.shape))\n",
    "print(\"logits: {}\".format(logits.shape))"
   ]
  },
  {
   "cell_type": "code",
   "execution_count": 79,
   "metadata": {
    "scrolled": false
   },
   "outputs": [
    {
     "data": {
      "text/html": [
       "<img src=\"data:image/jpeg;base64,iVBORw0KGgoAAAANSUhEUgAAA2AAAAEgCAYAAADSVRDhAAAABHNCSVQICAgIfAhkiAAAAAlwSFlzAAALEgAACxIB0t1%2B/AAAADh0RVh0U29mdHdhcmUAbWF0cGxvdGxpYiB2ZXJzaW9uMy4yLjIsIGh0dHA6Ly9tYXRwbG90bGliLm9yZy%2BWH4yJAAAgAElEQVR4nOzde3yO9f/A8de9s9nGNqedbHbAzGbYmHKOnBeRcxRSonyVHBLp9FORUkSoREVyLnIskjDHNIdsGDtmmx3ZeZ/fH1cu7nYgh814Px%2BP67H7vq7PdV2f6zb3vff9/lzvj0EppRBCCCGEEEIIcdeZlHcHhBBCCCGEEOJBIQGYEEIIIYQQQpQRCcCEEEIIIYQQooxIACaEEEIIIYQQZUQCMCGEEEIIIYQoIxKACSGEEEIIIUQZkQBMCCGEEEIIIcqIBGBCCCGEEEIIUUYkABNCCCGEEEKIMiIBmBBCCCGEEEKUEQnAhBBCCCGEEKKMSAAmhBBCCCGEEGVEAjAhhBBCCCGEKCMSgAkhhBBCCCFEGZEATAghhBBCCCHKiARgQgghhBBCCFFGJAATQgghhBBCiDIiAZgQQgghhBBClBEJwIQQQgghhBCijEgAJoT4z3bu3Imrq2t5d0MIIYQQosKRAEyIe1B%2Bfn55d%2BG23Q/XIIQQFY1SisLCwvLuhhCiFBKACVHGoqOjefzxx6levTqOjo6MGTOGJUuW8PDDDzNu3DgcHR2ZPn06aWlpDBkyhOrVq%2BPu7s7bb7%2Btf6hGRkbSpk0bqlSpQrVq1ejXrx%2BgffCOGzeOGjVqYGdnh7%2B/P%2BHh4SX25ccffyQwMJCqVavy0EMPcezYMX2bh4cHs2bNIiAggCpVqtCvXz%2Bys7O5fPkyXbp0IS4uDhsbG2xsbIiLi2P69On06dOHwYMHY2dnx5IlS4iLiyM0NBQHBwe8vb1ZtGiRfvyr7fv164etrS1NmjThjz/%2BAGDmzJn07t3bqK8vvvgiY8eOvWP/DkIIcTe9%2B%2B67eHl5YWtrS4MGDVi7dq2%2BbdGiRfj6%2BurbDh8%2BDBT/%2BQDa%2B%2BXgwYP1/aOiojAYDPoXXW3btmXKlCk8/PDDWFtbc/bsWb788kv9HJ6ennz22WdG/Vu/fj2BgYHY2dnh5eXF5s2b%2Bf7772natKlRu9mzZ/PYY4/dlddIiAeWEkKUmfz8fBUQEKD%2B97//qczMTJWVlaV2796tvvzyS2Vqaqo%2B/vhjlZeXp65cuaKefPJJFRoaqtLT09W5c%2BeUj4%2BPWrx4sVJKqf79%2B6u3335bFRQU6MdQSqnNmzerJk2aqJSUFFVYWKhOnDih4uLiiu3L4cOHVfXq1dW%2BfftUfn6%2BWrJkiXJ3d1fZ2dlKKaXc3d1VcHCwio2NVcnJyap%2B/fpq/vz5SimlfvnlF%2BXi4mJ0vNdff12ZmZmptWvXqoKCAnXlyhXVqlUrNWrUKJWVlaWOHDmiqlWrpnbs2GHU/vvvv1e5ublq5syZysPDQ%2BXm5qq4uDhlbW2tUlJSlFJK5eXlqerVq6uDBw/e%2BX8UIYS4C1auXKliY2NVQUGBWrFihbK2tlZxcXFq5cqVytnZWYWFhanCwkIVERGhoqKiSvx8UEp7vxw0aJB%2B7HPnzilA5eXlKaWUatOmjXJzc1Ph4eEqLy9P5ebmqh9//FFFRkaqwsJCtXPnTlWpUiV16NAhpZRS%2B/fvV3Z2dmrr1q2qoKBAxcTEqJMnT6rs7Gxlb2%2BvTpw4oZ8rMDBQrVq1qgxfOSHuf5IBE6IMhYWFERcXx8yZM6lcuTJWVla0bNkSAGdnZ1544QXMzMywsLBgxYoVzJgxA1tbWzw8PHj55ZdZtmwZAObm5pw/f564uDijY5ibm5ORkcGpU6dQSuHr64uTk1OxfVm4cCHPPvsszZs3x9TUlKFDh2Jpacm%2Bffv0Ni%2B%2B%2BCLOzs44ODjQo0cPjh49Wur1tWjRgp49e2JiYkJSUhJ79uzhvffew8rKisDAQEaMGMHSpUv19k2bNqVPnz6Ym5vz0ksvkZ2dzb59%2B3BycqJ169Z8//33AGzevJlq1aoV%2BWZWCCHuVU888QTOzs6YmJjQr18/fHx8CAsLY/HixUyYMIHg4GAMBgPe3t64u7uX%2BvlwM5566in8/PwwMzPD3Nycbt264eXlhcFgoE2bNjz66KPs3r0bgM8//5xhw4bRsWNHTExMcHFxoX79%2BlhaWtKvXz%2B%2B/vprAI4fP05UVBTdu3e/K6%2BREA8qCcCEKEPR0dG4u7tjZmZWZJubm5v%2BOCkpiby8PNzd3fV17u7uxMbGAvD%2B%2B%2B%2BjlKJZs2b4%2BfnxxRdfANC%2BfXvGjBnD6NGjqVGjBiNHjiQ9PZ0LFy7owwVtbGwAOH/%2BPB988AFVq1bVl%2BjoaOLi4vRz1qpVS39sbW1NZmZmqdd3/TXExcXh4OCAra1tsdfw7/YmJia4urrq5x86dKj%2BR8DXX3/Nk08%2BWeq5hRDiXrJ06VJ9iHfVqlUJDw8nKSmJ6OhovLy8irQv7fPhZlz/fgrw008/ERISgoODA1WrVmXTpk0kJSXp5yquD6C993777bcopVi2bBl9%2B/bF0tLylvokhCieBGBClCE3NzcuXLhQbIEKg8GgP65WrZqe5brqwoULuLi4AFpgtGjRIuLi4vjss894/vnniYyMBLSs1aFDhzhx4gSnT59m5syZ1K5dm8zMTH252pcpU6aQmpqqL1euXGHAgAE3vI7r%2B1rSemdnZy5dukRGRkax1wDaHwFXFRYWEhMTg7OzMwA9e/bk2LFjhIeH8%2BOPPzJo0KAb9ksIIe4F58%2Bf55lnnmHu3LkkJyeTmppKw4YNUUrh5ubGmTNniuxT2udD5cqVuXLliv48ISGhSJvr339zcnLo3bs348eP5%2B%2B//yY1NZWuXbuilNLPVVwfAEJCQrCwsGD37t18%2B%2B238uWXEHeBBGBClKFmzZrh5OTEpEmTuHz5MtnZ2ezZs6dIO1NTU/r27cuUKVPIyMjg/PnzzJ49W78J%2B/vvvycmJgYAe3t7DAYDJiYmHDhwgP3795OXl6cPYTExKf6/%2BTPPPMOCBQvYv38/SikuX77Mxo0bjQKmktSsWZPk5GTS0tJKbOPm5sZDDz3E5MmTyc7O5tixY3z%2B%2BedGN5IfOnSINWvWkJ%2Bfz0cffYSlpSUhISEAWFlZ0adPHwYOHEizZs2oXbv2DfslhBD3gsuXL2MwGKhevToAX375pV4QacSIEcyaNYtDhw6hlCIyMpLz58%2BX%2BvkQGBjIr7/%2ByoULF0hLS2PGjBmlnj83N5ecnByqV6%2BOmZkZP/30E1u3btW3Dx8%2BnC%2B//JIdO3ZQWFhIbGwsp06d0rcPGTKEMWPGYG5u/p%2BGQQohbo4EYEKUIVNTU3744QciIyOpXbs2rq6ufPfdd8W2/eSTT6hcuTKenp60bNmSgQMHMmzYMAAOHDhA8%2BbNsbGxITQ0lDlz5uDp6Ul6ejrPPPMM9vb2uLu74%2BjoyCuvvFLs8YOCgli0aBFjxozB3t4eb29vlixZclPXUb9%2BfQYMGICnpydVq1Y1GrZ4veXLlxMVFYWzszO9evXijTfeoEOHDvr2xx57jO%2B%2B%2Bw57e3uWLVvGmjVrMDc317cPHTqUP//8U76BFUJUKA0aNODll1%2BmRYsW1KxZkz///JOHH34Y0O4NmzJlCgMHDsTW1paePXty6dKlUj8fOnbsSL9%2B/QgICKBp06Y3vCfL1taWjz/%2BmL59%2B2Jvb8%2B3335LaGiovr1Zs2Z8%2BeWXjBs3jipVqtCmTRujERdPPvkk4eHhRl%2BYCSHuHIO6mo8WQogyNH36dCIjI/X7vIpz4cIF6tevT0JCAnZ2dmXYOyGEeHBlZWVRo0YNDh8%2BjI%2BPT3l3R4j7jmTAhBD3pMLCQmbPnk3//v0l%2BBJCiDI0f/58goODJfgS4i65tVI7QghxF12%2BfJmaNWvi7u7O5s2by7s7QgjxwPDw8EApxbp168q7K0Lct2QIohBCCCGEEEKUERmCKIQQQgghhBBlRAIwIYQQQgghhCgjcg9YBVOtWjU8PDzKuxtCCPGfRUVFkZSUVN7dKFPyni2EqMgexPftsiABWAXj4eHBwYMHy7sbQgjxnwUFBZV3F8qcvGcLISqyB/F9uyzIEEQhhBBCCCGEKCMSgAkhhBBCCCFEGZEATAghhBBCCCHKiNwDJkQ5ysvLIyYmhuzs7PLuihB3jJWVFa6urpibm5d3V4QQQoh7jgRgd8DmzZsZO3YsBQUFjBgxgkmTJhltX7JkCa%2B88gouLi4AjBkzhhEjRgDw1Vdf8fbbbwPw2muvMXTo0LLtvChXMTEx2Nra4uHhgcFgKO/uCHHblFIkJycTExNDnTp1yrs7QgghxD1HArDbVFBQwOjRo9m2bRuurq4EBwcTGhpKgwYNjNr169ePuXPnGq27dOkSb7zxBgcPHsRgMNC0aVNCQ0Oxt7cvy0sQ5Sg7O1uCL3FfMRgMODo6kpiYWN5dEUIIIe5JEoDdprCwMLy9vfH09ASgf//%2BrF%2B/vkgAVpwtW7bQsWNHHBwcAOjYsSObN29mwIABJe8UHX1H%2Bi3uHRJ8ifuN/E4LIUQ5KyyEtDS4dEn7WdySng5Kgbl58YuFRXlfxX1LinDcptjYWNzc3PTnrq6uxMbGFmm3evVqAgIC6NOnD9H/BFE3u6%2BRixehoODOdF488FJTU/n0009vad%2BuXbuSmpp6y%2BeeMWMG3t7e1KtXjy1bthTbZtCgQdSrV4%2BGDRsybNgw8vLyAFi/fj0BAQEEBgYSFBTEb7/9pu8zYcIE/Pz88PX15cUXX0QpBcChQ4fw9/fH29vbaH2/fv0IDAwkMDAQDw8PAgMDAdi2bRtNmzbF39%2Bfpk2b8vPPPxfpX2hoKA0bNtSfT58%2BHRcXF/14mzZtMmp/4cIFbGxsmDVrlr5uzpw5NGzYED8/Pz766CN9/SuvvEL9%2BvUJCAigV69e%2Bmudm5vL008/jb%2B/P40aNWLnzp36Pp07d6ZRo0b4%2Bfnx3HPPUfDPe0VJ/UpOTqZdu3bY2NgwZswYo74uX74cf39/AgIC6Ny5s0zEKYQQ5U0pSEmBP/6AH36AefNgyhR49lno3RvatAE/P6hZUwueHBzA2xuaNoX27aFXL3jqKRg7FqZNg1mz4IMP4N134a23tHWTJ8P48VqbUaPK%2B4rvW5IBKwM9evRgwIABWFpa8tlnnzF06NBi/5grycKFC1m4cOG1FZmZUKXKXeipeNBcDcCef/75Itvy8/MxMyv5LeLfwcV/ceLECVasWMHx48eJi4ujQ4cOnD59GlNTU6N2gwYN4uuvvwZg4MCBLF68mFGjRvHII48QGhqKwWDg2LFj9O3bl1OnTvH777%2BzZ88ejh07BkDLli3ZtWsXbdu2ZdSoUSxatIjmzZvTtWtXNm/eTJcuXfjuu%2B/087388stU%2Bef/VrVq1fjhhx9wdnYmPDycTp06GX1BsmbNGmxsbIpc27hx4xg/fnyx1/3SSy/RpUsX/Xl4eDiLFi0iLCwMCwsLOnfuTPfu3fH29qZjx47MmDEDMzMzJk6cyIwZM3jvvfdYtGgRAH/%2B%2BScXL16kS5cuHDhwABMTE1auXImdnR1KKfr06cP3339P//79S%2ByXlZUVb731FuHh4YSHh%2Bvr8/PzGTt2LCdOnKBatWpMmDCBuXPnMn369NL/YYUQQty63FyIjYULF0peMjNv/nh2dloQVqWKttjZXXt8dTExgby8kheZSP6ukADsNrm4uOgZLdCKKlwttnGVo6Oj/njEiBFMmDBB3/f6b69jYmJo27ZtkXOMHDmSkSNHAhBkMGhpYwnAxB0wadIkzpw5Q2BgIB07dqRbt25MnToVe3t7Tp06xenTp%2BnZsyfR0dFkZ2czduxY/XfRw8ODgwcPkpmZSZcuXWjZsiW///47Li4urF%2B/nkqVKpV43vXr19O/f38sLS2pU6cO3t7ehIWF0aJFC6N2Xbt21R83a9aMmJgYAKPA5/Lly/qQN4PBQHZ2Nrm5uSilyMvLo2bNmsTHx5Oenk5ISAgAQ4YMYd26dUbBkFKKlStX6l%2BONG7cWN/m5%2BdHVlYWOTk5WFpakpmZyezZs1m4cCF9%2B/a9qdd63bp11KlTh8qVK%2BvrTp48SfPmzbG2tgagTZs2rFmzhgkTJvDoo4/q7UJCQli1ahWgBa/t27cHoEaNGlStWpWDBw/SrFkz7OzsAC2Ays3NveFQwMqVK9OyZUsiIyON1iulUEpx%2BfJlHB0dSU9Px9vb%2B6auUwghKqz0dDhzxng5exZSU4sPXq4uBQWQlGS8JCZqP5OTtSDH2rr4xcICEhK04Co%2BXstylcbGBtzdoXZtbXFxgerVoVq1a4ujo7bciSGEQUG3fwxRhARgtyk4OJiIiAjOnTuHi4sLK1as4NtvvzVqEx8fj5OTEwAbNmzA19cXgE6dOvHqq6%2BSkpICwNatW5kxY8aNT5qefmcvQtwb7tZ9M6W8mb/77ruEh4dz9OhRAHbu3Mnhw4cJDw/XK9h98cUXODg4kJWVRXBwML179zb6UgEgIiKC5cuXs2jRIvr27cvq1asZPHgwCxYsAOC5554zah8bG6sHQ3Dj4bd5eXksW7aMOXPm6OvWrl3L5MmTuXjxIhs3bgSgRYsWtGvXDicnJ5RSjBkzBl9fXw4ePIirq2up59u9ezc1a9bEx8enyPlXr15NkyZNsLS0BGDq1Km8/PLLeuB0vblz57J06VKCgoL44IMPsLe3JzMzk/fee49t27YZDT9s2LAhU6ZMITk5mUqVKrFp0yaCivmw%2B%2BKLL%2BjXrx8AjRo1YsOGDQwYMIDo6GgOHTpEdHQ0zZo1A7T3lbCwMLp06UKfPn1K7VdJzM3NmT9/Pv7%2B/lSuXBkfHx/mzZtXYnshhLgnnToF69bBL79ATk7J7bKytEDrbg61vpm/3UxMwNX1WnBVuza4uRkHXFWq3L2/F0SZkQDsNpmZmTF37lw6depEQUEBw4YNw8/Pj2nTphEUFERoaCgff/wxGzZswMzMDAcHB5YsWQKAg4MDU6dOJTg4GIBp06bpBTlKlZZ2F69IPOiaNWtmVD78448/Zu3atQBER0cTERFRJACrU6eOfu9U06ZNiYqKAooGXrfq%2Beefp3Xr1rRq1Upf16tXL3r16sWvv/7K1KlT2b59O5GRkZw8eVLPlHXs2JHdu3eXmo27avny5cUWwDl%2B/DgTJ05k69atABw9epQzZ87w4Ycf6td51ahRo5g6dSoGg0EP0r744gumT5/OuHHjigxZ9PX1ZeLEiTz66KNUrlyZwMDAIsMw33nnHczMzBg0aBAAw4YN4%2BTJkwQFBeHu7s5DDz1ktM%2BWLVvIzs5m0KBB/Pzzz3Ts2LHEfpUkLy%2BP%2BfPnc%2BTIETw9PXnhhReYMWMGr7322g1fRyGEKDeFhRAWpgVd69bBX3/9t/2trMDTE7y8jBdHR8jI0P7%2BSk0tWszC1LRoFurqcvXvuqwsuHKl6JKdrd2zVbs2ODtDKUP/xf1D/pXvgK5duxoNlQJ488039cczZswoMbM1bNgwhg0b9t9OKAHY/elGww7KyPVD5Hbu3Mn27dvZu3cv1tbWtG3btthJo69mhgBMTU3Jysoq9Rw3M3T3qjfeeIPExEQ%2B%2B%2ByzYre3bt2as2fPkpSUxNq1awkJCdEDnS5durB3716efPJJPSgr7nz5%2BfmsWbOGQ4cOGR07JiaGXr16sXTpUry8vADYu3cvBw8exMPDg/z8fC5evEjbtm3ZuXMnNWvW1Pd95pln6N69OwD79%2B9n1apVTJgwgdTUVExMTLCysmLMmDEMHz6c4cOHA/Dqq68aZeqWLFnCjz/%2ByI4dO/ThhGZmZnz44Yd6m4ceeoi6desa9dvKyorHHnuM9evX07FjxxL7VZKrGdGr19y3b1/efffdUvcRQogykZ%2BvZZOuD4ASE2HbNtiwQRvOd5WDA/ToAd27a8FQSczNwcMDnJy0LNTdULXq3TmuqJAkAKuIZAiiuENsbW3JyMgocXtaWhr29vZYW1tz6tQp9u3bd0fOGxoaysCBA3nppZeIi4sjIiJCH0J3vcWLF7NlyxZ27NiByXUfipGRkXh5eWEwGDh8%2BDA5OTk4OjpSu3ZtFi1axOTJk1FKsWvXLv73v//h5OSEnZ0d%2B/bto3nz5ixdupQXXnhBP9727dupX7%2B%2BUfCTmppKt27dePfdd3n44Yf19aNGjWLUP5WhoqKi6N69u34v5/XDjdeuXatXSNy9e7e%2B//Tp042qDl68eJEaNWpw4cIF1qxZo7/Gmzdv5v3332fXrl1GQx2vXLmCUorKlSuzbds2zMzMaNCgAZmZmWRkZODk5ER%2Bfj4bN27UM4Yl9askLi4unDhxgsTERKpXr862bdv0odNCCPGfFRZqQVJpXzRevqzdA1XckpCg3UuVlnbjIhTu7tCzp7a0bCkZJXFPkt/KikgyYOIOcXR05OGHH6Zhw4Z06dKFbt26GW3v3LkzCxYswNfXl3r16hndt3UzSroHzM/Pj759%2B9KgQQPMzMyYN2%2BePoyua9euLF68GGdnZ5577jnc3d314hyPP/4406ZNY/Xq1SxduhRzc3MqVarEd999h8FgoE%2BfPvz888/4%2B/tjMBjo3LkzPXr0AODTTz/lqaeeIisriy5duhgV4FixYkWR4Ydz584lMjKSN998U89ob926lRo1apR4vRMmTODo0aMYDAY8PDxKzNpdr3fv3iQnJ2Nubs68efOo%2Bs%2B3pGPGjCEnJ4eOHTsCWiGOBQsWcPHiRTp16oSJiQkuLi4sW7YM0IqRhIaGkpOTQ2FhIe3atdNf99L65eHhQXp6Orm5uaxbt46tW7fSoEEDXn/9dVq3bo25uTnu7u760GkhxAOqoEDLDt3o/qP8fO3eq8OHteXIEW0p5cu%2B/8RgKL4gRlCQFnQ1aiT3SIl7nkGpe2Tck7gpQQYDB99/H155pby7Iu6AkydPSmZB3JeK%2B90OCgri4ANW0vhBvGZRwV26pN07deqU8XLmjLa9pGqA5uZw4oQ2R1UxQ9VxcNDalMTKShsCWNJSrZp2HhubuzdMUBQh72F3h2TAKiLJgAkhhBDidhQUwOnT1zJVhw9rAdTFi6Xvl5KiLaWpUweaNLm2NG6sFZoQQgASgFVMcg%2BYEEIIIW6WUlpW6/ffrw0LPHpUq8L3b9bWUL9%2B0cXHR6v2d33xi%2BuLYVy5AnXrQmDgtcp/QohiSQBWEUkGTAghhBClSU6GHTtg61Ztua7yrM7d3ThL5e%2BvzUNV2hC/q%2BXVhRC3TAKwikgyYEIIIYQArcJgZqb25eyZM1o59m3b4OBB46qD1atD27ZasYqrAde/5nQUQpQNCcAqIsmACSGEEA8GpbR7tTZuhN27ISmp6DDA4uqpWVhoZdgffVRbGjWS4hVC3CMkAKuIJAMmhBBC3L9ycmDXLi3o2rjxWgXCklSurFUIrFED2rXTAq5WrbT1Qoh7jnwVUhFJBkyUIxsbGwDi4uLo06dPsW3atm17w7K1OTk59OvXD29vb5o3b05UVFSRNtHR0bRr144GDRrg5%2BfHnDlz9G1Hjx4lJCSEwMBAgoKCCAsLAyAlJYVevXoREBBAs2bNCA8PB%2BCvv/4iMDBQX%2Bzs7Pjoo48AbXJkFxcXfdumTZv088yYMQNvb2/q1avHli1bbnisV155hfr16xMQEECvXr1ITU0FtEmbK1WqpO9z/dxohw4dwt/fH29vb1588UWuzg4ydepUAgICCAwM5NFHHyUuLg4ApRQvvvgi3t7eBAQEcPjwYf1YEyZMwM/PD19fX6NjfffddwQEBODn58fEiRP19ufPn%2BeRRx4hICCAtm3bEhMTo2/76quv8PHxwcfHh6%2B%2B%2Bsro37devXr6tVy8UdU0IR50SmkTEe/fD1u2wI8/wtq1sHIlfPMNLFkCixbBRx9pc1k5OkKnTvDxx1rw5eAAgwbBsmWwc6dWROPsWe0%2Br7w8bQhibKy2fvZs6NxZgi8h7mVKVChNQakaNcq7G%2BIOOXHiRHl34T%2BrXLnyDdu0adNGHThwoNQ28%2BbNU88%2B%2B6xSSqnly5ervn37FmkTFxenDh06pJRSKj09Xfn4%2BKjjx48rpZTq2LGj2rRpk1JKqY0bN6o2bdoopZQaP368mj59ulJKqZMnT6r27dsXOW5%2Bfr6qWbOmioqKUkop9frrr6uZM2cWaXf8%2BHEVEBCgsrOz1dmzZ5Wnp6fKz88v9VhbtmxReXl5SimlJkyYoCZMmKCUUurcuXPKz8%2Bv2NciODhY7d27VxUWFqrOnTvr15WWlqa3mTNnjv56bdy4UXXu3FkVFhaqvXv3qmbNmimllNqzZ4966KGHVH5%2BvsrPz1chISHql19%2BUUlJScrNzU1dvHhRKaXUkCFD1Pbt25VSSvXp00ctWbJEKaXUjh071ODBg5VSSiUnJ6s6deqo5ORkdenSJVWnTh116dIlpdTN/fsW97vdtGnTUve5Hz2I1/xA%2B/tvpbZtU2rBAqVeeUWpxx9XqlEjpWxtldLCsJtfGjVS6tVXldqzR6l/ve8IUVbkPezukCGIFZFkwMQdMmnSJNzc3Bg9ejSgZYJsbGx47rnneOyxx0hJSSEvL4%2B3336bxx57zGjfqKgounfvTnh4OFlZWTz99NP88ccf1K9fn6ysrBuee/369UyfPh2APn36MGbMGJRSGAwGvY2TkxNOTk4A2Nra4uvrS2xsLA0aNMBgMJD%2Bz3DctLQ0nJ2dAThx4gSTJk0CoH79%2BkRFRfH3339T87o5aHbs2IGXlxfu7u437GP//v2xtLSkTp06eHt7ExYWRosWLUo81qOPPqpvCwkJYdWqVaWeIz4%2BnvT0dEJCQgAYMmQI69ato0uXLtjZ2entLl%2B%2BrL8269evZ8iQIRgMBkJCQkhNTSU%2BPh6DwUB2dja5ubkopcjLy6NmzZqcPXsWHx8fqlevDkCHDh1YvXo1jzzyCCdOnGD27NkAtGvXjp49ewKwZcsWOnbsiMM/5aQ7duzI5s2bGTBgQKnXI8QDQymIjITffru2nD5dcns7O/Dy0ioImpsXv1hYaGXcu3bVqhEKIe5LEoBVRDk52mJpWd49EXeQ4Q3DjRvdAvV6MTdn/6Nfv37873//0wOwlStXsgqIPaAAACAASURBVGXLFqysrFi7di12dnYkJSUREhJCaGioUXB0vfnz52Ntbc3Jkyc5duwYTZo00beNGDGC5557jqCgIKN9YmNjcXNzA8DMzIwqVaqQnJxMtRLKG0dFRXHkyBGaN28OwEcffUSnTp0YP348hYWF/P777wA0atSINWvW0KpVK8LCwjh//jwxMTFGAdiKFSuKBBJz585l6dKlBAUF8cEHH2Bvb09sbKweGAG4uroSGxtrtF9xx7rqiy%2B%2BoF%2B/fvrzc%2BfO0bhxY%2Bzs7Hj77bdp1aoVsbGxuF73h9a/zzFlyhSWLl1KlSpV%2BOWXX4q8dtfv06JFC9q1a4eTkxNKKcaMGYOvry8pKSn89ddfREVF4erqyrp168jNzTV6vcaOHcvatWvJyMggOTm5xHNc9fTTT2Nqakrv3r157bXXSvzdEOK%2BoZQ2UfHWrdcCrn8Pv7W21qoLentrwdb1i6MjyP8TIQRyD1jFY2qq/ZRCHOIOaNy4MRcvXiQuLo4//vgDe3t73NzcUErx6quvEhAQQIcOHYiNjeXvv/8u8Ti//vorgwcPBiAgIICAgAB92%2BLFi4sEX/9VZmYmvXv35qOPPtKzQvPnz%2BfDDz8kOjqaDz/8kOHDhwNaVi81NZXAwEA%2B%2BeQTGjdujOnV/zdAbm4uGzZs4IknntDXjRo1ijNnznD06FGcnJx4%2BeWXb6pfxR3rqnfeeQczMzMGDRoEaNm8CxcucOTIEWbPns3AgQP1DF5p3nnnHaKjoxk0aBBz584ttW1kZCQnT54kJiaG2NhYfv75Z3bv3o29vT3z58%2BnX79%2BtGrVCg8PD/01mTVrFrt27aJx48bs2rULFxcXo9erON988w1//vknu3fvZvfu3SxbtuyG1yFEhVRQAHv2wCuvaJMMN2wIL70Ea9ZowVeNGtC7N3z4IRw4AKmpWmC2ZAlMnQoDB0Lz5lrWS4IvIcQ/JANW0Ziaah8I6enanB7ivlFapupueuKJJ1i1ahUJCQl6tuabb74hMTGRQ4cOYW5ujoeHB9nZ2Xf0vC4uLkRHR%2BPq6kp%2Bfj5paWk4FjMnTV5eHr1792bQoEE8/vjj%2BvqvvvpKL8rxxBNPMGLECADs7Oz48ssvAa1YRZ06dfD09NT3%2B%2Bmnn2jSpIlRRuz6x8888wzdu3c36uNVMTExuLi4lHosgCVLlvDjjz%2ByY8cOPTNkaWmJ5T9Z66ZNm%2BLl5cXp06dxcXExKnzx73NcNWjQILp27cobb7xRYr%2B%2B/vprQkJC9EIpXbp0Ye/evbRq1YoePXrQo0cPABYuXKgHWc7OzqxZswbQAt3Vq1dTtWpVXFxc2Llzp9E52rZtq78uoA0LHThwIGFhYQwZMqRIn4WokLKzYft2WLcOfvjBOMtVrRp066bNp9WypZbZksBKCPEfSQasorn6zbTcBybukH79%2BrFixQpWrVqlZ3LS0tKoUaMG5ubm/PLLL5w/f77UY7Ru3Zpvv/0WgPDwcI4dO3bD84aGhuqV9VatWkX79u2LDGNTSjF8%2BHB8fX156aWXjLY5Ozuza9cuAH7%2B%2BWd8fHwASE1N1YfXLV68mNatWxvdS7V8%2BfIiQwbj4%2BP1x2vXrqVhw4Z6H1esWEFOTg7nzp0jIiKCZs2alXqszZs38/7777Nhwwasra319YmJiRQUFABw9uxZIiIi8PT0xMnJCTs7O/bt24dSiqVLl%2Br320VEROj7r1%2B/nvr16%2Bv9Wrp0KUop9u3bR5UqVXBycqJ27drs2rWL/Px88vLy2LVrF76%2BvgB6pcKUlBQ%2B/fRTPWBNSkqisLAQ0Co%2BDhs2DIBOnTqxdetWUlJSSElJYevWrXTq1In8/HySkpIALTj%2B8ccf9ddLiAohLw/On9fm1PrmG5gxA0aN0gIrf3%2Bt4mCPHvD551rwVaeOlvX69VdISNCyW089pQ0zlOBLCHEryq/%2Bh7gVTW1stOpIv/xS3l0Rd8C9UgWxYcOGqm3btvrzxMREFRISoho2bKieeuopVb9%2BfXXu3Dml1LUqiNdX9bty5Yrq16%2Bfql%2B/vurVq5dq1qyZXiVv%2BPDhxVbMy8rKUn369FFeXl4qODhYnTlzRimlVGxsrOrSpYtSSqndu3crQPn7%2B6tGjRqpRo0aqY0bN%2BrbmjRpogICAlSzZs3UwYMHlVJK/f7778rHx0fVrVtX9erVS6/cp5RSmZmZysHBQaWmphr1ZfDgwaphw4bK399f9ejRQ8XFxenb3n77beXp6anq1q2rVycs7VheXl7K1dVV7%2B/VyoWrVq1SDRo0UI0aNVKNGzdWGzZs0Pc5cOCA8vPzU56enmr06NGqsLBQKaXU448/rvz8/JS/v7/q3r27iomJUUopVVhYqJ5//nnl6empGjZsqL%2B%2B%2Bfn5auTIkap%2B/frK19dXjRs3Tj9H//79la%2Bvr/L19VXLly/X13///ffK29tb%2Bfj4qOHDh6vs7Gx92%2Beff668vLyUl5eX%2BuKLL/TrbtKkifL391cNGjRQL774YpHKkEpJFcSrHsRrvmcUFip17pxSGzYo9c47SvXvr5Sfn1JmZjeuQNikiVJvvqnUsWPacYR4QMl72N1hUKq46dPFvSqoalUOpqVpQyP%2BVZVOVDwnT57UMxRC3E%2BK%2B90OCgq64fxw95sH8ZrL1fnzMHeudt9WeDhkZBRtYzCAkxPUrl384u6uZcGEEPIedpfIPWAVjRThEEKIG9q8eTNjx46loKCAESNG6FMTXHX%2B/HmGDRtGYmIiDg4OfP3117i6unL%2B/Hl69epFYWEheXl5vPDCC/qk2YcOHeKpp54iKyuLrl27MmfOHKn%2BeK/48094/31Yvly7T/qqGjW0YYXXLw0ayCTFQohyJQFYRSP3gAkhRKkKCgoYPXo027Ztw9XVleDgYEJDQ2nQoIHeZvz48QwZMoShQ4fy888/M3nyZJYtW4aTkxN79%2B7F0tKSzMxMGjZsSGhoKM7OzowaNYpFixbRvHlzunbtyubNm%2BnSpUs5Xqngt9/gvffgxx%2B156amMHgwDBkCjRppAZgQQtxjpAhHRSMBmBBClCosLAxvb288PT2xsLCgf//%2BrF%2B/3qjNiRMnaN%2B%2BPaBNQH11u4WFhV6tMicnRy9Qcv2E2QaDQZ8wW5SDwkIt4GrZElq10h5bWcGYMdrEyMuWQceOEnwJIe5ZEoBVNDIE8b4jt2GK%2B015/07faBJpuDYBNWA0ATVAdHQ0AQEBuLm5MXHiRJydnW84YbYoAzk58MUXEBCgVSncsweqVoXXXtPu/frkE/DwKO9eCiHEDUkAVtFIBuy%2BYmVlRXJycrn/wSrEnaKUIjk5GSsrq/LuSqlKm4Dazc2NY8eOERkZyVdffVXqJOTFWbhwIUFBQQQFBZGYmHg3uv9gSUqCt9/WimMMHw7Hj4OzM3zwAVy4AG%2B9JdkuIUSFIveAVTSSAbuvuLq6EhMTI3%2BkifuKlZWVUbaorN1oAm0oeQLqf7dp2LAhu3fv5uGHH76pCbMBRo4cyciRIwGtgpi4RRER8OGH2rxbWVnauoAAePll6N8fLCzKtXtCCHGrJACraCQDdl8xNzenTp065d0NIe4rwcHBREREcO7cOVxcXFixYoU%2BUfhVSUlJODg4YGJiYjQBdUxMDI6OjlSqVImUlBR%2B%2B%2B03xo0bZzRhdvPmzVm6dCkvvPBCeVze/a2wEH75RRtOuGGDNisXQJcuWuDVvr1MfiyEqPAkAKtoJAMmhBClMjMzY%2B7cuXTq1ImCggKGDRuGn58f06ZNIygoiNDQUHbu3MnkyZMxGAy0bt2aefPmAdr8ZS%2B//DIGgwGlFOPHj8ff3x%2BATz/9VC9D36VLF6mAeCfFxmqZrs8/h3PntHUWFvDkkzBuHPj5lWv3hBDiTpKJmCuYoAYNOHjypDaXybFj5d0dIYS4aQ/ihJ4P4jXftLw82LQJFi/Wfv5TcZLatWHYMHjuOahZs3z7KMQDTt7D7g7JgFU0kgETQghRkSUmwuzZWsYrIUFbZ24OvXtrRTY6dLj2WSeEEPchqYJ4B2zevJl69erh7e3Nu%2B%2B%2BW2K71atXYzAY9G8SoqKiqFSpEoGBgQQGBvLcc8/d%2BGRyD5gQQoiKSClYuRIaNIB339WCL19frZphbKy2rVMnCb6EEPc9yYDdpoKCAkaPHs22bdtwdXUlODiY0NBQGjRoYNQuIyODOXPm0Lx5c6P1Xl5eHD169OZPeH0GTCm5GVkIIcS97%2B%2B/YfRoWL1ae96%2BvVY%2BvkUL%2BRwTQjxwJAN2m8LCwvD29sbT0xMLCwv69%2B/P%2BvXri7SbOnUqEydOvP25cQwGqFRJGyt/%2BfLtHUsIIYS4m5SC5cu1IhqrV4ONDXz2GWzfDg89JMGXEOKBJAHYbYqNjcXNzU1/7urqSmxsrFGbw4cPEx0dTbdu3Yrsf%2B7cORo3bkybNm3YvXv3zZ20ShXtp9wHJoQQ4l6VkACPPw4DB0JyMnTsCOHhMHKkBF5CiAeaDEG8ywoLC3nppZdYsmRJkW1OTk5cuHABR0dHDh06RM%2BePTl%2B/Dh2dnZG7RYuXMjChQsBtAl77ey0D7a0NHB2LovLEEIIIW6OUvDtt/Dii3DpEtjaakU3hg%2BXwEsIIZAM2G1zcXEhOjpafx4TE4OLi4v%2BPCMjg/DwcNq2bYuHhwf79u0jNDSUgwcPYmlpiaOjIwBNmzbFy8uL06dPFznHyJEjOXjwIAcPHqR69eqSARNCCHHvev11GDxYC746ddKyXiNGSPAlhBD/kADsNgUHBxMREcG5c%2BfIzc1lxYoVhIaG6turVKlCUlISUVFRREVFERISwoYNGwgKCiIxMZGCggIAzp49S0REBJ6enjc%2B6dUMmVRCFEIIcS95802tuIapKSxYAD/9pM3rJYQQQidDEG%2BTmZkZc%2BfOpVOnThQUFDBs2DD8/PyYNm0aQUFBRsHYv/36669MmzYNc3NzTExMWLBgAQ4ODjc%2BqWTAhBBC3GveeUfLfpmYwLJlMGBAefdICCHuSRKA3QFdu3ala9euRuvefPPNYtvu3LlTf9y7d2969%2B79308oGTAhhBD3kvfeg9de04YZfvWVBF9CCFEKGYJYEUkGTAghxL3igw9g0iQt%2BPryS%2B3%2BLyGEECWSAKwikgyYEEKIe8FHH8H48drjxYth6NDy7Y8QQlQAEoBVRJIBE0IIUd7mzoVx47THn30Gw4aVb3%2BEEKKCkACsIpIMmBBCiPI0fz688IL2%2BNNPtcmVhRBC3BQJwCoiyYAJIYQoD6mp2jDD55/Xnn/yCYwaVb59EkKICkaqIFZEkgETQghR1rZt04YZxsSAlRV8/DE880x590oIISocyYBVRFczYBKACSGEuNsuX4bRo%2BHRR7Xgq1kzOHpUgi8hhLhFEoBVRDIEUQghRFn4/XcIDNTu8zI31yZb3rMH6tUr754JIUSFJUMQKyIZgiiEEOJuysmBadNg1iwoLAR/f1i2DBo1Ku%2BeCSFEhScBWEUkGTAhhBB3S1ISdO4Mhw6BiQlMngyvvw6WluXdMyGEuC9IAFYRVa4MBoM2Lj8/H8zkn1EIIcQdEB8PHTrAiRNQpw588w20aFHevRJCiPuK/OVeEZmYaMMQ09IgIwPs7cu7R0IIISq68%2BfhkUfgzBlo2FCrelirVpmd/kLaBTae3sjGiI2cTTmLXw0/mtRqQhMnbaleuXqZ9aU8KKVIvJKIlZkVtha2GAyG8u6SEOIukQCsoroagKWlSQAmhBDi9kREaMFXdDQ0bQpbtoCj4y0dKvlKMrsv7MbC1AInGyecbJ2obl0dUxNTo3b5hfnsjd7Lxggt6Aq/GG60/WTSSVadWKU/d7Vz1YKxWk14xPMRWtZueUv9u1uSryRzJOEIqdmp1LKppV%2B7tbl1kbZKKaJSozgcf1hbErSfFy9fBMDa3Frf38nGSX9cs3JNzE3NS%2ByDmYkZNSvX1Pezs7STQE6Ie5AEYBVVlSraB6XcByaEEOJ2HD%2BuDTtMSICHHoJNm67da3wTlFL88fcfevZqf%2Bx%2BClWhURtTgyk1KtfQAwMLUwt2Ru0kJTtFb2NjYcOjXo/S1bsrATUDOJF4Qg9OjsQfISY9hpj0GDb8tYHpu6YTWi%2BU2Y/OxsvB6469FDcrITPhWvD0z3I%2B7Xyxbe0s7fQAqpZNLS5evsiR%2BCNG136VrYUtBaqAK3lXOJNyhjMpZ26rn5XMKl0L4mydCKwZyAvNX8DO0u62jiuEuD0SgFVUUglRCCHE7Tp8WJvfKzkZ2reH9evBxuaGu13Ovcz2s9vZGLGRTRGbiM2I1beZm5jTxr0N5qbmxGfEE58ZT9KVJOIztcfXq%2BtYl24%2B3ejm041W7q2wMLXQtwW7BDM0cCgAhaqQiOQIDscfJiw2jMVHFrPhrw1sjtzM%2BBbjmdxqMjYWN%2B73rUq%2BkszmyM1sjNjIzqidRa4DtGAnsFYgNSrXICEzgfjMeBIyE0jPSSc9J52/kv8yal/dujpNnZsaDbP0qOoBQEZuhv7aXf/z4pWLFBQWlNjPnIIc7dz/7HMl7wpnU85yNuUsAKtOrGLugbm81%2BE9BgcMxsQgsxEJUR4kAKuopBKiEEKI27F3L3Tpon2R160bfP89VKpU6i4XL1/kw70fMu/APDJyM/T1TjZOdPXpSjefbnTw7ICtpa3RfrkFufyd%2BbceSKTnpNPCrQXeDt431VUTgwn1qtWjXrV6DPAfwISHJzB5x2S%2B%2BuMr/u%2B3/%2BOrP77i/Y7vM6DhgBKH3CmliMuII/xiOFZmVnpm6N99vdq2tKyenaUdTZya0LhWYz14qudYr8gwS6UUKdkpRkFUFasqNHVqirOtc4l9tbO0w87SjnrVbn2%2BNaUUmbmZ%2Bnlj0mOYe2Au%2B2L2MXTdUOYfnM/HnT8m2CX4ls8hhLg1EoBVVJIBE0IIcat27dKCrsuXoU8frdqhhUWJzeMz4pn5%2B0wWHFxAVn4WAM1cmtGjbg%2B6%2BnSlca3Gpd5rZGFqgVsVN9yquN2R7jvZOrGk5xKeC3qOF356gYNxBxm0ZpAeVATWCiz1HqvrVTavrAdjzrbOWJpZsuPsjiJZvfZ12tPNpxudvTtT17HuTWWPDAYDDpUccKjkgF8Nvzty7TfLYDBga2mLraUtdR3rAjDAfwDfHPuGCdsnsC9mH80XN%2BfpwKf5v0f%2Bj5o2Ncu0f0I8yCQAq6gkAyaEEKIUl3MvE5cRV2QYW3xCBAm//EDuE/kEVK1Hk8GdaZJyCt9qvkUKPESnRfPenvdYfHgxOQU5AHSv253XWr1Gc9fm5XFZRkJcQ9g/Yj9Lji5h0vZJ/HbhN5oubEoVqyqkZqcWaV/VqioBNQPIL8zXX5PLeZeJvBRJ5KVIo7Y3yupVRCYGE55s9CQ96/fk7V/f5sN9H/LF0S9YdXIV09tMZ0yzMaUW%2BRBC3BkSgFVUkgETQghRDKUU7%2Bx%2Bhzd2vUF%2BYX7xjdy1H7v4C34cAYClqSX%2BNf1pUqsJjZ0aczj%2BMEuOLiGvMA%2BAx30f57VWr9HYqXFZXMZNMzGYMKzxMB73fZw3d73JJ2GfkJqdSo3KNfSqidffY3V9pk4pRVpOmlGAmpaTRohryA2zehWZraUt73V8j%2BFNhjNuyzg2RWzipa0vMXH7RGra1Cy2AqOTjRO%2B1X3xtPeUe8eEuE0SgFVUkgETQgjxL0opXt3xKu/ueRcDBjyqehj/Mb19H7V2HsLJphYmH3/C0cxIfZjemZQzHIw7yMG4g/rxDBjo37A/U1pNoWGNhuV4ZTdW1aoqszvNZnLLyeQW5JZ6j9VVBoOBqlZVqWpVFd/qvmXU03tHXce6bBy4kY2nNzJh%2BwROJJ7Qq02WxM7Szujet5LufxNClEwCsIpKMmBCCFGizZs3M3bsWAoKChgxYgSTJk0y2n7%2B/HmGDRtGYmIiDg4OfP3117i6unL06FFGjRpFeno6pqamTJkyhX79%2BgHw1FNPsWvXLqr88wXYkiVLCAwMLPNrK4lSivFbxzN732xMDaYs772cJ/yeuNbgiy/gw3lgZQV7f4LAQDpft39adhpHE47q90zZWtgytvnY2yoEUR7u9wmb74ZudbvRrW43svKy9AqO/67CGJsRy59//0l8Zjy7zu9i1/ld%2Bv7W5tYE1grkqUZPMTRwqFE1SyFEURKAVVSSARNCiGIVFBQwevRotm3bhqurK8HBwYSGhtKgQQO9zfjx4xkyZAhDhw7l559/ZvLkySxbtgxra2uWLl2Kj48PcXFxNG3alE6dOlG1alUAZs6cSZ8%2Bfcrr0kpUqAoZ%2B9NY5h6Yi7mJOSufWEnP%2Bj2vNTh8GJ5/Xns8fz4UEzhWsapCG482tPFoU0a9FveaSuaVqGNfhzr2dUpsE58Rz5GEI0XmQPs9%2Bnd%2Bj/6dt359i0ktJzGs8TCszKzKsPdCVBwSgFVUkgETQohihYWF4e3tjaenJwD9%2B/dn/fr1RgHYiRMnmD17NgDt2rWjZ08tWKlbt67extnZmRo1apCYmKgHYPeiQlXIqB9HsfDwQixMLVjTdw3d6na71uDSJejdG3JyYORIeOqpcuurqPicbLUhrV19uurrkq8k81PkT8z4bQYnEk8wetNo3v71bV556BWeDXoWa3PrcuyxEPceuYuyopIMmBBCFCs2NhY3t2vlzl1dXYmNjTVq06hRI9asWQPA2rVrycjIIDk52ahNWFgYubm5eHl56eumTJlCQEAA48aNIycn5y5exc0pKCxg%2BIbhLDy8ECszKzb032AcfBUWwpNPQlQUBAXBnDnl1ldx/3K0dmRwwGD%2BHPUn3z/xPY1qNiI%2BM56Xtr6Ex0cevPfbe2TkZNz4QEI8ICQAq6gkAyaEELds1qxZ7Nq1i8aNG7Nr1y5cXFwwNb1WRCA%2BPp4nn3ySL7/8EhMT7aNyxowZnDp1igMHDnDp0iXee%2B%2B9Yo%2B9cOFCgoKCCAoKIjEx8a5dQ35hPkPXDWXJ0SVYm1uzceBGOnl3Mm70zjuwaRM4OMCqVdr9X0LcJSYGE/o06MORZ4%2Bwof8Ggp2DSbySyKQdk3CZ7UKHpR2YsG0CK8JXcDr5tNHk1veqS1mXOJ18mvScdJRS5d0dcZ%2BQIYgVlWTAhBCiWC4uLkRHR%2BvPY2JicHFxMWrj7OysZ8AyMzNZvXq1PswwPT2dbt268c477xASEqLv4%2BTkBIClpSVPP/00s2bNKvb8I0eOZOTIkQAEBQXduQu7Tn5hPoPWDGLl8ZXYWNiwaeAmWrm3Mm60ZQu8/joYDPDtt%2BDuflf6IsS/GQwGetTrQfe63dl6Zitv/foWe6L3sOPcDnac26G3s7GwoXGtxjSu1RhvB%2B9Sy9vbWNhcq%2BZp64RjJcc7Pk1AQmaC0b1tV%2B9vu8ra3LrYEv2e9p40cWqCl73XfTt1gbizJACrqCQDJoQQxQoODiYiIoJz587h4uLCihUr%2BPbbb43aJCUl4eDggImJCTNmzGDYsGEA5Obm0qtXL4YMGVKk2EZ8fDxOTk4opVi3bh0NG5ZfWfZ5YfNYeXwldpZ2/DToJx5ye8i4wfnzMHAgKAVvvAGdOhV/ICHuIoPBQCfvTnTy7kRMekyR4CY2I5bdF3az%2B8Lu/3xscxNzatnUwsnWiVo2tahkVumW%2B5mek87RhKPEZ8YX2VbJrBK1bGrx9%2BW/uZJ3hTMpZziTcqbY41SxrEJjp8ZGc8/VdawrJfpFERKAVVSSARNCiGKZmZkxd%2B5cOnXqREFBAcOGDcPPz49p06YRFBREaGgoO3fuZPLkyRgMBlq3bs28efMAWLlyJb/%2B%2BivJycksWbIEuFZuftCgQSQmJqKUIjAwkAULFpTL9V3Ovcz//fZ/AHzV86uiwZdSMGKEVnyja1d47bVy6KUQxlztXHG1cyW0Xqi%2B7u/MvzmScIRDcYeIy4grcV%2BFIj0n3agsfmp2KtHp0USnR5e4339la2FrNL/Z9XOcKaXIyM0oUp4/LiOOU0mnOBx/mPjMeHZG7WRn1E79mNbm1tSpWkcPFv89ufXVn7aWtnfsOu4EpRQRlyLKuxv3LYOSAa0VSlBQEAcPHtQ%2BYC0tIS8PsrJkXL8Q4p6nv389QO7GNb%2B/530mbp9IM5dm7Bu%2Br%2BiQp2%2B%2BgcGDtfu%2BTp2C6jIvlrj/XD9nWUJmArkFubd8LEtTS/xr%2BuNp71nqMMgbKalE/82obF65SFDmZOOEq50rjWo1on61%2BpiZ3N28SU5%2BDrvO72Lj6Y1sjNjImZQzNP2h6QP3vl0WJAN2B9xows%2BrVq9eTZ8%2BfThw4IB%2BX8CMGTP4/PPPMTU15eOPP6bTzQ4TMRi0LFhSkjYMUQIwIYS472XkZPD%2BnvcBeLPtm0WDr0uXYNw47fGsWRJ8ifvWzcxZVtaKK9GfkpXChbQLxU5unZCZQFxGHPGZ8VzOu0zkpUgiL0UWe2wrMysa1WxklJ3zq%2B6HpZklhaqQ5CvJxZ7DgME4%2B/bPT0drR0wMJsSmx7IpYhMbIzay/ex2Ludd1s9pb2V/11%2BzB5UEYLfpZib8BMjIyGDOnDk0b95cX3fixAlWrFjB8ePHiYuLo0OHDpw%2BfdqoElep7Oy0ACw9HWrWvJOXJYQQ4h40Z/8ckrOSedjtYR71erRog4kTITERWreW%2Bb6EuAfYV7LHvpI9jWhUYhulFGk5aUWCp/iMeKLSojgSf4RzqefYH7uf/bH79f3MTcypXrk6iZcTySvM%2B0/9MjMxo5p1NRIyE4zWB9QMoJtPN7r5dKO5a3NCvg8p4QjidkgAdptuZsJPgKlTpzJx4kRmzpypr1u/fj39%2B/fH0tKSOnXq4O3tTVhYGC1atLi5k1%2B9D0wKcQghxH0vJSuFWb9rlRffavdW0ezX7t2weDGYm8Nnn2kjJYQQ9zyDwUBVq6pUtaqKb3XfYtukZKVwNOGoNrQxQRve%2BFfSX/q9c/ZW9sUOYVSoawHdv%2B6hS8hMoJJZJTp4dqCbTze6%2BnTFrYpbsecXd5YEYLepuAk/9%2B/fb9Tm8OHDcYsJKAAAIABJREFUREdH061bN6MALDY21qjEcXGThZbqaiVEKcQhhBD3vdl7Z5OWk0b7Ou1pV6ed8cbcXHj2We3x5MlQv37Zd1AIcdfYV7KnXZ12Rv/3M3MzSb6STI3KNahk/t%2BqQGblZXHx8kVq2tTEykxuYylrEoDdZYWFhbz00kt6Na1bsXDhQhYuXAhgPKmnZMCEEOKBkHQliY/2fwRo2a8iZs6EkyfBx0cLwIQQ9z0bCxtsLGxuad9K5pVwrypzA5YXCcBu040m/MzIyCA8PJy2bdsCkJCQQGhoKBs2bLipyUKhlEk9JQMmhBAPhJl7ZpKZm0ln785Fy85HRsJb/wRlCxZIUSYhhLjH3XqtTQEYT/iZm5vLihUrCA29NsdFlSpVSEpKIioqiqioKEJCQtiwYYM%2BF82KFSvIycnh3LlzRERE0KxZs5s/uWTAhBDivpeQmcAnYZ8AWuVDI0rBqFGQkwNDhvx/e/ceF2Wd93/8NTAcVQQRVEBTwRQRREWztjUPWWaF25qHjpaaHWx3qzWrtczdO2/1zrvd%2Bmnr7WpltWW75qEto7WDZlsboZJ5YEPFA2oKKALKmev3x%2BUMjBxEQGYG3s/H43rMdZqZz4x6yZvv9/p%2BYeRIJ1QoIiKXQi1gjVSfCT9rExMTw8SJE%2Bnbty9Wq5WlS5fWfwREUAuYiEgrsPCrhRSWFZLYO5HB4YMdD77zDnz6qTnn1%2BLFzilQREQuiQJYExg7dixjx4512PeHP/yhxnM3b97ssD1nzhzmzJnTsDdWC5iISIuWmZfJspRlQA2tX5rzS0TELakLojuzBTC1gImItEj/vfW/KS4vZkLfCfTvfME8QprzS0TELSmAuTNbF0S1gImItDgHcw%2ByYvsKLFiYN3ye48Fvv9WcXyIibkoBzJ2pBUxEpMX6ry3/RWlFKXfG3knfkL6OB//4R/Pxscc055eIiJtRAHNnagETEWmRjuUfY9X3q/C0ePL8dc87Hjx%2BHN5/Hzw94Ve/ck6BIiLSYApg7kwtYCIiLVLSviTKjXJu6nUTvYJ7OR5cvhzKymDcOOja1TkFiohIgymAuTO1gImItEibDmwC4IaeNzgeKC017/kCePTRZq5KRESaggKYO1MLmIhIi1NhVPDpgU8BGB052vHgunVmF8S%2BfWH48OYvTkREGk0BzJ21a2c%2B5uVBRYVzaxERkSbx/U/fk30um4iACHoH93Y8uHSp%2BThzpkY%2BFBFxUwpg7sxqhTZtwDDg7FlnVyMiIk3A1v1wdM/RWKqGrJ074csvzV%2B%2B3XOPk6oTEZHGUgBzd7oPTESkRbHf/xV5wf1fttavKVMqe0CIiIjbUQBzd7oPTESkxSgsLWTroa0AjOoxqvJAbi68/ba5/sgjTqhMRESaigKYu1MLmIhIi/HV4a8oLi9mQOcBhLQJqTzwxhtw7hyMGgXR0U6rT0REGk8BzN2pBUxEpMWoev%2BXXUUFvPqqua6h50VE3J4CmLtTC5iISIthD2BVh5/ftAnS081Jl2%2B5xUmViYhIU1EAc3e2FjAFMBERt3by7ElSf0rF1%2BrLtd2urTxgG3zj4YfN0W9FRMStKYC5O1sLmLogioi4tc8OfAbAz7v9HF%2Brr7kzIwM%2B/BC8vWH6dCdWJyIiTUUBzN2pBUxEpEWo8f6vZcvMuR4nTYKQkFqeKSIi7kQBzN2pBUxExO0ZhlH9/q/CQlixwlyfOdNJlYmISFNTAHN3agETEXF7/8n5D5l5mYT4hxDXKc7cuXo1nDoFCQkwZIhzCxQRkSajAObu1AImIuL2Nu03W7%2Bu73k9HhYPs9vhkiXmwZkzwWJxYnUiItKUFMDcnVrARESqSUpKonfv3kRFRbFw4cJqxw8dOsSoUaOIi4tj%2BPDhZGZmApCamsrVV19NTEwMcXFxvPfee/bnZGRkcNVVVxEVFcWkSZMoKSlpsnqr3f%2B1axds3w4dOpj3f4mISIuhAObu1AImIuKgvLycmTNn8vHHH7Nnzx7effdd9uzZ43DOrFmzuPfee9m5cydz587lmWeeAcDf358333yT3bt3k5SUxGOPPUZubi4ATz31FI8//jj79u0jKCiIlStXNkm9peWlbD64Gahy/9fGjebjuHHg59ck7yMiIq5BAczdqQVMRMRBcnIyUVFR9OzZE29vbyZPnsyGDRscztmzZw8jR44EYMSIEfbjV155Jb169QIgLCyM0NBQsrKyMAyDzz//nNtvvx2AKVOmsH79%2Biap99uj35Jfkk%2Bfjn2ICIgwd378sfl4001N8h4iIuI6FMDcnVrAREQcHD16lK5du9q3IyIiOHr0qMM5/fv3Z%2B3atQCsW7eO/Px8cnJyHM5JTk6mpKSEyMhIcnJyCAwMxHp%2BIuSaXrOhbPd/2bsf5uXBv/4Fnp4wenQdzxQREXekAObu1AImInLJFi9ezJYtWxgwYABbtmwhPDwcT09P%2B/Hjx49zzz338Prrr%2BPhcWn/VS5fvpyEhAQSEhLIysq66Pn/PPBPoEoA%2B/RTKCuDq6%2BGwMBLem8REXF9VmcXII3Upg14eJjzxZSWgpeXsysSEXGq8PBwjhw5Yt/OzMwkPDzc4ZywsDB7C1hBQQHvv/8%2BgefDTl5eHjfffDPz589n6NChAAQHB5Obm0tZWRlWq7XG17SZMWMGM2bMACAhIaHOWnOLckk%2BmozVw8rw7sPNnep%2BKCLSoqkFzN1ZLOqGKCJSxeDBg0lPTycjI4OSkhJWr15NYmKiwznZ2dlUVFQAsGDBAqZOnQpASUkJt912G/fee6/9fi8Ai8XCiBEjWLNmDQCrVq1i3Lhxja71i4wvqDAqGBoxlHY%2B7czh5xXARERaNAWwlkABTETEzmq1smTJEm688Uaio6OZOHEiMTExzJ07lw8%2B%2BACAzZs307t3b6688kpOnDjBnDlzAPjb3/7Gl19%2ByRtvvEF8fDzx8fGkpqYCsGjRIl566SWioqLIyclh2rRpja612vDzu3fD0aPQqRP079/o1xcREdejLogtge4DExFxMHbsWMaOHeuw7w9/%2BIN9/fbbb3do4bK5%2B%2B67ufvuu2t8zZ49e5KcnNykdVYLYLbWrzFjzO7lIiLS4ujq3gQuNuHnsmXLiI2NJT4%2BnmuvvdY%2BH83Bgwfx8/Oz/5b1oYcealgBtgCmFjAREbdxMPcg%2B07to71PewaHDzZ3qvuhiEiLpxawRrJN%2BLlp0yYiIiIYPHgwiYmJ9O3b137OnXfeaQ9XH3zwAU888QRJSUkAREZG2ru3NJitC6JawERE3IZt%2BPkRPUZg9bBCfj589ZXZ8qXh50VEWiy1gDVSfSb8DLAFJODs2bNYLJamLUItYCIibqda98PPPjNHsx06FDp0cGJlIiJyOSmANVJ9JvwEWLp0KZGRkcyePZtXXnnFvj8jI4MBAwZw3XXXsXXr1oYVoRYwERG3YhgGn2d8DtRw/5e6H4qItGgKYM1k5syZ7N%2B/n0WLFvHCCy8A0KVLFw4fPsyOHTt46aWXuPPOO8mroRXropN6qgVMRMStHDh9gJzCHDq16URUhygNPy8i0ooogDVSfSb8rGry5MmsX78eAB8fH4KDgwEYNGgQkZGR/Pjjj9WeM2PGDFJSUkhJSSEkJKT6i6oFTETErXx37DsAEsISzG7pe/bAkSMQGgoDBji5OhERuZwUwBqpPhN%2Bpqen29c/%2BugjevXqBUBWVhbl5eUAHDhwgPT0dHr27HnpRagFTETEraQcSwFgcNgFox9q%2BHkRkRZPoyA2UtUJP8vLy5k6dap9ws%2BEhAQSExNZsmQJn376KV5eXgQFBbFq1SoAvvzyS%2BbOnYuXlxceHh4sW7aMDg258VotYCIibqVqCxgA50fGZcwYJ1UkIiLNRQGsCVxsws%2BXX365xueNHz%2Be8ePHN74ATcQsIuI2yivK2X58O3A%2BgBUUwNatZsvXDTc4uToREbnc1M%2BhJbC1gKkLooiIy/tPzn8oKCmga0BXOrXtBJ9/DiUlMGQInL8vWEREWi4FsJZALWAiIm7Dfv9X%2BAX3f2n0QxGRVkEBrCVQC5iIiNv47uj5%2B7%2B6JGj4eRGRVkgBrCVQC5iIiNtIOV6lBSwtDQ4dgpAQGDTIyZWJiEhzUABrCaq2gBmGc2sREZFalZaXkvpTKgCDugyqbP268UYNPy8i0kroat8S%2BPiYS1kZFBY6uxoREanF7qzdFJUVEdUhiiC/IHU/FBFphRTAWgrdByYi4vLs93%2BFJcDZs/Dll2CxaPh5EZFWRAGspdB9YCIiLs8%2BAmLYYPjiC3P4%2BcGDoWNHJ1cmIiLNRQGspVALmIiIy/vuWJUWMHU/FBFplRTAWgq1gImIuLSisiJ%2BOPkDFiwM6DwAkpLMAwpgIiKtigJYS6EWMBERl7bzxE7KKsqIDommneEFBw6A1QoJCc4uTUREmpECWEuhFjAREZfmMABHZqa5MzwcPD2dWJWIiDQ3BbCWQi1gIiIuzT4Bc9hgOHLE3Nm1qxMrEhERZ1AAaynUAiYi4tIcWsAUwEREWi0FsJZCLWAiIi6roKSAvdl7sXpY6d%2BpvwKYiEgrpgDWUqgFTETEZe04voMKo4J%2Bof3w8/JTABMRacUUwFoKtYCJiLgshwmYQQFMRKQVUwBrKdQCJiLishwmYAYFMBGRVkwBrKWwtYCdPu3cOkREpBq1gImIiI0CWEvRq5c5oWdKCuzb5%2BxqRETkvNyiXNJPpePj6UO/0H5QUAC5ueDjAx07Ors8ERFpZgpgLUWnTnD33VBRAS%2B%2B6OxqREScKikpid69exMVFcXChQurHT906BCjRo0iLi6O4cOHk2mbGBkYM2YMgYGB3HLLLQ7Pue%2B%2B%2B%2BjRowfx8fHEx8eTmppar1q2HdsGQHzneLw8vSonYY6IAIulgZ9QRETclQJYS/LUU%2BZ/5m%2B8AceOObsaERGnKC8vZ%2BbMmXz88cfs2bOHd999lz179jicM2vWLO6991527tzJ3LlzeeaZZ%2BzHnnzySd56660aX/vFF18kNTWV1NRU4uPj61WP7v8SEZGqFMDczMHcg7Uf7NMHbrsNSkrgj39stppERFxJcnIyUVFR9OzZE29vbyZPnsyGDRscztmzZw8jR44EYMSIEQ7HR40aRbt27ZqsHt3/JSIiVSmAuZmcczlknM6o/QTbb3GXLdOAHCLSKh09epSuVcJNREQER48edTinf//%2BrF27FoB169aRn59PTk7ORV97zpw5xMXF8fjjj1NcXFyvetQCJiIiVSmAuaHXU1%2Bv/WBCAlx/vXmT95IlzVeUiIgbWbx4MVu2bGHAgAFs2bKF8PBwPD0963zOggULSEtL47vvvuPUqVMsWrSoxvOWL19OQkICCQkJnMg6weEzh2nj1YY%2BHfuYJyiAiYi0agpgbuj11Ncpryiv/QRbK9jLL8PZs81TlIiIiwgPD%2BeILeQAmZmZhIeHO5wTFhbG2rVr2bFjB/PnzwcgMDCwztft0qULFosFHx8f7r//fpKTk2s8b8aMGaSkpJCSkoJvgC8AA7sMxNPjfMBTABMRadUUwNyMj9WHzLxM/rn/n7WfNGIEXHUV5OTAihXNV5yIiAsYPHgw6enpZGRkUFJSwurVq0lMTHQ4Jzs7m4qKCsBs2Zo6depFX/f48eMAGIbB%2BvXr6dev30Wfc67knFmT7f4vUAATEWnlFMDcTEd/c86YFTvqCFYWS2Ur2OLF5qAcIiKthNVqZcmSJdx4441ER0czceJEYmJimDt3Lh988AEAmzdvpnfv3lx55ZWcOHGCOXPm2J//85//nAkTJvDZZ58RERHBJ598AsBdd91FbGwssbGxZGdn8%2Byzz160lrOlZi8E%2B/1fhqEAJiLSylkMwzCcXYS7S0pK4je/%2BQ3l5eVMnz6dp59%2B2uH4smXLWLp0KZ6enrRt25bly5fTt29fwPzN68qVK/H09OSVV17hxhtvrPO9%2Bg/sz65f7MLD4sHRJ44S2ia05hMrKiA2FvbsgZUroR6/3RURuZwSEhJISUlxdhnNyqurF2XTy0j/VTpRHaLgzBkIDIQ2bSA/X/OAiYhLa43X7eagFrBGqs98M3feeSc//PADqampzJ49myeeeAIwh0FevXo1u3fvJikpiUceeYTy8jru7QK8PLy4udfNlFWU8eb3b9Z%2BoocH2ILgokVwkdcVEZGmV1ZeRqBvIJFBkeaOqq1fCl8iIq2SAlgj1We%2BmYCAAPv62bNnsZz/T3fDhg1MnjwZHx8fevToQVRUVK03dVc1bcA0AFbuWEmdDZiTJ8MVV8CPP8K6dQ34dCIi0lgJYQn26749gEVEOK8gERFxKgWwRqrPfDMAS5cuJTIyktmzZ/PKK69c0nMvNLbXWDq37UxadhpfH/m69hO9vODJJ831BQvMew9ERKRZJXRJqNzQ/V8iIq2eAlgzmTlzJvv372fRokW88MILl/TcqnPKZGVl4eXpxZT%2BUwCzFaxOU6dCaChs3w6bNjW0fBERaaDB4RoBUUREKimANVJ95pupavLkyaxfv/6Snlt1TpmQkBCgshvie7vfI684r/YC/fzgscfM9QUL6v25RESk8bw8vSpHQAQFMBERUQBrrPrMN5Oenm5f/%2Bijj%2BjVqxcAiYmJrF69muLiYjIyMkhPT2fIkCH1et9ewb0YdsUwzpWe471d79V98iOPQEAAbN4M//73JX0%2BERFpuLhOcXRr361yhwKYiEirpwDWSPWZb2bJkiXExMQQHx/PSy%2B9xKpVqwCIiYlh4sSJ9O3blzFjxtiHqq%2Bv6QOmAxeZEwygfXszhAHcdx9kZV3y5xQRkSagACYi0uppHjA3U3U%2BhnOl5%2Bjyv13IK85j50M7ie0UW/sTz5yBYcNg504YOBC%2B%2BMJsFRMRaSatcT4Zh89sGODvD0VFkJcH7do5tzgRkYtojdft5qAWMDfm7%2BXPXbF3AfUYjKN9e/jkE4iMNAfkSEyEwsJmqFJERADIyTHDV/v2Cl8iIq2Y1dkFSONMGzCNP6f8mbd2vsWi6xfhY/Wp/eTOnc2REH/2M9iyxZwn7P33waq/BiLSOGUVZeQX55Nfkk9ecZ59yS%2Bu3G71MjPNR3U/FBFp1fSTt5sb2GUg/Tv15/sT37M%2BbT2T%2Bk2q%2Bwk9esA//2l2R/zgA5g2DV5/HTzUGCrSGhWXFXOm%2BIxDaLrYcmHIyivO41zpuYu%2B1yAGNcMncmGahFlERFAAc3sWi4XpA6fzq49/xcodKy8ewAD69YONG%2BH66%2BHNN6FDB3jpJbBYLn/BItIkSstLySvOs4enM0VnHLZr23fhdkl5SZPUY8FCO592BPgE2Jd23u0c1v/1j381yXu5LQ3AISIiKIC1CHfF3sWsf85i04FNHMw9SPfA7hd/0tChsG4d3Hwz/OlPEBwMzz572WsVESgqK%2BJM0RnOFJ%2Bp89EWlqptF52hsKxp7uH08vCivW97h6Bk3/YOcAxUPu1o79O%2B2r4AnwDaeLXBcpFf4iQ8l1Dn8RZPAUxERFAAaxGC/IIY33c87/zwDiu3r%2BS/Rv5X/Z44ejS88w5MmgTPPWeGsIcfvrzFiri5sooy8orzyC3K5UzRGfOx%2BEzN21UCle34meIzTdLq5GHxsIchW2Cyb9ey37ZUDVw%2Bnj4XDU7SRBTAREQEBbAW44GBD/DOD%2B%2Bw4KsFdA/szrSB0%2Br3xNtvh//7P3jgAZg5E06ehDlzNDCHtFil5aX2QFTfper5BSUFja7B29Ob9j7tae/bvubHKgGqtvX6tDiJi1EAExERFMBajOuuuI5nrn2GBV8tYPo/pnMk7wjPX/d8/X5Amz7dnCds1iyYN8%2B8P%2BzNN6F378tet8ilMgyD/JJ8cotyOV142nwsOm3ftq1X3W/fLjzN2dKzjXp/CxYCfAII8guivU97An0Dae97/tGn8tEWmGzHq%2B7z8/Jrom9D3IoCmIiIoADWYlgsFv571H8TERDBrz7%2BFb/f8nsOnznM/93yf3h5el38BX77WxgwAO67D5KTzfUXX4RHHtHgHNLkDMMgrziP00WnOV14mlOFp%2BzrDo8X7LMFqXKjvMHvbeu6F%2BQXRKBvYOXiU7ne3rc9Qb5BDuHKtrT1bouHRaOGyiWqqKgchl6jIIqItGoKYC3MI4MfIbxdOHe8fwevp77O8YLj/H3C32nr3fbiTx45EnbuhF//Gt56Cx591Byq/rXXIDz88hcvbqe4rJjTRWaAOlV4yh6mbIHqwnXb8caGqDZebQj0DSTIL8gelIL8ggj0CbQHK9t%2B%2B7Hz6%2B2826nrnjS/kyehtNS819bf39nViIiIEymAtUDj%2Bozj8ymfc%2Bu7t5K0L4nr3riOj%2B78iM5tO1/8yYGBZvfDcePgwQfNOcNiY%2BHVV82Jm6VFKiorIudcjj0w5RRWrte1rz5zP9WmrXdbgnyDCPILooNfB3P9/HZNj1WDlLendxN%2BepFmoO6HIiJyngJYCzU0YihfT/2am/56E9uPb%2BfqlVfz8V0f06djn/q9wPjxcM015v1hGzfCHXeYw9YvXGhO5iwuqayijNOFp8kpzCHnXI49NNnWc87lcKroVLVjDR3S3OphpYNfB/sS5BtU8/r5EFV1vV5dY0VaCnU/FBGR8xTAWrBewb34etrX3PrurSQfTeaaldew%2BIbFTIqZRBvvNhd/gS5d4MMPYflyeOIJ%2BNvfYO1auPdec6TEnj0v/4doxQpLC%2B2hKftctkOounDb9phblNug9/Ly8KKDXweC/YPNR79ge3iquu4QtvyC1J1PpL7UAiYiIucpgLVwoW1C%2Bfzez7nj/Tv4x4//YNoH03j8k8e5s9%2BdTB84nUFhg%2Bp%2BAYvF7Io4erQ5QuJf/2reE7ZqVWUQi4xsls/irgzD4GzpWTM0VQlTF25X3ZdTmNOg7n0WLAT5BRHsF0ywf7D9sYNvB/t21aBlC1htvdsqSIlcTgpgIiJyngJYK9DGuw1rJ63l7Z1vs3zbcr7J/IZl25axbNsyBnQewAMDH%2BDO2Dtp79u%2B9hfp2dO8N%2BzZZ2H%2BfHj7bXj9dXPfPfeYQSwqqvk%2BlJNUGBWcKTpTc4tUDa1TtvWGTLzr7elNsF8wHf072sNTR/%2BO1cJV1cdA30A8PTwvwycXkUapEsBKS0vJzMykqKjIuTVJnXx9fYmIiMDLS92lRaRpWQzDMJxdhNRfQkICKSkpjXqNXSd3sWL7Ct7a%2BRanCk8B4O/lz/jo8fy828%2BJ7xxPv9B%2Bdc9VtG%2BfGcTeegvKy8HTEyZNMid0HjYMPFx7mG7DMDhXeq7aIBMO90bV0MXvVOEpKoyKS34/fy9/hzBlC1IOj1VDln%2BwJtqVFqcprl/uxv6Zf/Yz%2BPpr2LyZjG7daNeuHcHBwfo37qIMwyAnJ4f8/Hx66L5nacVa43W7OSiAuZmm/IdQVFbEur3r%2BMv2v/DFwS8cjnlaPOnTsQ/xnePtS9%2BQvoT4hzgOnrB/vxnE3nzTDGJgtpbdfz9MmXJZu9uUlpeSV5xHXnEeZ4rPOEy4W3WS3tzi3BqHR29IqxRAgE9Atdanjn4dq4WrquuaeFekdf5Hbv/M3bqZrWD797O3uJg%2BffoofLk4wzBIS0sjOjra2aWIOE1rvG43B3VBbMV8rb7cEXsHd8TeQXpOOuvT1pN6IpXUn1JJy05jd9Zudmft5q8//NXheYG%2BgYT4hxDSJsR8/EUIIbc8SPvv0/D6bjteOQfwXv8cXmufwzu6H17DR%2BI15Grw9qasoozS8lLKKsocltKKUgpLCzlXeq5yKatcP1tylvySfHvgyivOo6iscd13/Kx%2B9hH5HO6PqhKubPdL2e%2Bl8uugIdBF5NKUl8OxY%2BZ6eDgcOKDw5Qb0ZyQil4sCmADmiIlP/uxJ%2B3ZhaSG7Tu4i9SczkKWeSCU9J90%2B0l5uUS7pp9IdX8QDuOrCV94Fx3bB%2BleavGZPiycBPgG082lHgE9ArRPy2iblvXBIdLVKiUizOH7cDGGdOoGPj7OrITc3l3feeYdHHnnkkp87duxY3nnnHQIDAxv03gsWLGDlypV4enryyiuvcOONN1Y75/PPP2fWrFmUlJQwaNAgVq5cidVqZcOGDTz33HN4eHhgtVr505/%2BxLXXXsuhQ4e47bbbqKiooLS0lF/96lc89NBDAJSUlPDoo4%2ByefNmPDw8mD9/PuPHj%2Bfw4cNMmTKF3NxcysvLWbhwIWPHjm3QZxIRuVQKYFIjPy8/BocPZnD4YIf9FUYFpwpPkXU2i6xzWQ6P%2BSX5lJaXUlpRSkl5CaWFBZTuT6ckYx%2BleblYAGsFWC2eWDuH4dWtO9ZuPbD6t8XqYcXPyw9/L/9qSxuvNvh7%2BTuErQCfAPysfvoNpYi4PhcbATE3N5dXX321xgBWVlaG1Vr7jwYbN25s8Pvu2bOH1atXs3v3bo4dO8b111/Pjz/%2BiKdn5cBBFRUVTJkyhc8%2B%2B4wrr7ySuXPnsmrVKqZNm8aoUaNITEzEYrGwc%2BdOJk6cSFpaGl26dOGbb77Bx8eHgoIC%2BvXrR2JiImFhYcyfP5/Q0FB%2B/PFHKioqOHXKvO/5hRdeYOLEiTz88MPs2bOHsWPHcvDgwQZ/NhGRS6EAJpfEw%2BJBR3/zfqdoLqFf/M6dsH49bNgA27cDR8zF41/mzenjxsENN0BMjMsP4CEicklskzC7SAB7%2Bumn2b9/P/Hx8YwePZqbb76Z5557jqCgINLS0vjxxx/5xS9%2BwZEjRygqKuI3v/kNM2bMAKB79%2B6kpKRQUFDATTfdxLXXXsvXX39NeHg4GzZswM%2Bv9p4FGzZsYPLkyfj4%2BNCjRw%2BioqJITk7m6quvtp%2BTk5ODt7c3V155JQCjR49mwYIFTJs2jbZt29rPO3v2rP0XcN7eld3Ci4uLqaioHCjptddeIy0tDQAPDw86duwImN0L8/LyADhz5gxhYWGN%2Bk5FRC6FftKV5hEXB3PnwrZtcPgwLF1qBi5PT9i6FWbNMs/p1AkmTIBXX4W9e0FjxIhIAyQ8G439AAAYM0lEQVQlJdG7d2%2BioqJYuHBhteOHDh1i1KhRxMXFMXz4cDJtIQkYM2YMgYGB3HLLLQ7PycjI4KqrriIqKopJkyZRUlLPgXxsLWAREQ3%2BPE1p4cKFREZGkpqayosvvgjA9u3befnll/nxxx8BM7hs27aNlJQUXnnlFXJycqq9Tnp6OjNnzmT37t0EBgby/vvvA7Bs2TKWLVtW7fyjR4/StUoIjYiI4OjRow7ndOzYkbKyMvtN/2vWrOGI7fsD1q1bR58%2Bfbj55pt57bXX7PuPHDlCXFwcXbt25amnniIsLIzcXHNi%2Bueee46BAwcyYcIETpw4AcC8efN4%2B%2B23iYiIYOzYsfy///f/Lv2LFBFpIAUwaX5du8Ijj8Ann0BWFrz3njmXWHg4ZGfDmjUwcyb07QthYXDHHbB8OfzwQ%2BVIiyIitSgvL2fmzJl8/PHH7Nmzh3fffZc9e/Y4nDNr1izuvfdedu7cydy5c3nmmWfsx5588kneeuutaq/71FNP8fjjj7Nv3z6CgoJYuXJl/QqqqwuixXJ5lks0ZMgQh%2BHWX3nlFfr378/QoUM5cuQI6enp1Z7To0cP4uPjARg0aJC9C99DDz1kvwfrUlksFlavXs3jjz/OkCFDaNeunUMXxdtuu420tDTWr1/Pc889Z9/ftWtXdu7cyb59%2B1i1ahUnTpygrKyMzMxMrrnmGrZv387VV1/NrFmzAHj33Xe57777yMzMZOPGjdxzzz0OLWciIpeTApg4V/v2MHGiOYz9kSPwn//AsmXmnGKhofDTT7B6NTz4oNlCFhgII0fCM8%2BYXRqPH3f2JxARF5OcnExUVBQ9e/bE29ubyZMns2HDBodz9uzZw8iRIwEYMWKEw/FRo0bRrl07h/MNw%2BDzzz/n9ttvB2DKlCmsX7%2B%2BfgW52D1gNWnTpo19ffPmzXz66ad88803fP/99wwYMKDGSaN9qgwo4unpSVlZWZ3vER4e7tCalZmZSXh4eLXzrr76arZu3UpycjLDhg2zd0esatiwYRw4cIDs7GyH/WFhYfTr14%2BtW7cSHByMv78/v/zlLwGYMGEC27dvB2DlypVMnDjR/n5FRUXVXktE5HJRABPXYbHAlVeaYWv1ajN87d4NS5aYIe2KK6CgAL74AhYuhNtuM1vIrrjC7LY4fz589BEcPaquiyKtWH26uvXv35%2B1a9cCZre2/Pz8GrvZ2eTk5BAYGGgfoKKm16xVXQHMMC7PUod27dqRn59f6/EzZ84QFBSEv78/aWlp/Pvf/67f57yIxMREVq9eTXFxMRkZGaSnpzNkyJBq5508eRIw7%2BdatGiRvTVt37592KYu3b59O8XFxQQHB5OZmUlhYSEAp0%2Bf5quvvqJ3795YLBZuvfVWNm/eDMBnn31G3759AejWrRufffYZAHv37qWoqIiQkJAm%2BZwiIhejQTjEdVksZjfEvn3NLolghrJvv61cvvvOvKfs8GGz66JNcDDEx5tL//5m61nv3uDr65zPIiIuZfHixTz66KO88cYbDBs2jPDwcIeubo2xfPlyli9fDkBWVhaUlpoHXKQFLDg4mJ/97Gf069ePm266iZtvvtnh%2BJgxY1i2bBnR0dH07t2boUOHXtLr2%2B7/urAbYkxMDBMnTqRv375YrVaWLl1q/87Hjh3LihUrCAsL48UXX%2BTDDz%2BkoqKChx9%2B2N5S%2Bf777/Pmm2/i5eWFn58f7733HhaLhb179/Lb3/4Wi8WCYRjMmjWL2NhYABYtWsQ999zDY489RkhICK%2B//joA//u//8sDDzzAH//4RywWC2%2B88YZG1RWRZmMxDDUVuBPNSH6B8nJIS4OUFPj%2Be0hNNZfTp6uf6%2BEBPXuagS46ujLc9ekDVUbXEpHLo7muX9988w3z5s3jk08%2BAcy5pwCH%2B7yqKigooE%2BfPg4DcWzevJnFixfz4YcfAmYXxJCQEH766SesVmu196hNwqBBpOzYYf5CqbgYrFb27t1LdPQljCIrTqM/K2nt9HPn5aEWMHFvnp7m0PUxMZX7DMMc9jk11QxlO3aYXRn37atcPvjA8XUiIqBXr%2BpLz55qNRNxM4MHDyY9PZ2MjAzCw8NZvXo177zzjsM52dnZdOjQAQ8PDxYsWMDUqVPrfE2LxcKIESNYs2YNkydPZtWqVYwbN%2B7ixZSWmteksDCoY34tERFpPfS/gbQ8FovZ1adrV7j11sr9xcWQnm4Ob79nT%2BXyn/%2BYgS0z07y/rKbXioyEHj2qL507N2jEMRG5fKxWK0uWLOHGG2%2BkvLycqVOnEhMTw9y5c0lISCAxMZHNmzfzzDPPYLFYGDZsGEuXLrU//%2Bc//zlpaWkUFBQQERHBypUrufHGG1m0aBGTJ0/m2WefZcCAAUybNu3ixdiGqneR7ociIuJ86oLYSElJSfzmN7%2BhvLyc6dOn8/TTTzscf%2Bmll1ixYgVWq5WQkBBee%2B01rrjiCsAcNcrWT71bt258cGGrTA3UFHwZlJXBoUNmOLtwOXiw7qHvfX2he3dzIJBu3aovERFQZZJQkdasNV6/Enr2JCUjwxwo6G9/A9StzZ3oz0pau9Z43W4OagFrBNtcM5s2bSIiIoLBgweTmJhoH2UJYMCAAaSkpODv78%2Bf//xnZs%2BezXvvvQeAn58fqampzipfbKxWs4UrMhLGjHE8VlpqhrADByAjo/qSk2Peg5aWVvNrWyxmK1l4uLlERNS8rnvQRFomWwuYi0zCLCIizqcA1ghV55oB7HPNVA1gI0aMsK8PHTqUt99%2Bu9nrlEbw8qq8H6wmeXlmQLONxHjhcvSoOVfZ8ePmQCG1adsWunSpeenc2Vw6dTJHd2yikdpEpBmoC6KIiFxAAawRappr5ttvv631/JUrV3LTTTfZt4uKikhISMBqtfL000/zi1/84rLWK5dBQIA5xH1cXM3Hy8rg2DEziNmWzEzH9ePHzfnNbN0e6%2BLhASEhZhizLaGh5hIS4vgYGgpVJlcVESdQABMRkQsogDWTt99%2Bm5SUFLZs2WLfd%2BjQIcLDwzlw4AAjR44kNjaWyMjIas%2BtNqeMuA%2BrtfJ%2BsNoYBpw5U9lSduHy009w4oS55ORUrteHnx907GiGso4da16Cg82lQwfz0d%2B/aT67iLjcHGAN1bZtWwoKCjh27Bi//vWvWVN13sXzhg8fzuLFi0lISKj1dYqLi7n33nvZtm0bwcHBvPfee3Tv3r3aeS%2B//DJ/%2BctfMAyDBx54gMceewyAJ598kn/84x94e3sTGRnJ66%2B/TmBgoP15hw8fpm/fvsybN49Zs2Y1/oOLiFwGCmCNEB4ezpEjR%2BzbmZmZhIeHVzvv008/Zf78%2BWzZsgUfHx%2BH5wP07NmT4cOHs2PHjhoD2IwZM5gxYwZAnf%2BxiZuyWCAw0FwudrN3aSlkZTmGsqwsOHnSXKqunzwJhYVw5Ii51Jevr2Mosy1BQdW3qy4BAWYLnYhUamEtYGFhYTWGr/pauXIlQUFB7Nu3j9WrV/PUU0/Z74u22bVrF3/5y19ITk7G29ubMWPGcMsttxAVFcXo0aNZsGABVquVp556igULFrBo0SL7c5944gmHniYiIq5IAawR6jPXzI4dO3jwwQdJSkoiNDTUvv/06dP4%2B/vj4%2BNDdnY2//rXv5g9e3ZzfwRxN15e5nxCYWEXP9cwzK6N2dnVl5wc8zErC06dMrdtS1FRZRfJS2GxQPv2ZhgLDKx8tC3t21ffrroEBGieJGl5ysrMv9edOjm7Erunn36arl27MnPmTADmzZtH27Zteeihhxg3bhynT5%2BmtLSUF154odpcZwcPHuSWW25h165dFBYWcv/99/P999/Tp08fCgsLL/reGzZsYN68eQDcfvvtPProoxiGgaXKdB579%2B7lqquuwv98a/x1113H2rVrmT17NjfccIP9vKFDhzqEwfXr19OjRw/aqOu1iLg4/bTTCPWZa%2BbJJ5%2BkoKCACRMmAJXDze/du5cHH3wQDw8PKioqePrppx0G7xBpNIsF2rUzlx496vccw4Bz5xxD2enT5rbt0baekwO5ueb66dPmgCS5uebSUG3a1BzMbMuF2wEB5ue78FFBTlxJeLhLDZ4zadIkHnvsMXsA%2B9vf/sYnn3yCr68v69atIyAggOzsbIYOHUpiYqJDOKrqz3/%2BM/7%2B/uzdu5edO3cycOBA%2B7Hp06fz0EMPVeu1UfXeaavVSvv27cnJyaFjx472c/r168ecOXPIycnBz8%2BPjRs31tj747XXXmPSpEkAFBQUsGjRIjZt2sTixYsb9wWJiFxm%2BimlkcaOHcvYsWMd9v3hD3%2Bwr3/66ac1Pu%2Baa67hhx9%2BuKy1iVwyi8UMQW3aXHqXqbIyM4TZAtnp0%2Ba9bbZQlptb87ZtycuDs2fN5dixxn0OP7/K8Fnb0rZt5WNd623agI%2BPJtyWhqvj35Ll95fn75XxfO1TfA4YMICTJ09y7NgxsrKyCAoKomvXrpSWlvK73/2OL7/8Eg8PD44ePcqJEyfo3Llzja/z5Zdf8utf/xqAuLg44qoMRrRixYoG1x4dHc1TTz3FDTfcQJs2bYiPj8fzggA7f/58rFYrd911F2C24j3%2B%2BOO01ZQeIuIGFMBEpGlYrZX3hzVERYXZZbJqKMvPrwxntqXqdn5%2B9fX8fPPet8JC8z64puDpWRnIqgYz21J1u%2Bq6v7/jeVUX2zEvL4W7ls4F7/%2BaMGECa9as4aeffrK3Iv31r38lKyuLbdu24eXlRffu3SkqKmrS97XdOx0REUFZWRlnzpwhODi42nnTpk1j2rRpAPzud78joso8am%2B88QYffvghn332mb117ttvv2XNmjXMnj2b3NxcPDw88PX15dFHH23S%2BkVEmoICmIi4Bg%2BPym6FjfmB1daNMj%2B/7qWgoPKx6rrt%2BNmz5vbZs%2BZACrZQ2NQ8PR0DWdXH2hY/v9q3/fwqt23rfn4Kes5UxyTMdbVUXU6TJk3igQceIDs72z4675kzZwgNDcXLy4svvviCQ4cO1fkaw4YN45133mHkyJHs2rWLnTt3XvR9ExMTWbVqFVdffTVr1qxh5MiRNXZxPHnyJKGhoRw%2BfJi1a9fy73//G4CkpCT%2B53/%2Bhy1bttjvEQPYunWrfd12T5vCl4i4KgUwEWlZqnajrKXr1CUrKXEMZLaAVnVf1fWCAjME2vZfuJw7V3nc1nUzL69paq2Np6djIKtr8fWteb3qtq9v3eu2RSNjumQLWExMDPn5%2BYSHh9OlSxcA7rrrLm699VZiY2NJSEigT58%2Bdb7Gww8/zP333090dDTR0dEMGjTIfqy2e8CmTZvGPffcQ1RUFB06dGD16tUAHDt2jOnTp7Nx40YAxo8fT05ODl5eXixdutQ%2B1Pyjjz5KcXExo0ePBsyBOJYtW9Y0X4qISDOxGIbhnF%2B/SYMkJCSQkpLi7DJEpKmUllYPZbb1mpazZ83ulbZt2/qF%2By7cX17unM/n5WUPYwndurW661eCxULKunXwi1/Y9%2B3du5foi005IS5Bf1bS2unnzstDLWAiIs7k5VU5NP/lVFpaGcaKiipDWm1L1XMuXLdtX7heWAjFxY77S0vNJT%2B/7gnJWzIXbAETERHnUQATEWkNvLzMJSCg%2Bd7TMMzwZQtjN9/cfO/tKmJizEVEROQ8BTAREbk8LBbw9jaX5gx%2BrsR2L5yIiMh5ujtaRESkmen2a9enPyMRuVwUwERERJqRr68vOTk5%2BgHfhRmGQU5ODr5qvRSRy0BdEEVERJpRREQEmZmZZGVlObsUqYOvr6/DBNAiIk1FAUxERKQZeXl50aNHD2eXISIiTqIuiCIiIiIiIs1EAUxERERERKSZKICJiIiIiIg0E4uhYZjcStu2benTp4%2Bzy6hRVlYWISEhzi6jRqqtYVRbw6i2mh08eJDs7GynvLez6JrdMKqtYVRbw6i22rXG63Zz0CAcbqZPnz6kpKQ4u4waJSQkqLYGUG0No9oaxpVra4l0zW4Y1dYwqq1hVJs0N3VBFBERERERaSYKYCIiIiIiIs3Ec968efOcXYRcmkGDBjm7hFqptoZRbQ2j2hrGlWtriVz5%2B1ZtDaPaGka1NYwr1yYNo0E4REREREREmom6IIqIiIiIiDQTBTA3kpSURO/evYmKimLhwoXOLsdB9%2B7diY2NJT4%2BnoSEBKfWMnXqVEJDQ%2BnXr59936lTpxg9ejS9evVi9OjRnD592mVqmzdvHuHh4cTHxxMfH8/GjRudUtuRI0cYMWIEffv2JSYmhpdffhlw/ndXW12u8r0VFRUxZMgQ%2BvfvT0xMDM8//zwAGRkZXHXVVURFRTFp0iRKSkpcprb77ruPHj162L%2B71NTUZq%2BtNdA1u350zW4YV71m11WbK3x3umaLSzDELZSVlRk9e/Y09u/fbxQXFxtxcXHG7t27nV2W3RVXXGFkZWU5uwzDMAxjy5YtxrZt24yYmBj7vieffNJYsGCBYRiGsWDBAmP27NkuU9vzzz9vvPjii06pp6pjx44Z27ZtMwzDMPLy8oxevXoZu3fvdvp3V1tdrvK9VVRUGPn5%2BYZhGEZJSYkxZMgQ45tvvjEmTJhgvPvuu4ZhGMaDDz5ovPrqqy5T25QpU4y///3vzV5Pa6Jrdv3pmt0wrnrNrqs2V/judM0WV6AWMDeRnJxMVFQUPXv2xNvbm8mTJ7NhwwZnl%2BWShg0bRocOHRz2bdiwgSlTpgAwZcoU1q9f74zSaqzNVXTp0oWBAwcC0K5dO6Kjozl69KjTv7va6nIVFouFtm3bAlBaWkppaSkWi4XPP/%2Bc22%2B/HXDe37naapPLT9fs%2BtM1u2Fc9ZpdV22uQNdscQUKYG7i6NGjdO3a1b4dERHhMhczMC8aN9xwA4MGDWL58uXOLqeaEydO0KVLFwA6d%2B7MiRMnnFyRoyVLlhAXF8fUqVOd1tWmqoMHD7Jjxw6uuuoql/ruqtYFrvO9lZeXEx8fT2hoKKNHjyYyMpLAwECsVnOue2f%2Be72wNtt3N2fOHOLi4nj88ccpLi52Sm0tma7ZjeNK152auMq1x8ZVr9kX1gau8d3pmi3OpgAmTeKrr75i%2B/btfPzxxyxdupQvv/zS2SXVymKxuNRvlB5%2B%2BGH2799PamoqXbp04be//a1T6ykoKGD8%2BPH86U9/IiAgwOGYM7%2B7C%2Btype/N09OT1NRUMjMzSU5OJi0tzWm1XOjC2nbt2sWCBQtIS0vju%2B%2B%2B49SpUyxatMjZZUoz0zW74Vzp2gOue80G171u65otzqYA5ibCw8M5cuSIfTszM5Pw8HAnVuTIVktoaCi33XYbycnJTq7IUadOnTh%2B/DgAx48fJzQ01MkVVerUqROenp54eHjwwAMPOPW7Ky0tZfz48dx111388pe/tNfn7O%2Butrpc5XuzCQwMZMSIEXzzzTfk5uZSVlYGuMa/V1ttSUlJdOnSBYvFgo%2BPD/fff79LfHctja7ZjeMK153auNK1x1Wv2XXV5irfHeiaLc6jAOYmBg8eTHp6OhkZGZSUlLB69WoSExOdXRYAZ8%2BeJT8/377%2Bz3/%2B02HEKFeQmJjIqlWrAFi1ahXjxo1zckWVbP9RAqxbt85p351hGEybNo3o6GieeOIJ%2B35nf3e11eUq31tWVha5ubkAFBYWsmnTJqKjoxkxYgRr1qwBnPd3rqba%2BvTpY//uDMNg/fr1LvfvtSXQNbtxnH3dqYurXHtc9ZpdV22u8N3pmi0uwZkjgMil%2Beijj4xevXoZPXv2NF544QVnl2O3f/9%2BIy4uzoiLizP69u3r9NomT55sdO7c2bBarUZ4eLixYsUKIzs72xg5cqQRFRVljBo1ysjJyXGZ2u6%2B%2B26jX79%2BRmxsrHHrrbcax44dc0ptW7duNQAjNjbW6N%2B/v9G/f3/jo48%2Bcvp3V1tdrvK9ff/990Z8fLwRGxtrxMTEGL///e8NwzD/XQwePNiIjIw0br/9dqOoqMhlahsxYoTRr18/IyYmxrjrrrvso25J09I1u350zW4YV71m11WbK3x3umaLK7AYhmE4NwKKiIiIiIi0DuqCKCIiIiIi0kwUwERERERERJqJApiIiIiIiEgzUQATERERERFpJgpgIiIiIiIizUQBTEREREREpJkogImIiIiIiDQTBTAREREREZFmogAmIiIiIiLSTBTAREREREREmokCmIiIiIiISDNRABMREREREWkmCmAiIiIiIiLNRAFMRERERESkmSiAiYiIiIiINBMFMBERERERkWaiACYiIiIiItJMFMBERERERESaiQKYiIiIiIhIM1EAExERERERaSb/Hzd0MwgWNldvAAAAAElFTkSuQmCC\">"
      ]
     },
     "metadata": {},
     "output_type": "display_data"
    }
   ],
   "source": [
    "s.run(tf.global_variables_initializer())\n",
    "\n",
    "BATCH_SIZE = 512\n",
    "EPOCHS = 40\n",
    "\n",
    "# for logging the progress right here in Jupyter (for those who don't have TensorBoard)\n",
    "simpleTrainingCurves = matplotlib_utils.SimpleTrainingCurves(\"cross-entropy\", \"accuracy\")\n",
    "\n",
    "for epoch in range(EPOCHS):  # we finish an epoch when we've looked at all training samples\n",
    "    \n",
    "    batch_losses = []\n",
    "    for batch_start in range(0, X_train_flat.shape[0], BATCH_SIZE):  # data is already shuffled\n",
    "        _, batch_loss = s.run([step, loss], {input_X: X_train_flat[batch_start:batch_start+BATCH_SIZE], \n",
    "                                             input_y: y_train_oh[batch_start:batch_start+BATCH_SIZE]})\n",
    "        # collect batch losses, this is almost free as we need a forward pass for backprop anyway\n",
    "        batch_losses.append(batch_loss)\n",
    "\n",
    "    train_loss = np.mean(batch_losses)\n",
    "    val_loss = s.run(loss, {input_X: X_val_flat, input_y: y_val_oh})  # this part is usually small\n",
    "    train_accuracy = accuracy_score(y_train, s.run(classes, {input_X: X_train_flat}))  # this is slow and usually skipped\n",
    "    valid_accuracy = accuracy_score(y_val, s.run(classes, {input_X: X_val_flat}))  \n",
    "    simpleTrainingCurves.add(train_loss, val_loss, train_accuracy, valid_accuracy)"
   ]
  },
  {
   "cell_type": "markdown",
   "metadata": {},
   "source": [
    "# Submit a linear model"
   ]
  },
  {
   "cell_type": "code",
   "execution_count": 100,
   "metadata": {},
   "outputs": [],
   "source": [
    "## GRADED PART, DO NOT CHANGE!\n",
    "# Testing shapes \n",
    "grader.set_answer(\"9XaAS\", grading_utils.get_tensors_shapes_string([W, b, input_X, input_y, logits, probas, classes]))\n",
    "# grader.set_answer(\"9XaAS\", get_grader_shapes([W, b, input_X, input_y, logits, probas, classes]))\n",
    "# Validation loss\n",
    "grader.set_answer(\"vmogZ\", s.run(loss, {input_X: X_val_flat, input_y: y_val_oh}))\n",
    "# Validation accuracy\n",
    "grader.set_answer(\"RMv95\", accuracy_score(y_val, s.run(classes, {input_X: X_val_flat})))"
   ]
  },
  {
   "cell_type": "code",
   "execution_count": 101,
   "metadata": {},
   "outputs": [
    {
     "name": "stdout",
     "output_type": "stream",
     "text": [
      "Submitted to Coursera platform. See results on assignment page!\n"
     ]
    }
   ],
   "source": [
    "# you can make submission with answers so far to check yourself at this stage\n",
    "grader.submit(COURSERA_EMAIL, COURSERA_TOKEN)"
   ]
  },
  {
   "cell_type": "markdown",
   "metadata": {},
   "source": [
    "# MLP with hidden layers"
   ]
  },
  {
   "cell_type": "markdown",
   "metadata": {},
   "source": [
    "Previously we've coded a dense layer with matrix multiplication by hand. \n",
    "But this is not convenient, you have to create a lot of variables and your code becomes a mess. \n",
    "In TensorFlow there's an easier way to make a dense layer:\n",
    "```python\n",
    "hidden1 = tf.layers.dense(inputs, 256, activation=tf.nn.sigmoid)\n",
    "```\n",
    "\n",
    "That will create all the necessary variables automatically.\n",
    "Here you can also choose an activation function (remember that we need it for a hidden layer!).\n",
    "\n",
    "Now define the MLP with 2 hidden layers and restart training with the cell above.\n",
    "\n",
    "You're aiming for ~0.97 validation accuracy here."
   ]
  },
  {
   "cell_type": "code",
   "execution_count": 118,
   "metadata": {},
   "outputs": [],
   "source": [
    "# write the code here to get a new `step` operation and then run the cell with training loop above.\n",
    "# name your variables in the same way (e.g. logits, probas, classes, etc) for safety.\n",
    "### YOUR CODE HERE ###\n",
    "\n",
    "hidden1 = tf.layers.dense(input_X, 256, activation=tf.nn.sigmoid)\n",
    "hidden2 = tf.layers.dense(hidden1, 256, activation=tf.nn.sigmoid)\n",
    "\n",
    "logits = tf.layers.dense(hidden2, 10, activation=None)\n",
    "\n",
    "# apply tf.nn.softmax to logits\n",
    "probas = tf.nn.softmax(logits)\n",
    "\n",
    "# apply tf.argmax to find a class index with highest probability\n",
    "classes = tf.argmax(probas, axis=1)\n",
    "\n",
    "\n",
    "# Loss should be a scalar number: average loss over all the objects with tf.reduce_mean().\n",
    "# Use tf.nn.softmax_cross_entropy_with_logits on top of one-hot encoded input_y and logits.\n",
    "# It is identical to calculating cross-entropy on top of probas, but is more numerically friendly (read the docs).\n",
    "loss = tf.reduce_mean(tf.nn.softmax_cross_entropy_with_logits(logits=logits, labels=input_y))\n",
    "\n",
    "# Use a default tf.train.AdamOptimizer to get an SGD step\n",
    "step = tf.train.AdamOptimizer(0.01).minimize(loss)"
   ]
  },
  {
   "cell_type": "code",
   "execution_count": 127,
   "metadata": {
    "scrolled": false
   },
   "outputs": [
    {
     "data": {
      "text/html": [
       "<img src=\"data:image/jpeg;base64,iVBORw0KGgoAAAANSUhEUgAAA2AAAAEgCAYAAADSVRDhAAAABHNCSVQICAgIfAhkiAAAAAlwSFlzAAALEgAACxIB0t1%2B/AAAADh0RVh0U29mdHdhcmUAbWF0cGxvdGxpYiB2ZXJzaW9uMy4yLjIsIGh0dHA6Ly9tYXRwbG90bGliLm9yZy%2BWH4yJAAAgAElEQVR4nOzdd1hUx9cH8O9SLCggICouiNKkgwL2hok9IolEILaIJTEaW0yiQY3mF4MtvtaYWGKNYCzYRRNFNEZFREVjAwWk2EBA6WXP%2B8fIClIEFZaV83mefVzuzs6dueDunp2ZMxIiIjDGGGOMMcYYq3Iqim4AY4wxxhhjjNUWHIAxxhhjjDHGWDXhAIwxxhhjjDHGqgkHYIwxxhhjjDFWTTgAY4wxxhhjjLFqwgEYY4wxxhhjjFUTDsAYY4wxxhhjrJpwAMYYY4wxxhhj1YQDMMYYY4wxxhirJhyAMcYYY4wxxlg14QCMMcYYY4wxxqoJB2CMMcYYY4wxVk04AGOMMcYYY4yxasIBGGOMMcYYY4xVEw7AGGOMMcYYY6yacADGGGOMMcYYY9WEAzDGGGOMMcYYqyYcgDHGGGOMMcZYNeEAjDHGGGOMMcaqCQdgjLFKO3nyJAwNDRXdDMYYY4wxpcMBGGM1UH5%2BvqKb8MbehT4wxpiyISLIZDJFN4MxVg4OwBirZnFxcfjoo4%2Bgr68PPT09TJw4EZs2bULnzp0xdepU6OnpYe7cuUhLS8OIESOgr68PY2Nj/Pjjj/I31aioKHTv3h3a2tpo3LgxPD09AYg33qlTp6JJkybQ0tKCnZ0drl27VmZbDh48CEdHRzRq1AidOnVCRESE/LGWLVtiyZIlsLe3h7a2Njw9PZGdnY2MjAz069cPiYmJaNiwIRo2bIjExETMnTsXHh4eGDZsGLS0tLBp0yYkJibCzc0Nurq6MDMzw7p16%2BT1F5b39PSEpqYm2rZtiytXrgAAFi9ejMGDBxdr66RJkzB58uS39ntgjLGqtGDBApiamkJTUxPW1tYIDAyUP7Zu3TpYWVnJHwsPDwdQ%2BvsDIF4vhw0bJn9%2BTEwMJBKJ/IuuHj16wNfXF507d4aGhgbu3r2LjRs3ys9hYmKC3377rVj79u3bB0dHR2hpacHU1BRBQUHYuXMnnJycipVbunQpBg0aVCXXiLFaixhj1SY/P5/s7e1pypQplJ6eTllZWXT69GnauHEjqaqq0ooVKygvL48yMzNp%2BPDh5ObmRk%2BfPqXo6GgyNzen9evXExGRl5cX/fjjj1RQUCCvg4goKCiI2rZtSykpKSSTyej69euUmJhYalvCw8NJX1%2Bfzp07R/n5%2BbRp0yYyNjam7OxsIiIyNjYmFxcXSkhIoOTkZLK0tKQ1a9YQEVFwcDBJpdJi9X3//fekpqZGgYGBVFBQQJmZmdS1a1caP348ZWVl0aVLl6hx48Z0/PjxYuV37txJubm5tHjxYmrZsiXl5uZSYmIiaWhoUEpKChER5eXlkb6%2BPoWFhb39XwpjjFWBP//8kxISEqigoIACAgJIQ0ODEhMT6c8//6TmzZtTaGgoyWQyioyMpJiYmDLfH4jE6%2BXQoUPldUdHRxMAysvLIyKi7t27k5GREV27do3y8vIoNzeXDh48SFFRUSSTyejkyZNUv359unjxIhERnT9/nrS0tOjYsWNUUFBA8fHxdOPGDcrOziYdHR26fv26/FyOjo60a9euarxyjL37eASMsWoUGhqKxMRELF68GA0aNEC9evXQpUsXAEDz5s3x5ZdfQk1NDXXq1EFAQAD8/PygqamJli1b4quvvsLWrVsBAOrq6oiNjUViYmKxOtTV1fHs2TPcvHkTRAQrKysYGBiU2pa1a9fis88%2BQ/v27aGqqoqRI0eibt26OHfunLzMpEmT0Lx5c%2Bjq6mLgwIG4fPlyuf3r2LEj3N3doaKigqSkJJw5cwYLFy5EvXr14OjoiDFjxmDLli3y8k5OTvDw8IC6ujqmTZuG7OxsnDt3DgYGBujWrRt27twJAAgKCkLjxo1LfDPLGGM11ccff4zmzZtDRUUFnp6eMDc3R2hoKNavX49vvvkGLi4ukEgkMDMzg7GxcbnvDxXx6aefwsbGBmpqalBXV8eAAQNgamoKiUSC7t27o3fv3jh9%2BjQAYMOGDfDx8UGvXr2goqICqVQKS0tL1K1bF56enti2bRsA4L///kNMTAw%2B%2BOCDKrlGjNVWHIAxVo3i4uJgbGwMNTW1Eo8ZGRnJ7yclJSEvLw/GxsbyY8bGxkhISAAALFq0CESEdu3awcbGBr///jsAoGfPnpg4cSImTJiAJk2aYNy4cXj69Cnu3bsnny7YsGFDAEBsbCx%2B/vlnNGrUSH6Li4tDYmKi/JzNmjWT39fQ0EB6enq5/Svah8TEROjq6kJTU7PUPrxcXkVFBYaGhvLzjxw5Uv4hYNu2bRg%2BfHi552aMsZpky5Yt8inejRo1wrVr15CUlIS4uDiYmpqWKF/e%2B0NFFH09BYAjR46gQ4cO0NXVRaNGjXD48GEkJSXJz1VaGwDx2rt9%2B3YQEbZu3YohQ4agbt26r9UmxljpOABjrBoZGRnh3r17pSaokEgk8vuNGzeWj3IVunfvHqRSKQARGK1btw6JiYn47bff8MUXXyAqKgqAGLW6ePEirl%2B/jtu3b2Px4sVo0aIF0tPT5bfCtvj6%2BiI1NVV%2By8zMhLe39yv7UbStZR1v3rw5njx5gmfPnpXaB0B8CCgkk8kQHx%2BP5s2bAwDc3d0RERGBa9eu4eDBgxg6dOgr28UYYzVBbGwsxo4di1WrViE5ORmpqamwtbUFEcHIyAh37twp8Zzy3h8aNGiAzMxM%2Bc8PHjwoUabo629OTg4GDx6M6dOn4%2BHDh0hNTUX//v1BRPJzldYGAOjQoQPq1KmD06dPY/v27fzlF2NVgAMwxqpRu3btYGBggBkzZiAjIwPZ2dk4c%2BZMiXKqqqoYMmQIfH198ezZM8TGxmLp0qXyRdg7d%2B5EfHw8AEBHRwcSiQQqKiq4cOECzp8/j7y8PPkUFhWV0v%2Bbjx07Fr/%2B%2BivOnz8PIkJGRgYOHTpULGAqS9OmTZGcnIy0tLQyyxgZGaFTp06YOXMmsrOzERERgQ0bNhRbSH7x4kXs2bMH%2Bfn5WLZsGerWrYsOHToAAOrVqwcPDw988sknaNeuHVq0aPHKdjHGWE2QkZEBiUQCfX19AMDGjRvlCZHGjBmDJUuW4OLFiyAiREVFITY2ttz3B0dHR5w6dQr37t1DWloa/Pz8yj1/bm4ucnJyoK%2BvDzU1NRw5cgTHjh2TPz569Ghs3LgRx48fh0wmQ0JCAm7evCl/fMSIEZg4cSLU1dUrNQ2SMVYxHIAxVo1UVVVx4MABREVFoUWLFjA0NMSOHTtKLbty5Uo0aNAAJiYm6NKlCz755BP4%2BPgAAC5cuID27dujYcOGcHNzw/Lly2FiYoKnT59i7Nix0NHRgbGxMfT09PD111%2BXWr%2BzszPWrVuHiRMnQkdHB2ZmZti0aVOF%2BmFpaQlvb2%2BYmJigUaNGxaYtFuXv74%2BYmBg0b94cH374IebNm4f3339f/vigQYOwY8cO6OjoYOvWrdizZw/U1dXlj48cORJXr17lb2AZY0rF2toaX331FTp27IimTZvi6tWr6Ny5MwCxNszX1xeffPIJNDU14e7ujidPnpT7/tCrVy94enrC3t4eTk5Or1yTpampiRUrVmDIkCHQ0dHB9u3b4ebmJn%2B8Xbt22LhxI6ZOnQptbW1079692IyL4cOH49q1a8W%2BMGOMvT0SKhyPZoyxajR37lxERUXJ13mV5t69e7C0tMSDBw%2BgpaVVja1jjLHaKysrC02aNEF4eDjMzc0V3RzG3jk8AsYYq5FkMhmWLl0KLy8vDr4YY6warVmzBi4uLhx8MVZFXi/VDmOMVaGMjAw0bdoUxsbGCAoKUnRzGGOs1mjZsiWICHv37lV0Uxh7Z/EURMYYY4wxxhirJjwFkTHGGGOMMcaqCQdgjDHGGGOMMVZNeA2YkmncuDFatmyp6GYwxlilxcTEICkpSdHNqFb8ms0YU2a18XW7OnAApmRatmyJsLAwRTeDMcYqzdnZWdFNqHb8ms0YU2a18XW7OvAURMYYY4wxxhirJhyAMcYYqzV8fHzQpEkT2Nralvo4EWHSpEkwMzODvb09wsPD5Y9t3rwZ5ubmMDc3x%2BbNm6uryYwxxt4xHIAxxhirNT799NNy95Y7cuQIIiMjERkZibVr12L8%2BPEAgCdPnmDevHk4f/48QkNDMW/ePKSkpFRXsxljjL1DeA0YY9UgLy8P8fHxyM7OVnRTGKty9erVg6GhIdTV1RXdlBK6deuGmJiYMh/ft28fRowYAYlEgg4dOiA1NRX379/HyZMn0atXL%2Bjq6gIAevXqhaCgIHh7e1dTyxljjL0rOABjrBrEx8dDU1MTLVu2hEQiUXRzGKsyRITk5GTEx8ejVatWim5OpSUkJMDIyEj%2Bs6GhIRISEso8zhhjjFUWT0FkrBpkZ2dDT0%2BPgy/2zpNIJNDT06vVo71r166Fs7MznJ2d8fjxY0U3hzHGWA3DAZiyiYtTdAvYa%2BLgi9UWyvy3LpVKEVfkdTY%2BPh5SqbTM46UZN24cwsLCEBYWBn19/SpvM2OsHERAerr4l1VcQgLg4aHoVryzOABTNo8eAQUFim4FUzKpqan45ZdfXuu5/fv3R2pq6muf28/PD2ZmZmjdujWOHj1aapno6Gi0b98eZmZm8PT0RG5uLgAgJycHnp6eMDMzQ/v27Uus3bl37x4aNmyIJUuWyI8tX74ctra2sLGxwbJly%2BTHZ8%2BeDXt7ezg6OqJ3795ITEwEAJw8eRLa2tpwdHSEo6MjfvjhBwBAXFwcXF1dYW1tDRsbGyxfvlxe15MnT9CrVy%2BYm5ujV69e8mQMf/zxB%2Bzt7WFnZ4dOnTrhypUr8uekpqbCw8MDlpaWsLKywtmzZwEAc%2BfOhVQqlZ//8OHDr%2BwjABQUFKBNmzb44IMP5Mc%2B/fRTtGrVSl7X5cuXAQA3b95Ex44dUbdu3RL1lJUVsKzrVV4f3wVubm7YsmULiAjnzp2DtrY2DAwM0KdPHxw7dgwpKSlISUnBsWPH0KdPH0U3lzFWlrQ04JdfgDZtAE1N4L33gNu3Fd2qmk8mA377DbC2BnbvVnRr3l3ElIoTQJSaquhmsEq6fv26Qs8fHR1NNjY2pT6Wl5dXZef977//yN7enrKzs%2Bnu3btkYmJC%2Bfn5Jcp9/PHH5O/vT0REn332Gf3yyy9ERLR69Wr67LPPiIjI39%2BfhgwZUux5gwcPJg8PD1q8eDEREV29epVsbGwoIyOD8vLy6L333qPIyEgiIkpLS5M/b/ny5fJ6g4ODacCAASXalJiYSBcvXiQioqdPn5K5uTn9999/RET09ddfk5%2BfHxER%2Bfn50TfffENERGfOnKEnT54QEdHhw4epXbt28vpGjBhB69atIyKinJwcSklJISKi77//Xt7%2B0rzcx0I///wzeXt7F2v7yJEjaefOnSXqePjwIYWGhtJ3331Xop6QkBC6ePFiib%2BPsq5XeX0sqrS/eScnpzL7WV28vLyoWbNmpKamRlKplNavX09r1qyhNWvWEBGRTCajL774gkxMTMjW1pYuXLggf%2B6GDRvI1NSUTE1N6ffff6/Q%2BWpCnxmrNWQyorNniUaNItLQIBLjXi9udeoQzZ1LlJ2t6JZWj8BAonXriJ6/37zSzZtEXbu%2BuF4DB/JrWBXhETBl9OyZolvAlMyMGTNw584dODo64uuvv8bJkyfRtWtXuLm5wdraGgDg7u4OJycn2NjYYO3atfLntmzZEklJSYiJiYGVlRXGjh0LGxsb9O7dG1lZWeWed9%2B%2BffDy8kLdunXRqlUrmJmZITQ0tFgZIsKJEyfg8Xyqw8iRI7F3717580eOHAkA8PDwwPHjx0HPp5Hs3bsXrVq1go2NjbyuGzduoH379tDQ0ICamhq6d%2B%2BOPXv2AAC0tLTk5TIyMl45Tc7AwABt27YFAGhqasLKykqedKFou4q2t1OnTtDR0QEAdOjQAfHx8QCAtLQ0nDp1CqNHjwYA1KlTB40aNSr3/GX1ERDT3w4dOoQxY8a8sg4AaNKkCVxcXErNStitWzd5Zr%2BiyrpeZfVRWfj7%2B%2BP%2B/fvyzKSjR4/G559/js8//xyAmD65evVq3LlzB1evXoWzs7P8uT4%2BPoiKikJUVBRGjRqlqC4wVjUCAoBdu5Rzql5qKrBqFeDgAHTsCGzcCGRmAq6ugL%2B/mE7n4wPk5gJz5wL29kBwsKJbDVy7BvTrB8yYAVy58nav/a5dwIcfAmPHAgYGwCefAH//LUa4XpabC8yfL67L6dNAkybAn38C%2B/a9vfawYjgAU0ZPnyq6BexNSCRVcyvHggULYGpqisuXL2Px4sUAgPDwcCxfvhy3n0/J%2BP3333Hx4kWEhYVhxYoVSE5OLlFPZGQkJkyYgP/%2B%2Bw%2BNGjXC7ufTE3799Vf8%2BuuvJcpXJHNccnIyGjVqBDU1tRJlij5fTU0N2traSE5ORnp6OhYuXIjvv/%2B%2BWF22trY4ffo0kpOTkZmZicOHDxdbt%2BPr6wsjIyP88ccf8qmGAHD27Fk4ODigX79%2B%2BO%2B//0r0IyYmBpcuXUL79u0BAA8fPoSBgQEAoFmzZnj48GGJ52zYsAH9%2BvUDIKZY6uvrY9SoUWjTpg3GjBmDjIwMedlVq1bB3t4ePj4%2B8umMZfURAKZMmYJFixZBRaXkS7ivry/s7e0xdepU5OTklHi8Msq6XqX1kTH2hjIygAMHgAcPqv/cV64A3t7Axx%2BLf5Xpc8aWLYCREfDll8DVq4C%2BPvD118CtW8CJE4CXF9C8ObBhAxASAlhaiqmIPXsCI0cCikqU8%2BAB0L8/EBQELFwIODqKaX8//ABERr5Z3VevAp9%2BKu47OADZ2SIQ7dULaNUK%2BP57IDpaPB4aCjg7A7NmiUDMxwe4cUP8LSjxet6ajgMwZaRML4ysxmrXrl2xNOErVqyAg4MDOnTogLi4OESW8gZQuL4IAJycnORrsoqOIFSHuXPnYurUqWjYsGGx41ZWVvj222/Ru3dv9O3bF46OjlBVVZU/Pn/%2BfMTFxWHo0KFYtWoVAKBt27aIjY3FlStX8OWXX8Ld3b1Ynenp6Rg8eDCWLVtWbFSokEQiKTGaFhwcjA0bNmDhwoUAgPz8fISHh2P8%2BPG4dOkSGjRogAULFgAAxo8fjzt37uDy5cswMDDAV199VW4fDx48iCZNmsDJyalEW/z8/HDz5k1cuHABT548kZ//dZV2vcrqI2PsNRQUAH/9BYwYATRtCri5Aba2wJEj1duODRte3N%2BxQ3wgr%2BnrO589E9dt5EiRZMPVVYzaxMcDixYBFhYln9OtG3D5MvC//wF164rgzdISWLdOrBmrLllZwKBBIrFa%2B/bA558DenrAzZsiOLKwAJycgCVLKp98LTlZ1J2RAQwbBly6JIKtuXOBli2Be/dEkGdiIn7PHTqIgM3ERIyQbdgAlDIrgr1lip4DySrHCSA6elTRzWCVVNPWgL287ik4OJg6d%2B5MGRkZRETUvXt3Cg4OJiIiY2Njevz4cYk6Fi9eTN9//3255/3pp5/op59%2Bkv/cu3dv%2Bvfff4uVkclkpKenJ1%2BL9u%2B//1Lv3r1LlM/LyyM9PT2SyWTUpUsXMjY2JmNjY9LW1iYdHR1auXJlifPPnDmTVq9eXeJ4bGxsmWviCvtLRJSbm0u9e/emn3/%2BuVgZCwsLSkxMJCKxVszCwkL%2B2JUrV8jExIRu3bolP3b//n0yNjaW/3zq1Cnq379/iXMXvcZl9XHGjBkklUrJ2NiYmjZtSvXr16ehQ4eWqKu0tW1lrTcrb40gUcnrVVofX1ZT14BVt9rYZ1YBV64QTZ9O1Lx58TVKRkYv7s%2BcSVSZNbppaUSv816TlUWkoyPOGRBAZG8v7tetS/Tbb2JdVU0THk5kbi7aqaFB9PvvlW9nZCTR%2B%2B%2B/uN4qKkRt2xJNmUK0Zw/Ro0dV0/aCAqIhQ8Q5W7YkevhQHM/NJTpyhGjECCJNzeLtmj%2B/Yv3LyyN67z3xPGdnoszMkuc%2Bfpxo2DCi%2BvVFOVVVom%2B%2BIXr%2B/v8yfg2rGjwCpox4BIxVkqamJp6Vs3YwLS0NOjo60NDQwM2bN3Hu3Lm3cl43NzcEBAQgJycH0dHRiIyMRLt27YqVkUgkcHV1xa5duwAAmzdvxqBBg%2BTP37x5MwBg165d6NmzJyQSCU6fPo2YmBjExMRgypQp%2BO677zBx4kQAwKNHjwCI7IF79uzBJ598AgDFRvT27dsHS0tLAMCDBw/k68pCQ0Mhk8mgp6cHIsLo0aNhZWWFadOmlehXYbuKtvfevXv46KOPsHXrVlgU%2Bfa1WbNmMDIywq1btwAAx48fl6%2B9u3//vrxcYGCgPBthWX308/NDfHw8YmJiEBAQgJ49e2Lbtm3F6iIi7N27t0Rmw8oo63qV1UfGWClkMiAxEfjnH2DrVjG64eAgbkuWiMdMTcXxyEggJgb48UdARQXw8xPT5F614XdyMjBnDtCihZjCdvBg5doYGAikpABt2wKensC5c2LdUE4O8NlnYhQlPf21L8FbRQSsXClGbSIjATs7ICwMGDWq8tPlzMyAY8eAP/4Q68ZUVIDwcGDZMuCjj8Q6KBsbYPx4YP16YO9e4NQpsW4rMVGMYr2OefPESJ2mpphy2qSJOK6uDvTtC2zeDDx8KDIQDh4s/oZ8fUVK%2BFflAPjmG%2BD4cVHnnj1A/frFH1dREX9TW7cC9%2B%2BLdWIREWIKpIbG6/WHvR4FB4CskpwA8U0PUyqKHgEjIvL29iYbGxuaPn16idGR7Oxs6tu3L1laWtKgQYMqPQJWNIvcy3788UcyMTEhCwsLOnz4sPx4v379KCEhgYiI7ty5Qy4uLmRqakoeHh6U/TxDVVZWFnl4eJCpqSm5uLjQnTt3StT/8qhOly5dyMrKiuzt7envv/%2BWH//oo4/IxsaG7Ozs6IMPPqD4%2BHgiIlq5ciVZW1uTvb09tW/fns6cOUNERKdPnyYAZGdnRw4ODuTg4ECHDh0iIqKkpCTq2bMnmZmZ0XvvvUfJyclERDR69Ghq1KiRvHzRbw4vXbpETk5OZGdnR4MGDZJnEhw2bBjZ2tqSnZ0dDRw4UD6yVl4fC738e3R1dSVbW1uysbGhoUOH0rNnz4hIjMBJpVLS1NQkbW1tkkql8iyHpWUFLO96ldfHongETKiNfa7VgoOJvviCqG9fotatxSjSy5n4ADHi9PnnRGfOlD6ycfIkkYGBKKuvX/rMl/v3ib7%2BmqhBg%2BJ1t2tXudGgnj3F855nn5Xbtu1F3a1bE0VEVOpSvHXJyUSDBr3o5/jxJUd43kRGhhgd%2Bv57IldXonr1Sv/dFb3VqydGMd3dia5de/U5tm17MapV5P2wXAcOEGlpiedZWYlMhaXZvFmUUVcnOn26wt1%2BFX4NqxocgFWhI0eOkIWFBZmamspTVr9sx44dZGVlRdbW1uTt7f3KOp0AomXL3nZTWRWrCQEYY9WJAzChNva51nr27MUH5aK3xo1FUOTpSTRjhkgNXpE06A8evJgiJ5EQzZpFlJ9PdO8e0ZdfFg8Q%2BvYl%2BusvcS5ABIIVcefOi0CitFTlN24Q2dq%2BKLNxY2WuSMVkZRGNGSOmXzo4iCl0np5EEyaIYGjlSpFKvXB6prY20a5db78dL8vJEQHyTz%2BJaYEDBxJ17iyCoGbNRKBT9PesokI0dqwIjEtz5oxIgw8QrVhRubbcukVkbS2eq6VFtH9/8ccvXHgR7P/66%2Bv1twz8GlY1OACrIvn5%2BWRiYkJ37tyhnJwcsre3l%2B8hVOj27dvk6Ogo/yb8YeE84HI4AUQ//FAlbWZVhwMwVttwACbUxj4rFZlMrJ26dYsoJESsgfr99zLXw5Rr3TrxAdjBgWjvXjFi9PTpm7UvP1%2B856uoiLqtrYt/8Hd3Fx%2B%2BC82bJ4736VOx%2Bn19Rfnhw8suk5FB5OPz4pxffCGCk7fhyZPi%2B0696tahA1F09Ns595uSyYjS08VasgkTxFoqQIwazpsnHisUHS1GMguv3%2Busq3v6lGjw4BfXYu5csabrwQMiQ0Nx7Pl%2BjW8Tv4ZVDQ7AqkjRRAJEJZMREInNXAs3Zq0oJ0As3GVKhQMwVttwACbUxj7XWDKZCLKGDSPq1InIxKT0zXoBoqlTK1%2B/k5N47pYtb7/tJ04QNW36YjTMy6v0KYFJSS/6dOlS%2BXXm5b1IAhIS8uo2rF//YgSnc%2BeyR3oqKjb2xaiOVEp06hTRxYtiuuX27WKUaM4cEbAMGUK0YIFIVFFT3bxZfIqkgYG4Zk%2BeENnYiGO9e1cuscrLZDIxIieRyDdKps6dxf0uXd5eYFwEv4ZVDTVFr0F7V5W2/9H58%2BeLlSncf6lz584oKCjA3Llz0bdv31dXzkk4GGOMsYopKBAJFBYtEnsevax%2BfbFRrYGBSAW%2Bfz%2Bwdi0wezbwfNPxVwoLAy5eFOm7n28q/1a5uoq08P7%2BYuPe1q1LL6enB4wbJxJJLFoEbN9edp1Hj4pkEubmQNeur27D6NEi6cVHHwFnzog06bt3i4QYlRURIfqRmCgSXRw5IvbyUmatW79I1PHVV%2BJvYswYYPJkkRLeykqk%2BFd7g4/eEgkwcybQpo3YWPnAAXFcKhUJNerUeTt9YVWOsyAqUH5%2BPiIjI3Hy5En4%2B/tj7NixSE1NLVFu7dq1cHZ2hrOzszjwqiw4jDHGWG2XlQX8%2BqvY58nDQwRfenoiY2BIiNioNy1NfDi%2Bc0dkKty3D3j/fXHst98qfq7CjehHjiyZee5tadoUmDKl7OCr0LRp4kP%2Bjh3A3btll1u/Xvw7enTFMwi2aycCza5dRfDUrZsIVisjOLj480%2BfVv7gq6hu3YDz50Xwa2ws/pb09ER2ykaN3s45%2BvYVAZ6jI6CtLQK/pk3fTt2sWnAAVkWkUiniimyeFx8fD6lUWqyMoaEh3NzcoK6ujlatWsHCwqLUzW/HjRuHsLAwhIWFiQM8AsYYY4yVRAQ8eCA22jU2FinEo6KAVq1E%2BvLYWJEGvFs3sdmtllbJ4GP6dPHv8uUiFfurpAEqPyYAACAASURBVKWJkSlApG1XNCMjMToikwE//1x6mQcPRECgqiqCxspo2lSkOp80CcjLE30eN65i1yogQAQPT5%2BKoPjo0YqPMioTFRXA21tsrLx1K/Dvv2Kj47fJxESkzU9MFBsqM6XCUxCriIuLCyIjIxEdHQ2pVIqAgABsf2kqgLu7O/z9/TFq1CgkJSXh9u3bMKnIf1AOwBhjjNVWjx%2BLUZi4OHGLj39xPy4OyMx8UdbJSeyN9NFHFZ/61bu3mGp39aoYxRg1qvzy27aJc7q6vnp0qrp88w2wZQvw%2B%2B9ij7HCvaYKbdkC5OcDgwYBzZpVvn51dRGgOjmJAGzdOjFF8pNPREClqytuhfd1dIBVq8TUPEAEb//3fyJQeZfVqyf2UasqEgnv36WsFL0I7V126NAhMjc3JxMTE/rxxx%2BJiGj27Nm0b98%2BIiKSyWQ0depUsrKyIltbW/L3939lnU6FGZaYUlHGJBwNGjQgIqKEhAQaPHhwqWW6d%2B9OF4pm4CpFdnY2DRkyhExNTaldu3YUXUYGq1GjRpG%2Bvn6xvcaIiGbNmiXfi6tXr17yvcP27t0rP%2B7k5ESni%2Bx78vXXX5O1tTVZWlrSl19%2BSbKXMk4NHDiwxHmIiJYsWUIA6PHjx8WOh4aGkqqqKu3cuVN%2BbNOmTWRmZkZmZma0adOmYtfEwsJCvk/Wy9lNd%2B3aRQDk1y0pKYl69OhBDRo0oAkTJsjLZWRkUP/%2B/al169ZkbW1N3377bbF6StvC4sSJE/LzOjg4UN26dSkwMJCIiHx8fMje3p7s7Oxo8ODB8j3CYmJiqGfPnmRnZ0fdu3enuLg4%2BTlUVFTkdQ0cOLDE9SoPJ%2BEQamOfq8y1ayIbX2EiiLJuDRsS9e8vEle8TrY5ohd7Kllbi0xzZZHJXqRp37Hj9c5VVQYOFO2aNav4cZmMyMJCPHbgwJufJyyMqEWLimcyXLTo9X8vrNrxa1jV4ABMyTgBRK1aKboZrJKUOQArT0UCsNWrV9Nnz1Pj%2Bvv705AhQ0otFxISQhcvXiwRGBVuGExEtHz5cnldz549kwdWV65codatWxMR0ZkzZ6hTp06Un59P%2Bfn51KFDB/mm0kREu3fvlm9KXdS9e/eod%2B/e1KJFi2IBWH5%2BPrm6ulK/fv3kAVhycjK1atWKkpOT6cmTJ9SqVSv5dhLlXZOnT59S165dqX379vIy6enpdPr0aVqzZk2JAOzEiRNERJSTk0NdunSRb2RdkS0skpOTSUdHhzKep9Mueh2nTp0q35vQw8NDHkAeP36chg0bJi9Xkb%2BBsnAAJtTGPr9VMhnR33%2BLfa4KP8BLJETduhF9%2BinR7NlEa9eKTW2vXiVKTX07583JEZn5AKLnG7CX6p9/RJkmTaokA90bKWxbo0bF0%2BGfOvUiS9%2BbZOQr6vFjIj8/sT/Z0KFE/fqJlPEWFmJvMhUVsX/Xtm1v53ys2vBrWNV4x8d%2B31GchINV0owZM7B69Wr5z3PnzsWSJUuQnp6O9957D23btoWdnR327dtX4rkxMTGwtbUFAGRlZcHLywtWVlb48MMPkZWV9cpz79u3DyOfrzHw8PDA8ePHQUQlynXr1g26uroljmtpacnvZ2RkQPJ8vUbDhg3l94sel0gkyM7ORm5uLnJycpCXl4emzxcnp6enY%2BnSpZg1a1aJ80ydOhWLFi2S11No5cqVGDx4MJoUmcJz9OhR9OrVC7q6utDR0UGvXr0QFBT0ymsxe/ZsfPvtt6hXr578WIMGDdClS5dixwBAQ0MDrq6uAIA6deqgbdu2iI%2BPBwCsW7cOEyZMgM7ztRNNXp5eBGDXrl3o168fNJ5PTym8jkSErKwseT%2BvX7%2BOnj17AgBcXV1L/RtgrNrl5oq1M23aiKQYQUEiucUXX4jkGSEhwMaNwA8/AGPHiox6trYiIcHbUKeOyF4HAIsXl12uMPnG6NE1LwNd587ilpoqpggWKky%2BMWrUm2XkK6pxY2DGDGDFCjEl8/Bh4OxZ8bt6/FisFUtOBoYOfTvnY0zJ8RowZcRrwJSaZF4Fs01VEn1fMqgp5OnpiSlTpmDChAkAgD///BNHjx5FvXr1EBgYCC0tLSQlJaFDhw5wc3MrEYQUWrNmDTQ0NHDjxg1ERESgbdu28sfGjBmDzz///EW2zueKbsmgpqYGbW1tJCcno3HjxhXum6%2BvL7Zs2QJtbW0EBwfLjwcGBmLmzJl49OgRDh06BADo2LEjXF1dYWBgACLCxIkTYWVlBUAEQF999ZU8KCm0b98%2BSKVSODg4lGh7YGAggoODceHChVL7BIiEOgkJCfKfR40aBVVVVQwePBizZs2CRCJBeHg44uLiMGDAACwu7wNdKVJTU3HgwAFMfv6BsCJbWAQEBGDatGnFjo0aNQqHDx%2BGtbU1fn6%2BON/BwQF79uzB5MmTERgYiGfPniE5ORl6enrIzs6Gs7Mz1NTUMGPGDLi7u1eq3Yy9ln37RKCVmCh%2BbtoU%2BPJL4PPPRTa56jJunEjmcfKkyDj3cqKD5GRg506xDmfs2OprV2XMmAEMHAgsXQpMnCgyQ%2B7cKR7z8am%2Bdrzra70YqyT%2BH6FsJBLxzWBFsg0x9lybNm3w6NEjJCYm4sqVK9DR0YGRkRGICN999x3s7e3x/vvvIyEhAQ8fPiyznlOnTmHY8wXF9vb2sLe3lz%2B2fv36EsHX2zJ//nzExcVh6NChWLVqlfz4hx9%2BiJs3b2Lv3r2YPXs2ACAqKgo3btxAfHw8EhIScOLECZw%2BfRqXL1/GnTt38OGHHxarOzMzEz/99BN%2B%2BOGHEuedMmUKFi5cCJVKfHj4448/cPXqVZw%2BfRqnT5/G1q1bIZPJMG3aNHnQUxn5%2Bfnw9vbGpEmT5El6XrWFxf3793H16lX06dOnWF0bN25EYmIirKyssGPHDgDAkiVLEBISgjZt2iAkJARSqRSqqqoAgNjYWISFhWH79u2YMmUK7ty5U%2Bn2M1Yp166J7HGF%2B0Nt2CAyF/r6Vm/wBYjRtHHjxP3S/u9u3izei/v0EVkWa6L%2B/cV1TEgA/vhDZGvMyhIJQ0xNFd06xmotHgFTNioqYlPJp08BfX1Ft4a9hvJGqqrSxx9/jF27duHBgwfw9PQEIIKFx48f4%2BLFi1BXV0fLli2RnZ39Vs9buCWDoaEh8vPzkZaWBr3X/CA1dOhQ9O/fH/PmzSt2vFu3brh79y6SkpIQGBiIDh06oGHDhgCAfv364ezZs9DU1ERYWBhatmyJ/Px8PHr0CD169MDKlSsRHR0tH/2Kj49H27ZtERoairCwMHh5eQEAkpKScPjwYaipqUEqleLkyZPy88fHx6NHjx7y/gKApqYmPvnkE4SGhmLQoEG4du2avMyDBw/g5uaG/fv3vzJoHTduHMzNzTFlyhT5MUNDQ7Rv377EFhYuLi4AxAjnhx9%2BCHV19RL1qaqqwsvLC4sWLcKoUaPQvHlz7NmzB4CYorl79240er5XTWFfTExM0KNHD1y6dAmm/KGNVZWMDGDIEBEgjBwpphhWdH%2BqqjJ5ssj2t3Mn4OcHtGwpjhO9mH74%2BecKa94rqaiIjIgjR4qNmRs0EMfHjFFsuxir5XgETNk8/2aa14GxyvL09ERAQAB27dqFjz/%2BGACQlpaGJk2aQF1dHcHBwYiNjS23jm7dusm3U7h27RoiIiJeeV43Nzds3rwZgFiX1LNnzzKnOJam6N54%2B/btg6WlJQAx0lW4liw8PBw5OTnQ09NDixYtEBISgvz8fOTl5SEkJARWVlYYP348EhMTERMTg3/%2B%2BQcWFhY4efIk7Ozs8OjRI8TExCAmJgaGhoYIDw9Hs2bNEB0dLT/u4eGBX375Be7u7ujTpw%2BOHTuGlJQUpKSk4NixY%2BjTpw/y8/ORlJQEAMjLy8PBgwdha2sLbW1tJCUlyevq0KFDhYKvWbNmIS0tDcuWLSt23N3dXR4AlraFhb%2B/P7y9veU/ExGioqLk9/fv3y%2B/jklJSZDJZAAAPz8/%2BDyflpSSkoKc5yPtSUlJOHPmDKytrSv8e2Os0iZMAG7cAKytgdWrFR98AWJPLS8v8cVn0f%2BHwcFAZCQglQIDBiiufRXh7S36cfOmSN%2BvoyPS8jPGFIYDMGVTGIDxOjBWSTY2Nnj27BmkUikMDAwAiBGlsLAw2NnZYcuWLfIP5WUZP3480tPTYWVlhTlz5sDJyUn%2B2JgxY15sFl7E6NGjkZycDDMzMyxduhQLFiwAACQmJqJ///7yct7e3ujYsSNu3boFQ0NDbNiwAYBIIGJrawt7e3scO3YMy5cvBwDs3r0btra2cHR0xIQJE7Bjxw5IJBJ4eHjA1NQUdnZ2cHBwgIODAwYOHPhmF%2B8lurq6mD17NlxcXODi4oI5c%2BZAV1cXOTk56NOnD%2Bzt7eHo6AipVIqxFVgb0rJlS0ybNg2bNm2CoaEhrl%2B/jvj4eMyfPx/Xr19H27Zt4ejoiPXPF8/36dMHenp6sLa2hqurKxYvXiwfVYyJiUFcXBy6d%2B8ur5%2BIMHLkSNjZ2cHOzg7379/HnDlzAAAnT55E69atYWFhgYcPH8LX1xcAcOPGDTg7O8PBwQGurq6YMWMGB2CsYlJSgOHDgd27K/6czZvFrX594M8/X4zU1ASFGzOvXy/6BrwY/Ro79u0lsqgq6uov9t8CRCKMl5L%2BMMaql4RKS0fGaixnTU2EpaeLDFDduim6OayCbty4IU8EwVhtUNrfvLOzc6lB%2BrusNvYZ8%2BcDhZlGZ80C5s0rPwnDjRsiwUVmpljzVZ3JISqqTx/g2DHgp59E9kAjIzENMTZWjILVdBkZgLGxSBxy%2BTLwUsIhxspSK1/DqkEN/9qGlVD4JsYjYIwxxmoaIpE%2BvtCPP4oAa/Pm0ke1MjPFuq/MTGDYMBHc1ETTp4sAbMUKkXgjPx8YNEg5gi9AXPvjx0VyEw6%2BGFM4noKobHgKImOMsZrq4kWx91OTJsDBgyKT4O7dQNeuQFxcyfKTJ4vMhxYWwC%2B/1Ix1X6V5/30RuDx4IIJKoGYn3yiNg4PYL40xpnAcgCkbTsLBGGOspioc/fL2Fskpzp0DzMyAS5cAFxfg/PkXZbdvF%2Buq6tYV6740NRXT5oqQSF6sBSsoENkQe/dWaJMYY8qLAzBlwyNgSouXW7Lagv/Wa6m8PLHPFCCScACApaUIunr2BB4%2BBLp3F/tR3b4NfPaZKLN8uXJMi/P0BAwNxf3PPuPNhRljr41fPZQNB2BKqV69ekhOTuYPpuydR0RITk5GvRqcZS0oKAitW7eGmZmZPCtnUbGxsXjvvfdgb2%2BPHj16ID4%2BXv7Yt99%2BC1tbW9ja2so3s2bPHTsGPH4sgq62bV8c19UFgoKA8ePF%2Bqlhw8SUxPR0EdQUbnZc06mri73Jxo4FvvhC0a1hjCkxTsKhbDgJh1IyNDREfHw8Hj9%2BrOimMFbl6tWrB8PCkYIapqCgABMmTMBff/0FQ0NDuLi4wM3NrViK/enTp2PEiBEYOXIkTpw4gZkzZ2Lr1q04dOgQwsPDcfnyZeTk5KBHjx7o168ftLS0FNijGmTbNvHv8OEl13Kpq4s1Xra2wKRJwKNHgKkpsHZtzV33VZr33xc3xhh7AxyAKRseAVNK6urqaNWqlaKbwVitFxoaCjMzM/nG1V5eXti3b1%2BxAOz69etYunQpAMDV1RXu7u7y4926dYOamhrU1NRgb2%2BPoKAgDBkypPo7UtM8fQrs3SvuDx1adrkvvhAjZOvXA76%2BAAevjLFaiKcgKhtOwsEYY68tISEBRkZG8p8NDQ2RkJBQrIyDgwP27NkDAAgMDMSzZ8%2BQnJwMBwcHBAUFITMzE0lJSQgODkZcaZn9aqPdu4HsbLHGy9i4/LI9e4oEHDY21dM2xhirYTgAUzY8AsYYY1VqyZIlCAkJQZs2bRASEgKpVApVVVX07t0b/fv3R6dOneDt7Y2OHTtCtfA1uYi1a9fC2dkZzs7OtWfacWH2w8LkG4wxxsrEAZiy4QCMMcZem1QqLTZqFR8fD%2BlLm%2Bk2b94ce/bswaVLlzB//nwAQKNGjQAAvr6%2BuHz5Mv766y8QESwsLEqcY9y4cQgLC0NYWBj09fWrsDc1RFwccPKkSCc/eLCiW8MYYzUeB2DKhpNwMMbYa3NxcUFkZCSio6ORm5uLgIAAuLm5FSuTlJQEmUwGAPDz84OPjw8AkcAjOTkZABAREYGIiAj05r2gxHRCIsDNDXgeqDLGGCsbJ%2BFQNrwGjDHGXpuamhpWrVqFPn36oKCgAD4%2BPrCxscGcOXPg7OwMNzc3nDx5EjNnzoREIkG3bt2wevVqAEBeXh66du0KANDS0sK2bdugplbL30aJePohY4xVkoR4YyKl4tymDcIuXxaZo9LSFN0cxhirMGdnZ4SFhSm6GdXqne/zpUtizy89PeD%2BfZFunjH2znjnX8MUhKcgKpuiI2DPp8gwxhhjClE4%2BuXlxcEXY4xVEAdgyqhBAzHtIyND0S1hjDFWW%2BXnA/7%2B4j5PP2SMsQrjAKwKBQUFoXXr1jAzM8OCBQtKPL5p0ybo6%2BvD0dERjo6OWL9%2BfcUqLty4khNxMMYYU5Tjx4EHDwBzc6BdO0W3hjHGlEYtXz1cdQoKCjBhwgT89ddfMDQ0hIuLC9zc3GBtbV2snKenJ1atWlW5yjU1xVx7TsTBGGNMUYom35BIFNsWxhhTIjwCVkVCQ0NhZmYGExMT1KlTB15eXti3b9/bqZxHwBhjjClSejoQGCjuDx2q2LYwxpiS4QCsiiQkJMDIyEj%2Bs6GhIRISEkqU2717N%2Bzt7eHh4VFsc9BycQDGGGNMkQIDgcxMoHNnwMRE0a1hjDGlwgGYAg0cOBAxMTGIiIhAr169MHLkyFLLrV27Fs7OznB2dsbjx485AGOMMaZYvPcXY4y9Ng7AqohUKi02ohUfHw%2BpVFqsjJ6eHurWrQsAGDNmDC5evFhqXePGjUNYWBjCwsKgr6/PARhjjDHF2blTJOCoUwcYMkTRrWGMMaXDAVgVcXFxQWRkJKKjo5Gbm4uAgAC4ubkVK3P//n35/f3798PKyqpilWtqin85CQdjjLHqQgQsWSKCLpkM%2BOorQEdH0a1ijDGlw1kQq4iamhpWrVqFPn36oKCgAD4%2BPrCxscGcOXPg7OwMNzc3rFixAvv374eamhp0dXWxadOmilXOI2CMMcaqU0EBMHkysHq1%2BHnRImD6dMW2iTHGlBQHYFWof//%2B6N%2B/f7FjP/zwg/y%2Bn58f/Pz8Kl8xB2CMMcaqS0YG4O0NHDggph1u2QJ4eiq6VYwxprR4CqIy4gCMMcZYeWQy4OpVID//zep5%2BBBwdRXBl44O8PffHHwxxtgb4gBMGXEAxhhjrDyzZgH29kDr1sCvvwLZ2ZWv49YtoGNH4MIFoFUr4N9/ga5d335bGWOsluEATBlxEg7GGGNliYsDli4V9%2B/eBcaPB1q2BPz8gNTUVz//6VNgzx4RfEVHAy4uwNmzgKVllTabMcZqCw7AlBGPgDHGGCvLDz8AOTmAhwewYwfQpo2YSvjdd0CLFsC33wKFWXiJgKgosa7r888BBwegUSNg8GAgJQUYOBAIDgaaNlVsnxhj7B3CSTiUEQdgjDHGSnP7NrBxI6CqCsyfD1hYAB9/LNZuLVgAnDghMhguWwZ06QJERABJScXrUFcXQZu7O/DNN6Iuxhhjbw0HYMqIAzDGGGOlmT1bpIwfM0YEXwAgkQC9eonbhQvAwoViiuGJE%2BLxJk2ATp3ElMNOnQAnJ6B%2BfcX1gTHG3nEcgCkjXgPGGGPsZeHhwJ9/AnXrAt9/X3oZFxdg1y4gMlKMfjk6AiYmIkhjjDFWLTgAU0Y8AsYYY%2Bxl330n/p04ETA0LL%2Bsubm4McYYq3achEMZ1a8v5uRnZwO5uYpuDWOMMUULCQGOHhUzJGbMUHRrGGOMlYMDMGUkkbwYBeNpiIwxVrsRATNnivvTpwONGyu2PYwxxsrFAZiy4mmIjDHGAODgQbFPl74%2BMHWqolvDGGPsFTgAU1aciIMxxphMBvj6ivvffffivYExxliNxQGYsuIRMMYYY/7%2BwNWrgJGR2EiZMcZYjccBmLLiAIwxxmq33Fxgzhxxf%2B5coF49hTaHMcZYxXAApqw4AGOMsdcSFBSE1q1bw8zMDAsWLCjxeGxsLN577z3Y29ujR48eiI%2BPlz/2zTffwMbGBlZWVpg0aRKIqDqbXtyGDcDdu4ClJTBihOLawRhjrFI4AFNWHIAxxlilFRQUYMKECThy5AiuX78Of39/XL9%2BvViZ6dOnY8SIEYiIiMCcOXMw83mGwX///RdnzpxBREQErl27hgsXLiAkJEQR3QAyM4H//U/c//FHQI239WSMMWXBAZiy4iQcjDFWaaGhoTAzM4OJiQnq1KkDLy8v7Nu3r1iZ69evo2fPngAAV1dX%2BeMSiQTZ2dnIzc1FTk4O8vLy0LRp02rvAwBgzRrg/n3A2Rn46CPFtIExxthr4QBMWfEIGGOMVVpCQgKMjIzkPxsaGiIhIaFYGQcHB%2BzZswcAEBgYiGfPniE5ORkdO3aEq6srDAwMYGBggD59%2BsDKyqpa2w8AyMoCliwR9%2BfOFXtDMsYYUxocgCkrDsAYY6xKLFmyBCEhIWjTpg1CQkIglUqhqqqKqKgo3LhxA/Hx8UhISMCJEydw%2BvTpEs9fu3YtnJ2d4ezsjMePH7/9Bv7%2BO/DgAdCmDdC//9uvnzHGWJXiAExZcQDGGGOVJpVKERcXJ/85Pj4eUqm0WJnmzZtjz549uHTpEubPnw8AaNSoEQIDA9GhQwc0bNgQDRs2RL9%2B/XD27NkS5xg3bhzCwsIQFhYGfX39t9uB3Fxg4UJxf9YsHv1ijDElxAGYsioMwHgNGGOMVZiLiwsiIyMRHR2N3NxcBAQEwM3NrViZpKQkyGQyAICfnx98fHwAAC1atEBISAjy8/ORl5eHkJCQ6p%2BCuGULEBcH2NgA7u7Ve27GGGNvBQdgyqowCQePgDHGWIWpqalh1apV8vVbQ4YMgY2NDebMmYP9%2B/cDAE6ePInWrVvDwsICDx8%2BhK%2BvLwDAw8MDpqamsLOzg4ODAxwcHDBw4MDqa3x%2BPuDnJ%2B77%2BgIq/BbOGGPKiPPWVqGgoCBMnjwZBQUFGDNmDGbMmFFqud27d8PDwwMXLlyAs7NzxSrnKYiMMfZa%2Bvfvj/4vrZ364Ycf5Pc9PDzg4eFR4nmqqqr47bffqrx9ZQoIEPt%2BmZsDQ4Yorh2MMcbeCH99VkUqstcMADx79gzLly9H%2B/btK3cCDsAYY6z2KCgAnq9Hw8yZgKqqYtvDGKvxYlJjEJkcqehmsFJwAFZFKrLXDADMnj0b3377LerVq1e5E3AAxhhjtceePcDNm4CxMTBsmKJbwxir4f6N%2Bxc2v9jAYpUF3t/yPg7cOgAZySr03NyCXBy4dQBD9wyt4lbWXhyAVZGK7DUTHh6OuLg4DBgwoPIn4I2YGWOsdiACfvxR3J8xA1BXV2x7GGM12tWHVzFg%2BwBk5mVCRaKC49HH4RbgBouVFlh%2Bbjme5pT88r5AVoDjd49jzP4xaLqkKdwC3LD96nYFtL524DVgCiKTyTBt2jRs2rTplWXXrl2LtWvXAsCLPWWKJuEg4lTEjDH2rjpwAIiIAJo3Bz79VNGtYYxVsZz8HFx5eAXn4s8hJSsFY53Gorlm8wo9927KXfTe1hup2alwt3THuoHrsPnyZqy6sAp3Uu5gytEpmBU8C6McR2Fiu4lIzkyG/zV//Pnfn3iY8VBej31Te3jZeGH3gd1V1c1aTUJEpOhGvIvOnj2LuXPn4ujRowBEKmMAmDlzJgAgLS0NpqamaNiwIQDgwYMH0NXVxf79%2B8tNxOHs7IywsDDxg4YGkJUFpKcDDRpUYW8YY%2BzNFXv9qiXeuM9EQPv2wIULwLJlwOTJb69xjL3DUrNTERQVhAO3D%2BB07GloqGugacOmaNKgCZpoNBH/Pr%2BZ65nDvqm9QtpJRIhOjcb5%2BPM4n3Ae5%2BLP4dKDS8gtyJWX0dfQx2b3zehn3q/cuu4/u48uG7vgbspduLZ0xeGhh1FPTSxxKZAV4MDtA1h%2BfjlOxpws9flmumbwsvGCt503rPWtAdTO1%2B3qwCNgVaToXjNSqRQBAQHYvv3FUK62tjaSkpLkP/fo0QNLliypeBZEQKwDy8oSo2AcgDHG2Lvnr79E8KWvD4wdq%2BjWsDfwOOMxNl/ZjLi0uDLLqEhU0M24G9xau0FVhROtVNbdlLs4cOsA9t/ej1Oxp5Avyy/2%2BK3kW2U%2Bd3rH6VjUaxEk1TijKPx%2BOD7c8SHupd0r8ZhVYyu0N2yP2NRYBMcEo//2/pjecTrmvzcfdVTrlCifkpWCPtv64G7KXTgZOGGv11558AUAqiqqcLd0h7ulO648uIKVoSuxLWIbGms0hpetF7xsveBk4FSt/a/NOACrIkX3mikoKICPj498rxlnZ%2BcSG3%2B%2BFi0t4OFDEYAZGLx5fYwxxmoOIuB//xP3v/pKzHpgSufyg8tYcX4Ftl/djpyCnFeWX3Z%2BGYy1jTGx3USMbjMaOvV1qqGVyiuvIA8LzyxEwLUA/Pf4P/lxVYkquht3h1trN/Qx7QOJRIJHGY/wKOMRHqY/fHE/4yEORR7CkrNLkJ6bjtUDVkNFUvUpEmQkw7gD43Av7R4aazRGe2l7dDDsgPbS9nCRuqBRvUbycgv/WYjZwbOx5OwSnLp3Cv6D/WGiYyKvKzMvEx/4f4Crj66itV5rHBl6BFp1tco8t0MzB6x3W4%2B1A9dCAgkHXQrAUxCVTLGhYCcnIDxcfDtamZEzxhhTgNo4leWN%2BhwSAvToAejoALGxL9b%2BshovX5aP/bf2Y/n55TgVewoAIIEEH1h8gJ6tekKC0j/wPs15is1XNuNOyh0AgIa6BkY6jMSk9pNg2diy2tqvTMYfHI9fL/4KANCqq4V%2BZv0w0GIg%2Bpn3g259CqXJvwAAIABJREFU3QrVcej2IQz%2BczByCnIw3H44fh/0O9RUqnaMYuuVrRixdwSaazbH7Ym30aBO%2BTOZ/o37F967vXEv7R606mph3cB1GGIzBLkFuXAPcMeRqCMw0jLCGZ8zMNI2KreuyqiNr9vVgUfAlBmnomeMsXdXYebDKVM4%2BFISqdmpWHdxHVZfWI3YtFgAgGYdTfi08cHEdhNhpmv2yjp8u/nicORhLD%2B/HH/f/RtrwtZgTdga9DbtjcntJ6OvWd9qGaFRBr9c%2BAW/XvwVdVXrwn%2BwPwZYDCh1et6rDLAYgMNDD8PN3w1bI7YiMy8T2wdvf2Vd/9z7Bwv%2BWYBmDZvhtw9%2Bq/C00cy8TMw8LnIC/NTzp1cGXwDQyagTLn92GaP3j0bgzUB47vLE33f/xrPcZzgSdQSNNRrjr%2BF/vdXgi1UdDsCUGQdgjDH2boqMBP7%2BWwReX36p6NawCniU8QidNnSSj16Z6Zrhy3Zf4lPHT8udDvYyFYkKPrD4AB9YfIDrj69jxfkV2HJlC47dOYZjd47BXNdcXq9m3bcXmKdlp0FdVR0a6sox1fX43eOYdGQSAGCD2wZ8aPXhG9XXs1VP/DX8L/T7ox9239gN9wB37B6yG/XV65coezHxImYFz0JQVJD8mJmuGWZ0mVGhcy35dwkSniWgrUFbDHcYXuE26tTXwe4hu7EmbA2mHZ2GdeHrAAAN6zRE0NAgtG7cusJ1McXir1CUGQdgjDH2bvr3X/Fvr15iCiIDANx4fAPDA4ejz7Y%2BWHNhDR5nPFZ0kwAAWXlZGBQwCHdS7sCuiR0Oeh/ErYm3MKn9pEoFXy%2Bz1rfGrx/8ivhp8Vj0/iK00G6ByCeRmBQ0CYb/Z4ipQVNxN%2BXuG7f/VOwptFjWAi3%2BrwW2X92O6l6dciHhArZFbEOBrKBC5aOeROHjnR%2BjgAowo/MMDLV/OxsGdzTqiOCRwWis0RhHoo6g3x/98CznxX6r/z36D4P/HAzndc4IigpCwzoN4ePoAwCYHTwboQmhrzxH4rNELDyzEACwtPfSSo9mSiQSfOHyBc6POQ/LxpZooN4A%2B732w6m5U6XqYYrFAZgy4wCMMcbeTaHPP8i1a6fYdtQQd1PuYuTekbBdY4ttEdtw7M4xfHH4Cxj8bIC%2B2/pi8%2BXNSMtOe%2B36cwty8dedv/Dl4S/R%2BffOOBx5uMLPlZEMn%2B77FOfiz6GFdgscG34MAywGvNVpgrr1dfF1569xZ9Id7Pp4F7q26IqnOU%2Bx7PwymK0ww6CAQTh%2B9/hrBU5Ho46i77a%2BeJrzFMlZyRi6ZyjcAtzw/%2BzdeXiM5/rA8e9M9gSJxJqFREIksSQkljq1Fi1NLLVWLVXUqZ6qlpaj7a912tJT7akWx1Fau9jFVjuhSgiCiCWyIBGyCLLJOr8/XhmJREQkmQz357re652Zd7vfkJm58zzP/cTciym3%2BEtyKu4UnZZ0Yvim4XRc0pGI2xEl7n/3/l18V/uSfD8Z3ya%2BfNPtm3KNx6u%2BF4GjAqlfrT6BVwPpvrw7wTeCGb5pOM3/25yNFzZiamjK5PaTiZoYxeI%2Bi/mw7Yfk5OUwdMPQYic5Luiz/Z%2BRnp1Ov6b96OTYqcxxtqzXkvPvnSfu4zi6OHUp83mEbkgCps/yxwSkpJS8nxBCCP2Sn4C1bavbOHQs5l4M47eNx3WuK8vOLEOtUjO%2B9Xh%2B7/M7vRr3QqVSsStiF6MCRlF3dl36r%2BnP2vNruZl6s0gJ8kclpSex/MxyBq0bRK1/16LHih7MPTGXv67/he9qX%2BafmF%2BqGD/f/zlrz6%2BlunF1tr%2B5nXrV6pXHrRfLUG3IG%2B5vcOjtQ5wad4pRnqMwMjBiy6UtvLL8FVouaElgdGCpz7fpwiZ8V/uSkZPBGK8xLPJdhKWJJdsub8N9njv/C/4feZq8CrufuJQ4%2Bvj3ISMnA2MDY/66/hctF7Rk4cmFxSaTuXm5DN0wlIuJF/Go7cHK/isrZDyce213Dr99mIaWDQmKDcLnVx9WnF2BodqQ97zfI%2BKDCL7v8T21zGsBMOuVWXjW8yQyOZIJOyY89ryn4k6xJGQJRmoj/t39388cp1qlLtduqKLySBVEPVOoGs2338L06TB1KjyY6FkIIaqqF7GaVpnu%2Bf59pYdDTg7cvftCFuCIT4tn1p%2BzmH9iPpm5mahVaoa3GM7/dfo/nGo6afdLTE9kQ9gG/M/7ExgdiIaHX2lUqLAxtyk04W4d8zrUMKnB4WuHOXL9SKHkonmd5vi5%2BpGVm8X3f30PwEftPuL7Ht8/9kv%2B76d/Z/SW0RioDNj%2B5nZ6uvSsoJ/I48WnxfO/4P8xP3g%2BN1NvAjC%2B9Xi%2B6/5did0fV55dycjNI8nV5DKx7UT%2B0/M/qFQqbqTcYMKOCWy%2BuBmATg078avvrzS2aVyucd/PuU/nJZ0Jig2ig0MH1g9az6Rdk/AP9Qegd%2BPeLPJbVCihnbJ7CrOPzsbGzIbjY48XKsVeEWLuxfDKslcIvx3OiJYj%2BL9O/4ejlWOx%2B15MvEjrha1Jz05neb/lvNXirULbNRoNXZd15WD0QT5q9xE/9PyhQmMvLy/i%2B3ZlkARMzxT6RZg7Vxmc/d57MG%2BebgMTQogneBE/yMt0z8eOQfv20KwZnDtXMYFVESmZKUTdiSIyOZKo5Cii7ijLgagDpGWnATDQfSBfdf4Kt9puJZ4r9l4s68LWsS5sHZeTLpOUnlQoIXuUkdqIzo6d8W3ii6%2Brb6Ev1ktDljJm6xhy8nLo79af5f2WFylOcSDqAD1W9CAnL4f/9v4v473Hl/0HUQ4yczL57sh3fH3oa7LzsrGvYc%2BC3gvo3aR3kX0XnlzI%2BG3j0aDhs5c/Y0aXGYXmgtJoNKwPW8/7f7xPfFo8poamzOg8g0ntJ5VLeXaNRsPIzSNZfnY5DSwbcGLsCepY1AFg9bnVvLfjPe7cv4ONmQ0LfRfS360/S0OWMipgFIZqQ/YM30Nnx87PHEdpZOZkcjfzrja%2Bkiw6tYixW8dSzbgaIe%2BG4GztrN0WcDGAvmv6YmNmQ/g/wvVmfrcX8X27MkgCpmcK/SIsWwYjR8Jbb8Hy5boNTAghnuBF/CAv0z3PmaOUnh89GhYvrpjAKlCeJo/lZ5YTcy%2BGtOw00rLSlHWBx3fv3yX6TjRJGUmPPU/vxr35V5d/4VXfq0xx5OTlkJSepJ1wN39JykiieZ3m9HTpWWIL0f6o/fRf05%2B7mXdpY9eGLUO2ULdaXUBp7Wi/uD137t/h4/YfM7vH7DLFWBFC40N5Z8s72oIQbzZ/k596/kRti9oA/Ofof/ho90cAzOo2i0//9uljz5WUnsRHuz9i2ZllgNI1b0bnGfR36/9Mk/d%2Bf%2BR7Ptn7CeZG5hwZfQTPep6Ftsfci2F0wGj2RO4BoG/TvuwI30FWbhYLei/gXe93y3ztiqTRaBi0fhDrw9bTxq4Nf779J0YGRmTlZtFsfjPCb4fzy2u/8H6b93Udaqm9iO/blUESMD1T6Bdh82bo1w/69FEeCyFEFfYifpCX6Z6HDYNVq2DBAni3an7RLEn%2BBLOlYWpoiqOVI05WTjSq2QgnKyecajrhXtu9Skw8HJYQRq%2BVvbh69yqOVo7seHMHtcxr0W5xOyKTI%2BnbtC/rB64v9fxPlSU3L5efg35m%2Bv7pZORkUMu8Fj%2B/%2BjNXbl/hi4NfADD3tblMaPP48UoF7byyk/e2v0fUnSgAWtVvxdddvuZVl1efOhHbdnkbfqv90KBhw6AN9HfrX%2Bx%2BeZo85p%2BYz5Q9U7ifcx%2BACT4TmNtr7lNdr7IlZyTj%2BT9Prt29xtQOU5n5ykx%2BOvYTk3ZNwtXGlXN/P4eRgZGuwyy1F/F9uzJIAqZnCv0i7NsHr7wCXbrA/v26DUwIIZ7gRfwgL9M9N24MV67A6dPg6fnk/auY7su7szdyLwPcB9CybkssjCywMLYotK5uUp2Glg2pW61ulZ9U%2BGbqTfxW%2B3HixgmsTK1wtHIk5GYIreu3JnBUYKkm0dWVyORIxm4dy/6oh98R1Co1i/0WM8pz1FOdKys3i8WnFvOvQ/8iLjUOgA4OHfi669el7g54Pv487Re3JyUrhRmdZ/B5p8%2BfeMzFxIt8uPND6ljUYbHfYr1IXv689iedlnRCo9GwduBaxm0dR/L9ZLYO3crrTV7XdXhP5UV8364MkoDpmUK/CCdOKCWKW7cG%2BeUQQlRxL%2BIH%2BVPfc1IS1KoFZmZKAQ6jqv9ls6C4lDjs/2OPgcqAm5NvYm1mreuQykV6djpvbniTgEsBADjUcCBoTBD1q9fXcWRPptFoWHx6MR/v/pj07HRW9l/JII9BZT5fRnYG80/MZ%2BafM7VdSF9p9Apfd/maNnZtHtsilpSeRJtFbYhMjmSQxyD83/B/pm6MVd2XB7/kq8CvtM9fafQKu9/arXf3/CK%2Bb1eGZx9JKXRH5gETQojny4kTyrpVK71LvgD8Q/3J0%2BTh28T3uUm%2BAMyNzNkwaAOf7f%2BM3ZG7%2Bb3P73qRfIEyce%2BYVmN4w%2B0NUrJSaGDZ4JnOZ2Zkxscvfcy41uP46dhPzD46m72Re9kbuZdqxtUediV90J20Uc1GOFo58sEfHxCZHEmr%2Bq34vc/vepeIPK3POn7G3si9HLl%2BBBUqfujxw3N/z6L0JAHTZ5KACSHE80XP5/9aeW4lAMOaD9NxJOXPQG3AzFdmMhP9nPalplnNcq28V92kOp93%2BpwJbSbw/ZHvWXhqIbczbnP21lnO3jpb7DH1qtUjYEhAkYqSzyNDtSEr%2B6%2Bk75q%2B%2BDXxo0XdFroOSVQhkoDpM5mIWQghni9BQcq6TRvdxlEGlxIvcTLuJNWNq%2BvdOBdRdtZm1sx8ZSbfdvuW5PvJhacUSI4i8o7yPDM3k7UD1mJfw17XIVeahlYNOf3uaV2HIaogScD0mYUFqFSQnq5M2Gko/5xCCKG3NJoKbwGLTI5kTega/M/7k5ieyMGRB8ttgt381q833N/AzMisXM4p9IdKpcLazBprM2u8bb11HY4QVZp8Y9dnKpXSDfHuXaUVrKZ%2BTOonhBCiGFFRkJgItWtDw4bldtobKTdYe34t/qH%2BBMUGFdr2yd5P2DR40zNfQ6PRPNfdD4UQojxJAqbv8hOwe/ckARNCCH2W3/rVpo3yB7ZnkJqVyqpzq1gduprA6EA0KAWPLYws6NO0D683fp2xW8ey%2BeJmDl89zMsNX36m6wXFBhGZHEn9avXp4tjlmc4lhBDPu6o9%2BYZ4MinEIYQQT2Xnzp24urri4uLCrFmzimy/evUq3bp1o0WLFnTu3JmYmBgADhw4gKenp3YxNTVl8%2BbN5RdYOXQ/vJ9zn5%2BO/YTzz868u%2B1dDkYfxMjAiH5N%2B7FmwBrip8Szsv9KhjYfyuSXJgMwZc8UnnVGmpVnldavIc2GVLlJiYUQoqqRFjB9J4U4hBCi1HJzc5kwYQJ79uzB3t4eHx8f/Pz8cHd31%2B4zefJkRowYwciRI9m/fz/Tpk1j%2BfLldOnShZCQEABu376Ni4sLPXr0KL/gnqEAR3ZuNr%2BH/M6/Dv2LmHtKwtjGrg1/9/47/Zr2w9LUssgxk1%2BazP9O/o%2Bg2CDWha0r89xQ2bnZrDm/BpDuh0IIURrSAqbvpAVMCCFK7fjx47i4uNCoUSOMjY0ZMmQIAQEBhfYJCwuja9euAHTp0qXIdoD169fz2muvYW5eTuW0s7Ph1CnlsY9PqQ/LzctlxdkVuM1z491t7xJzL4YWdVuwZcgWjr1zjFGeo4pNvgCqGVfjq87KRLHT9k0jMyezTKHvjdxLQnoCrjautKrfqkznEEKIF4kkYPpOEjAhhCi12NhYHBwctM/t7e2JjY0ttE/Lli3ZuHEjAJs2bSIlJYWkpKRC%2B/j7%2BzN06NDyC%2BzcObh/Hxo3BusnT2Cs0WjYdGETLRa0YPim4UQkR9DEpgn%2Bb/hz%2Bt3T%2BLr6lmrS19Feo3Gr5UZkciT/Df5vmUIvWHxDJpoVQognkwRM30kCJoQQ5Wr27NkEBgbi5eVFYGAgdnZ2GBg8HNcUFxfHuXPn6NmzZ7HHL1y4EG9vb7y9vUlISCjdRQsW4HiCnLwcxm8bT/%2B1/QlLCKOhZUN%2B8/uN8%2B%2BdZ3CzwahVpf9oN1Qb8t0r3wHwr0P/4s79O6U%2BFiAtK43NF5VxcG82f/OpjhVCiBeVJGD6Lj8BkzFgQgjxRHZ2dly/fl37PCYmBjs7u0L72NrasnHjRk6fPs0333wDgJWVlXb72rVr6devH0ZGRsVeY9y4cQQHBxMcHEzt2rVLF1gpC3Dcy7zH66teZ%2BGphZgamvLzqz9z6f1LvO31Nobqsg3rfr3J63Rq2InbGbf59vC3T3VswKUA0rLTaGffDmdr5zJdXwghXjSSgFWgJ1XaWrBgAc2bN8fT05O//e1vhIWFPf1F8otwSAuYEEI8kY%2BPD%2BHh4URFRZGVlYW/vz9%2Bfn6F9klMTCQvLw%2BAmTNnMnr06ELbV69eXb7dD6FUBThi7sXw8u8vsytiF7XNa3Ng5AH%2B0fYfmBiaPNOlVSoVs3vMBuDnoJ%2B5eudqqY%2BVub%2BEEOLpSQJWQfIrbf3xxx%2BEhYWxevXqIgnWm2%2B%2Byblz5wgJCeGTTz7ho48%2BevoLSRdEIYQoNUNDQ%2BbOnUvPnj1xc3Nj0KBBeHh48MUXX7BlyxYADh48iKurK02aNOHWrVtMnz5de3x0dDTXr1%2BnU6dO5RfUvXtw4QIYGUHLlsXuEnIzhLaL2nL21llcbVw5NuYY7ezblVsI3rbeDG02lMzcTD478FmpjklIS2DXlV0YqAzKXEFRCCFeRFKGvoIUrLQFaCttFSx1XCM/eQLS0tLKNnhZEjAhhHgqvXr1olevXoVemzFjhvbxgAEDGDBgQLHHOjo6Fina8cxOngSNBjw9wdS0yOYd4TsYvH4wqVmpdGzYkU2DN2Ft9uRCHU/rm67fsOHCBlacXcGkdpOeWNFw7fm15Gpyec3lNepY1Cn3eIQQ4nklLWAVpDSVtgDmzZuHs7Mzn3zyCT///PPTX0gSMCGE0G8ldD9cELwA39W%2BpGalMqz5MHa/tbtCki8Ap5pOvO/zPlC6yZml%2B6EQQpSNJGA6NmHCBCIiIvjuu%2B/4%2Buuvi92nxIpaUoRDCCH0WzEVEDUaDVP3TuXv2/9OniaPzzt%2BzvJ%2By595vNeTTO84HStTK/ZH7eePK388dr/I5EiOxhzF3MicPk37VGhMQgjxvJEErIKUptJWQUOGDGHz5s3FbiuxopYU4RBCCP2W3wJWoALi3si9fHfkOwzVhvze53dmdJlRKXNsWZtZ89nLyhiwd7a8w5gtY5hzbA77IvcRnxav3W/VuVUA9G3al2rG1So8LiGEeJ7IGLAKUrDSlp2dHf7%2B/qxatarQPuHh4TRu3BiA7du3ax8/FemCKIQQ%2Bis2Fm7cAEtLZRLmB2b%2BOROArzp/xSjPUZUa0vtt3mfZ2WWcvXWWxacXF9pW27w2zeo040LiBUC6HwohRFlIAlZBClbays3NZfTo0dpKW97e3vj5%2BTF37lz27t2LkZERNWvWZOnSpU9/IUnAhBBCfxXsfqhWOqUExQRxIPoANUxqMMFnQqWHZGJowrF3jhEUG0RofCih8aGciz9HaHwoCekJHIg%2BAEAdizp0b9S90uMTQgh9JwlYBXpSpa05c%2BY8%2B0UkARNCCP1VTAGOWUeUeSPf834PS1NLXUSFmZEZnR0709mxs/Y1jUZDzL0YzsWf40LCBV5u%2BDJGBsVPRi2EEOLxJAHTd/ljwFJSlDLGlTBGQAghRDl5pABHWEIYmy9uxsTAhIntJuowsKJUKhUOlg44WDrQq3GvJx8ghBCiWFKEQ98ZG4OJCeTkwP37uo5GCCFEaeXmwokTyuMHCdh3R74DYLTXaOpVq6eryIQQQlQgScCeB9INUQgh9M/Fi5CaCg0aQL16XL1zlVXnVmGgMmDKS1N0HZ0QQogKIgnY80ASMCGE0D%2BPdD/84egP5OTlMKTZEJxqOukwMCGEEBVJErDngSRgQgihfwrM/5WQlsCiU4sA%2BLTDpzoMSgghREWTBOx5ULAQhxBCCP1QoAVsTtAcMnIyeL3J6zSv21y3cQkhhKhQkoA9D6QFTAgh9ItGA%2BfPA3DPw4W5x%2BcCMO1v03QZlRBCiEogCdjzQBIwIYTQL0lJkJUFVlb87%2BJK7mbe5eUGL/OSw0u6jkwIIUQFkwTseSAJmBBC6Je4OADu29Xlx2M/AtL6JYQQLwpJwJ4H%2BQmYjAETQgj9cPMmAEtbariZehPPep686vKqjoMSQghRGSQBex7kF%2BGQFjAhhNAPcXHkqOHfjjcAmNphKiqVSsdBCSGEqAySgD0PpAuiEELol7g41rtDpHEqzjWdecP9DV1HJIQQopJIAvY8kARMCCH0S1wc3z%2Bot/FJh08wVBvqNh4hhBCVRhKw54EkYEIIoVfSbsVwyhaMMGBEyxG6DkcIIUQlkgTseSBFOIQQQq9E3o0GwMmsPqaGproNRgghRKWSBOx5IEU4hBBCr0TcV4pvOFs66TgSIYQQlU0SsOeBdEEUQgi9coXbALjUddNxJEIIISqbJGDPA0nAhBBCf6SlEWGeCYBzPUnAhBDiRSMJ2PNAEjAhhCi1nTt34urqiouLC7NmzSqy/erVq3Tr1o0WLVrQuXNnYmJitNuuXbtGjx49cHNzw93dnejo6KcPIC6OCGvloYt14zLehRBCCH0lCdjzwMJCWaelQW6ubmMRQogqLDc3lwkTJvDHH38QFhbG6tWrCQsLK7TP5MmTGTFiBGfPnuWLL75g2rRp2m0jRoxgypQpXLhwgePHj1OnTp2nDyIujisPEjBna%2BdnuR0hhBB6SBKw54Fa/bAQR2qqbmMRQogq7Pjx47i4uNCoUSOMjY0ZMmQIAQEBhfYJCwuja9euAHTp0kW7PSwsjJycHLp37w5AtWrVMDc3f%2BoYsuJiuGoJKg04WUkRDiGEeNFIAva8kG6IQgjxRLGxsTg4OGif29vbExsbW2ifli1bsnHjRgA2bdpESkoKSUlJXL58GSsrK/r374%2BXlxdTpkwhtwy9Dq7GnidPDQ551TAxNHm2GxJCCKF3JAGrQE8aZ/Djjz/i7u5OixYt6NatG1evXi37xSQBE0KIcjF79mwCAwPx8vIiMDAQOzs7DAwMyMnJ4fDhw8yePZsTJ04QGRnJkiVLihy/cOFCvL298fb2JiEhocj2iMRwAFwMytB9UQghhN6TBKyClGacgZeXF8HBwZw9e5YBAwbwySeflP2CMhmzEEI8kZ2dHdevX9c%2Bj4mJwc7OrtA%2Btra2bNy4kdOnT/PNN98AYGVlhb29PZ6enjRq1AhDQ0P69u3LqVOnilxj3LhxBAcHExwcTO3atYtsv3IvGgBnC/tyvDMhhBD6QhKwClKacQZdunTRjh9o165doUpbT00mYxZCiCfy8fEhPDycqKgosrKy8Pf3x8/Pr9A%2BiYmJ5OXlATBz5kxGjx6tPfbOnTvaVq39%2B/fj7u7%2B1DFEZN0CwNmq0bPcihBCCD0lCVgFKc04g4IWL17Ma6%2B9VvYLShdEIYR4IkNDQ%2BbOnUvPnj1xc3Nj0KBBeHh48MUXX7BlyxYADh48iKurK02aNOHWrVtMnz4dAAMDA2bPnk23bt1o3rw5Go2GsWPHPnUMEaoHkzDXe/rkTQghhP4z1HUAAlasWEFwcDCBgYHFbl%2B4cCELFy4EKHY8ASAJmBBClFKvXr3o1atXoddmzJihfTxgwAAGDBhQ7LHdu3fn7Nmzz3T9KybpADg39Hym8wghhNBP0gJWQUozzgBg7969fPPNN2zZsgUTk%2BKrYT1pPAEgCZgQQuiBvKxMImsolROdnX10HI0QQghdkASsgpRmnMHp06d599132bJlS6kn87ybebf4DVKEQwghqrzYqLNkGkKddDXVza10HY4QQggdkASsgpRmnMGUKVNITU1l4MCBeHp6FknQihOVHEV6dnrRDVKEQwghqryIaKVqokuGmY4jEUIIoSsyBqwCPWmcwd69e5/6nLl5uaw%2Bt5p3Wr1TeIN0QRRCiCrvyo1QAJzzLHUciRBCCF2RFjA9NPfEXDQaTeEXJQETQogqLyLpCgDORnV1HIkQQghdkQRMzxiqDQm5GcLRmKOFN0gCJoQQVV5EmlKcyaWawxP2FEII8bySBEzP1LKoBcC8E/MKb5AiHEIIUeVdyX4wCbO1i44jEUIIoSuSgOmZ2ua1UavUrDu/jluptx5uqFdPWZ8/D5mZuglOCCHEY2k0GiLUdwBwsW2m42iEEELoiiRgesbYwBjfJr5k52Xz66lfH25o3BhatoTbt2HrVt0FKIQQoliJ6YncM8ihxn2wsW%2Bi63CEEELoiCRgeuj9Nu8DsCB4ATl5OcqLKhWMHq08/u03HUUmhBDicSKSIwBwuQ2q%2BvV1HI0QQghdkQRMD3Vz6oarjSuxKbEEXAx4uGHYMDA2hl27ICZGdwEKIYQo4kpSOADOyYAkYEII8cKSBEwPqVQqJvhMAB4pxmFjA336QF4eLFumo%2BiEEEIUJyJ/DrA0EzCTiZiFEOJFJQmYnhrRcgQWRhYciD7A%2BfjzDzfkd0P8/Xd4dK4wIYQQOhNx8wIALhorHUcihBBClyQB01OWppYMbzEcgPkn5j/c0L072NnBlSvw5586ik4IUREORh/kzQ1vcizmmK5DEWVw5cEYMGeTejqORAghhC5JAqbHJrRRuiEuO7uMe5kPJmA2MIBRo5THUoxD6Kntl7fzjx3/4KuDX/HryV/Zfnk7p%2BNOcyv1FnmaPF2HV%2BnSs9OZ%2BMdEuiztwurQ1fRY3oOgmCBdhyWeUkS6MjbXpbqjbgMRQgihU4a6DkCUXbM6zejUsBOBVwNZdmaZtjoio0bBN9/A2rXw889QvbpO4xSitCKTI5m4cyLbLm977D6GakPqVatHY%2BvGdG/UnR7OPfCq74Va9Xxc0rjIAAAgAElEQVT%2BPeno9aOM3DyS8NvhGKoN8arnxYkbJ3h15avsH7Efr/peug5RlEJKZgrxufcwyQHb2o10HY4QQggdej6/sbxA8pOu%2BSfmo8kf8%2BXiAh07Qnq6koSJKisrN4u0rDRdh1Em8WnxpGSmlMu5MrIz%2BPLgl7jPc2fb5W3UMKnB9JenM/3l6bzt%2BTY9nXvSvE5zbMxsyMnLIeZeDAeiD/DP/f/E%2B1dv6s6uy9ANQ1kSsoTYe7HlEpOuZeZkMnXvVP72%2B98Ivx2OR20PgsYEcWT0Efq79efO/Tt0X96d0PhQXYcqSiG/BL3zbVDXkwqIQgjxIpMWMD3Xx7UPttVtuZB4gQPRB%2Bjq1FXZMHo0HDqkdEN85x3dBimKdSnxEj1W9CAtK42db%2B3E29Zb1yGVikaj4ZfjvzBlzxTMjcyZ/vJ03m/zPqaGpmU639ZLW5m4cyJRd6IAGN5iOP/u/m/qVSt%2BnExmTiY3Um5wKu4UuyJ2sStiF9fuXsM/1B//UH8APGp70KxOM8yNzLEwssDcyFx5bKw8rmZcjfb27Wls07hsP4QKdvLGSUZuHsn5hPOoVWqmdpjKl52/xMTQBIDVb6ym/5r%2BbA/fTrdl3QgcFUjTWk11HLUoyZXbV4AHJejbSwImhBAvMknA9JyRgRHvtn6X/zv4f8w9PvdhAjZgALz/Pvz1F1y8CE3ly1lVEnIzhB7Le5CQngDAK8teYc/wPfjY%2Beg4spIlpicyOmA0Wy9vBZQWvCl7pvDL8V/4pus3vNn8zVJ3BXy0u2HzOs2Z22suHRt2LPE4E0MTnGo64VTTiTfc30Cj0RB%2BO5zdEbvZHbGb/VH7OZ9wnvMJ50s8D4CPrQ/Dmg9jcLPBj034KkNuXi7X7l7jctJlDkQf4IejP5CTl0MTmyYs7buUdvbtCu1vbGDM%2BkHr8V3ty97IvXRb1o1Dow7hbO382GucvXWW307/RmJ6Iv3d%2BtO7cW9tQvessYclhHHixglC40PJzcvFUG2IkYERhmrDQsuLLOL2w0mYZQ4wIYR4sak0GqlVrk%2B8vb0JDg4u9NrN1Js0%2BE8DcjW5RE%2BMxsHSQdkwdiwsWgSffALffaeDaEVxjl4/ymsrX%2BNu5l16OPegmnE1Nl7YiKWJJbuH76aNXRtdh1isg9EHeWvjW8SmxGJlasUi30VUM67GlD1TOBd/DgCvel583/17ujXqVuT4PE0eZ26eYX/UfvZH72df5D4yczOpYVKDGZ1nMKHNhHL5kp6Vm0VQTBCxKbGkZaWRnp1OWvaD9YPniRmJ7Lqyi5QspQulWqWmm1M33mz%2BJv3d%2BlPDpEaZrx99J5pzt86VuM/N1JtcTrpM%2BO1wLiddJiI5gqzcrEL7TGw7kW%2B7fYu5kfljz5Oenc5rK1/j0NVDNLBswKFRh2ho1VC7PTUrFf9Qf3499SvHY48XOtbazJohHkMY0XIEbezaoFKpnnhvGo2GiOQITsSe4MQNZTkVd4r07PQnHgvQemvrIu9fz7v89%2ByxW8ay6PQi5m6HCUvOg7u7rkMTQognKu57p3h2koDpmcf9IgzdMBT/UH%2BmvDSFf3f/t/Li0aPw0ktQty5cvw5GRpUcrXjUvsh99PHvQ1p2Gv3d%2BrOq/yrUKjVDNwxlw4UN1DCpwe63dtPWvq2uQ9XKycthRuAMvj70NRo0dHDowMr%2BK7Vf9HPzcll%2Bdjmf7f%2BM2BRl/NVrLq/x3SvfYag21CZcB6MPcjvjdqFzv9XiLb7v/r1OWp8ysjPYdnkbq0JXsf3ydrLzsgEwNTTFt4kvgzwG0atxrxIToHx5mjx2XdnFvBPz2BG%2BAw1P/7ZqV92OxjaNaWLdhLdavMXLDV8u1XEpmSn0XNGTozFHca7pTOCoQOJS4/j15K%2BsCl1FalYqAJYmlgxrPgxHK0dWnlvJmVtntOdoYtOEES1G8FaLt3CwdCAuJY6I5Aiu3L5CxO0IriQr6/Db4Q8rrhbgaOWIj60PXvW8MDMyIycvp8iSnZvNvmn7XrgP8vz37K5Lu3Ig%2BgB/rIBXg5LA2lrXoQkhxBNJAlYxJAHTM4/7Rfjr%2Bl90%2BK0DAP/q8i%2BmvzwdFSh/Zb14EbZsAV/fyg1WFLLl0hYGrhtIVm4WI1qOYLHfYm2LT3ZuNm9ufJP1YeupYVKDXW/tKtLtrDzl5uWy9fJWjscex6GGA87WzjjXdKaBZQOMDB4m6tfuXuPNDW9y5PoRVKj4rONnfNHpi2JbqjKyM5gTNIeZf84s9ks6QAPLBnRz6kZXp650ceyCXQ27CrvHp5Gckcz6sPWsCl1FYHSgNoEyNzKnV%2BNeDHQfSO/GvbEwtihy3JKQJcwPnq8d42NiYEInx04YGxgXey2NRoONuQ1NrJvQxKYJjW0a42LtQjXjamWO/879O7yy7BVOxp3EzNCMjJwM7bYODh0Y22osAz0GFkomz9w8w7Izy1h5biW30m5pX3/0%2BEfVtaiLj50PPrbK4m3rTW2L2qWK80X8IM%2B/54b/acC1e9cJX2CMy437UIoWRyGE0LUX8X27MkgCpmdK%2BkWYc2wOk3ZNQoOGES1HsPD1hZj852elC2LfvrBpUyVHK/KtPrea4ZuGk6vJZYLPBH5%2B7eciY6Wyc7MZtnEY68LWUd24OruH7y73JCwjO4NlZ5bxw9EfCL8dXmS7gcqABpYNcLZ2xtHSkfUX1nPn/h1sq9uysv9KOjt2fuI1EtIS%2BPrQ1yw4uYCapjXp6tRVuzhZOZWqq5suXb97nbXn17IubB1BsQ/n2jIzNOO1xq8x0H0gzjWdWXRqESvOrdB2v2tg2YC/e/%2Bdd7zeKXVCUp6S0pPouqwrZ2%2BdxcbMhhEtRzCm1Rjca5fc1S0nL4c9EXtYemYpmy9uJjM3k1rmtXCxdsG5pnPhtbUztc1rl/nf8EX8IPf29ubIsSOYfWOGOk9DxrIGGEVd1XVYQghRKi/i%2B3ZlkARMzzzpF2HLpS0M3TCU9Ox0OjbsyKbOC7B2aa78tTU2FurUqcRoS0ej0ZCdl/3YFgN9t/DkQsZvG48GDdP%2BNo1vun7z2C%2BwOXk5DNs4jLXn11LduDq73tpFe4f2zxxDUnoS80/M55fjv2gLfzS0bMiQZkNITE8kIjmCiNsRxNyLKdJ9zreJL7/1%2BY1a5rWe6po5eTkYqAyqfMJVkmt3r7EhbAPrwtZxNOZosfu80ugVJvhM4PUmr%2Bu80ERKZgrHY4/ztwZ/K1OBjfTsdLJzs7E0tayA6F7MD3Jvb29W7FyB2zw3Gt2GiOPtlO7hQgihB17E9%2B3K8GKXpXoO%2Bbn6cWjUIXxX%2B3Lo6iHabe3Djv6dcFm3H1asgI8%2BqvSYNBoNf1z5gwsJF4hPiyc%2BPV5Zp8VzK/UW8WnxZOVmMbT5UBb0XkB1E/2dODo5I5lLSZe4mHiRS4mXCE0I1Vb5%2B7brt0x7eVqJxxuqDVnZfyUqVKw5v4aeK3ryTddvsDC2QK1So1apUaFS1iplbWZohoWxBRZGFkXWt9Ju8dOxn/jt9G/abmWt6rdiyktTGOA%2BoEjCcD/nPtF3oolMjiTidgS21W3p79a/TEmUrpOR8tDAsgGT2k9iUvtJXL97nQ0XlGQsMjmSAW4DeM/nPdxqu%2Bk6TK3qJtWLLYBSWuZG5iBDRctdoRL09XRXbVMIIUTVoP/fkEQRrW1bEzQmiNdXv87ZW2dp1%2BImm4Pgb4sXw6RJlTr24ETsCSbunPjY1oOCVp1bRfCNYNYNXEeLui0qIbqyy83L5XzCeY7FHOPkjZNcTLrIxcSLxKfFF9lXhYpfXvuFCW0mlOrchmpDVvRfgUqlwj/Unw92flAuMb/m8hpTXppCZ8fOj02oTA1NaVqrqcwpVQwHSwc%2BbPchH7b7UNehiGe0c%2BdOJk6cSG5uLmPGjGHq1KmFtl%2B9epXRo0eTkJCAtbU1K1aswN7eHgADAwOaN28OQIMGDdiyZcsTr1eoBH0DKUEvhBAvOknAKtCTPuQPHTrEhx9%2ByNmzZ/H392fAgAHldm0HSwf%2BfPtPhmwYwo7wHXQbCb9tDmPYiRPQpuLLnN9Mvck/9/2T30N%2BB5SB%2B0OaDaFetXrUsahTaKltXpuYezEMXDeQc/HnaLuoLb%2B89gvveL1TZbqv3Uq9RVBsEMdijnEs5hgnbpzQVpcryNzInCY2TZQkxqYprrVc8bb1xsXa5amuZ6g2ZHm/5bSu35qwhDA0aMjT5KHRPFg/eJ6bl8v9nPukZaeRlpVWZK1Bw0D3gUx%2BaTLN6jQrrx%2BHEHorNzeXCRMmsGfPHuzt7fHx8cHPzw/3AmXhJ0%2BezIgRIxg5ciT79%2B9n2rRpLF%2B%2BHAAzMzNCQkKe6praFrDbQFtJwIQQ4kUnCVgFKc2HfIMGDViyZAmzZ8%2BukBiqm1QnYEgAk3ZOYu6Jubz1Bixd3YvX8z6nd5PXS5y0tayycrOYc2wO/zr0L1KyUjBSGzGp3SSmd5xe4txKrrVcCRoTxAd/fMCi04sYu3Ush64e4r%2B9/1uk8lxB8WnxbLu8jRspN%2Bjq1JW2dm0xUBuUOfbI5Eiu3L7CldtXCE8K50ryFS4lXuLq3aKD5h2tHGln3442tm1oVqcZrrVcsa9hX%2BqJiJ/EUG3I5Jcml8u5hBCK48eP4%2BLiQqNGjQAYMmQIAQEBhd6bw8LC%2BPHHHwHo0qULffv2faZrRiQrLWDSBVEIIQRIAlZhSvMh7%2BjoCIBaXT5f2ItjqDbkl16/0Fhdi4//%2BpI9Vkns2fUhE3d9SNNaTenduDevN3mdDg4dCpUfL4vtl7czadckbXW915u8zo89fqSxTeNSHW9mZMavfr/SsWFHxm8fz/Kzy7VdEj3qeGj3u5R4iYBLAQRcCuDo9aPaohGfH/icWua16N24N75NfOnh3KPY8WQajYZrd69xMu4kJ2%2Bc5NTNU1xMvMi1u9fI0%2BQVG5uFkQVt7NrQzr4dbe3a0ta%2BrU7mrhJCPJvY2FgcHBy0z%2B3t7QkKCiq0T8uWLdm4cSMTJ05k06ZNpKSkkJSUhI2NDffv38fb2xtDQ0OmTp1aquQsPwFzuQ3UlxYwIYR40UkCVkFK8yFfmT549f8YmtOUnZ8NYXtj2NnSgouJyrilH47%2BgKWJJd2du9PBoQNt7driVd8LU0PTEs%2BZkpnCX9f/4tDVQ%2ByL2qct2d20VlP%2B0/M/vOryapliHd5yOK1tWzNw3UDCEsJos6gNX3f5mrjUOAIuBXA56bJ2X2MDY215851XdhJ1J4qlZ5ay9MxSjA2M6ezYGd8mvtSrVo%2BTN05yMu4kp%2BJOkZSRVOS6apUaJysnXKxdaGytzM2UP0dTY%2BvGZW5ZE0Lol9mzZ/P%2B%2B%2B%2BzZMkSOnbsiJ2dHQYGyu//1atXsbOzIzIykq5du9K8eXOcnQv3Jli4cCELFy4EICEhgbjkOAAaJSMJmBBCCEnA9MGjH%2BZlVfv1wQwPCWf455%2BTfcCIv7auYnvqabZd3saFxAusD1vP%2BrD1gNJy1rJuS21rT1u7ttQ0q8mRa0c4fO0wh64e4vTN04VajCxNLPmy85dM8JnwzK1p7rXdOT7mOO/teI9lZ5bx0e6H1Rutzazp3bg3fq5%2B9HTuqW3l0mg0hCWEsfXyVrZe3srR60fZHbGb3RG7i5zfxsyG1rataV1fWTzqeOBk5VSm0t1CCP1hZ2fH9evXtc9jYmKwsys8IbitrS0bN24EIDU1lQ0bNmBlZaU9HqBRo0Z07tyZ06dPF0nAxo0bx7hx4wBo4dWCa3nXsE1VY56dJwmYEEIIScAqSmk%2B5Eur4Ie5t7f3swX2z3/C8eMYbd1Kp/f%2BTacjR/h3938TlRzF3si9BMUGERQbxPn480oXvbiTzA%2BeX%2BypDNWG%2BNj60LFhR%2B1S0jivp2VhbMGSPkvo4tiFFWdX0KJuC/q49qFDgw7FljhXqVR41PHAo44HU/82lYS0BHaE72B7%2BHZSs1LxquelTboaWDaoMgU%2BhBCVx8fHh/DwcKKiorCzs8Pf359Vq1YV2icxMRFra2vUajUzZ85k9OjRACQnJ2Nubo6JiQmJiYkcOXKETz75pMTr3c%2B5D4BzUp5SgbYKzsUohBCickkCVkFK8yGvE2o1LFsG3t4QEgJ//zssWYJTTSfGth7L2NZjAaV7YfCNYI7HHtcmZbczbtPOvh0dGyjJVjv7diUWyCgPKpWKUZ6jGOU56qmPrW1Rm5GeIxnpObL8AxNC6CVDQ0Pmzp1Lz549yc3NZfTo0Xh4ePDFF1/g7e2Nn58fBw8eZNq0aahUKjp27Mi8efMAuHDhAu%2B%2B%2By5qtZq8vDymTp1aaFxvcTJzM4EH479q1wZDQ7Kzs4mJieH%2B/fsVfbviGZiammJvb4%2BRkUyOJ4QoXyqNRqPRdRDPqx07dvDhhx9qP%2BSnT59e6EP%2BxIkT9OvXj%2BTkZExNTalXrx7nz58v8ZzlNiP52bPQrh1kZMD8%2BUoi9gQajUZajYQQZVZu7196pF6Tetwadouv98H0ey0hJISoqCiqV6%2BOjY2NvKdWURqNhqSkJFJSUnByctJ1OELozIv4vl0ZpAWsAvXq1YtevXoVem3GjBnaxz4%2BPsTExFR2WIoWLeDXX%2BGtt2DiRPDyUhKyEsgXBSGEeDr5LWDOyYC9Mv7r/v37ODo6yntqFaZSqbCxsXmmcddCCPE4FVf/XFR9w4bBP/4B2dkwYADcuqXriIQQ4rmSmVOgC2KBOcAk%2Bar65N9ICFFRJAF70c2eDR06QGwsDBkCOTm6jkgIIZ4b%2BQmYcxWaA%2BzOnTvMn198caUn6dWrF3fu3CnztWfOnImLiwuurq7s2rWr2H32799Pq1ataNasGSNHjiTnwedScnIy/fr1o0WLFrRp04bQ0FAALl26hKenp3apUaMGP/30EwBnzpyhffv2NG/eHF9fX%2B7duwfAnj17aN26Nc2bN6d169bs37%2B/zPckhBBPSxKwF52xMaxdq/xl9uBBePVVkC4XQghRLvI0eVjnmVDzPnqRgOU84Y9wO3bs0Jbkf1phYWH4%2B/tz/vx5du7cyXvvvUdubm6hffLy8hg5ciT%2B/v6EhobSsGFDli5dCsC3336Lp6cnZ8%2BeZdmyZUycOBEAV1dXQkJCCAkJ4eTJk5ibm9OvXz8AxowZw6xZszh37hz9%2BvXj%2B%2B%2B/B6BWrVps3bqVc%2BfOsXTpUoYPH16mexJCiLKQBEyArS0EBCjlkfftg1at4NgxXUclhBDPBecMM%2BVBFUnApk6dSkREBJ6enkyZMoWDBw/y8ssv4%2Bfnp63q2LdvX1q3bo2Hh4d2HkoAR0dHEhMTiY6Oxs3NjbFjx%2BLh4UGPHj3IyMgo8boBAQEMGTIEExMTnJyccHFx4fjx44X2SUpKwtjYmCZNmgDQvXt3NmzYACgJXNeuXQFo2rQp0dHR3Hqk6/y%2BfftwdnamYcOGAFy%2BfJmOHTsWOZeXlxe2trYAeHh4kJGRQWZm5tP/MIUQogwkAROKNm3g1Cl46SWIiYGOHWHePJAimUII8Uxc7hooDwqMAdOlWbNm4ezsTEhIiLZF6NSpU8yZM4fLly8D8Ntvv3Hy5EmCg4P5%2BeefSUpKKnKe8PBwJkyYwPnz57GystImNwsWLGDBggVF9o%2BNjcXBwUH73N7entjY2EL71KpVi5ycHG3VtfXr12vn1GzZsqV2guzjx49z9erVIoWs/P39GTp0qPa5h4cHAQEBAKxbt67Q/Jz5NmzYQKtWrTAxMSnpxyaEEOVGEjDxkJ2d0g1x4kSlMMf778Pw4ZCWpuvIhBBCbznHP%2BjWV1wLmEpVMctTatOmTaFy6z///DMtW7akXbt2XL9%2BnfDw8CLHODk54enpCUDr1q2Jjo4GYPz48YwfP/6pY1B%2BHCr8/f2ZNGkSbdq0oXr16hgYKAns1KlTuXPnDp6envzyyy94eXlptwFkZWWxZcsWBg4cqH3tt99%2BY/78%2BbRu3ZqUlBSMjY0LXe/8%2BfN8%2Bumn/O9//ytTvEIIURZShl4UZmQEP/2klKQfMwZWroQzZ2DDBnjQJUQIIUTpuVxPVR5UkRaw4lhYWGgfHzx4kL1793L06FHMzc3p3LlzsZNGF2wxMjAweGIXRDs7u0ItUDExMdjZ2RXZr3379hw%2BfBiA3bt3a1vlatSowe%2B//w4o83Q5OTnRqFEj7XF//PEHrVq1om7dutrXmjZtyu7duwGlO%2BL27dsLXb9fv34sW7YMZ2fnEmMXQojyJC1gonhDhsDx49C0KYSGgrc3rFsnXRKFEOIpOSfkQvXqUCDJ0dJoKmYpQfXq1UlJSXns9rt371KzZk3Mzc25ePEix8ppTLCfnx/%2B/v5kZmYSFRVFeHg4bdq0KbJffHw8AJmZmXz33Xfa1rQ7d%2B6QlZUFwKJFi%2BjYsSM1atTQHrd69epC3Q8LnisvL4%2Bvv/660Ll69%2B7NrFmz6NChQ7ncnxBClJYkYOLx3N2VJGzAAEhJgUGDlIRs5kylbL0QQogS2ZnVwT2BKlOAA8DGxoYOHTrQrFkzpkyZUmT7q6%2B%2BSk5ODm5ubkydOpV27do91fkfNwbMw8ODQYMG4e7uzquvvsq8efO0XQh79erFjRs3APj%2B%2B%2B9xc3OjRYsW%2BPr6agtvXLhwgWbNmuHq6soff/zBnDlztOdOS0tjz5499O/fv9A1V69eTZMmTWjatCm2tra8/fbbAMydO5crV64wY8YMbfn6/GRNCCEqmkqjkSYNfeLt7a0dnFxpNBqYO1dJvOLilNfUaujZE95%2BG/z8QAYvCyGeQCfvXzrm7epK8OXL0KmTMsYWJZFwc3PTbWCiVOTfSrzoXsT37cogLWDiyVQq%2BMc/4No12L4d3ngDDAzgjz%2BUVjFbW2X7n3/CE8YACCHECyU7W1lXoRYwIYQQuiUJmCg9Q0Po1QvWr4cbN2DOHGjZEm7fVlrIXn4ZatRQ5hEbPx5%2B%2B00ZP/bIRJtCCPHCeDBmqSoX4BBCCFG5pAqiKJtateCDD5Tl9GlYskTpXhMaqjw/fRryy/paWChFPNq2Vaortm2rtJoJIcTzLqeEEvRCCCFeSJKAiWfn5aUsoMwZduqUUrwjf4mOhsBAZcnXoMHDhKxdO6XVzNRUJ%2BELIUSFkS6IQgghHiEJmChfFhZKV8SXX374WkKCkogFBcGxY8r62jVlWbdO2cfISCnqMWoUvP66FPUQQjwf8rsgSgImhBDiAUnARMWrXRt691YWgLw8uHhRScbyl9BQ2LZNWayt4c03lWSsVSulCIgQQuij/BYwGQMmhBDiASnCISqfWq3MMTZ6NCxcCGfPws2b8J//QIsWD4t6eHsrz3/4QdkuhBD65jkZA1atWjUAbty4wYABA4rdp3Pnzk8sV52ZmcngwYNxcXGhbdu2REdHF7vfnDlzaNasGR4eHvz000/a1wcPHqydt8vR0RFPT08AVq5cqX3d09MTtVpNSEhIGe5UCCEqniRgomqoUwc%2B/BDOnFEKeEycqBT6CA2FyZPBzg46d1aStMhIXUcrhBClk5sLxsZKy/5zwNbWlvXr15f5%2BMWLF1OzZk2uXLnCpEmT%2BPTTT4vsExoayq%2B//srx48c5c%2BYM27Zt48qVKwCsWbOGkJAQQkJCeOONN7QTLw8bNkz7%2BvLly3FyctImZ0IIUdVIAiaqHk9P%2BOkniI2FzZuhb19l3rHAQPjoI3B2VlrGPv8cTp5UJooWQoiqql69KtWVeurUqcybN0/7/Msvv2T27NmkpqbSrVs3WrVqRfPmzQkICChybHR0NM2aNQMgIyODIUOG4ObmRr9%2B/cgoxTyQAQEBjBw5EoABAwawb98%2BNI%2B8h1%2B4cIG2bdtibm6OoaEhnTp1YuPGjYX20Wg0rF27lqFDhxa5xurVqxkyZMiTfxBCCKEjkoCJqsvYGPr0gU2blEIeq1fD4MFQvTqcOwdff610U2zQAN59Vyl7f/QopKToOnIhhHioio3/Gjx4MGvXrtU%2BX7t2LYMHD8bU1JRNmzZx6tQpDhw4wMcff1wkOSrov//9L%2Bbm5ly4cIGvvvqKkydPareNGTOm2O6IsbGxODg4AGBoaIilpSVJSUmF9mnWrBmHDx8mKSmJ9PR0duzYwfXr1wvtc/jwYerWrUvjxo2LXGPNmjXFJmZCCFFVSBEOoR8sLWHIEGXJzFTmHAsIUJaYGGUsWUFOTkorWf7i4KCMPVOrlb9Eq1QPH6vVSrJnZqYspqbK2sBAJ7cqhHjOlDD%2BS/VVxbSMaf7v8YmTl5cX8fHx3Lhxg4SEBGrWrImDgwPZ2dn885//5NChQ6jVamJjY7l16xb1HpNAHjp0iA8%2B%2BACAFi1a0KJFC%2B22RYsWlTl2Nzc3Pv30U3r06IGFhQWenp4YPPJ%2BvHr16mKTrKCgIMzNzbWtdEIIURVJAib0j4mJUrK%2BZ0%2BlWMfJk0r3xHPnlIIeYWEQFaUsxXShKTUjIyURMzdX/oLt4FD8YmenJHBCCFGcKliAY%2BDAgaxfv56bN28yePBgQClkkZCQwMmTJzEyMsLR0ZH79%2B%2BX63Xt7Oy4fv069vb25OTkcPfuXWxsbIrs98477/DOO%2B8A8M9//hN7e3vttpycHDZu3FioxS2fv7%2B/tH4JIao8ScAq0M6dO5k4cSK5ubmMGTOGqVOnFtqemZnJiBEjOHnyJDY2NqxZswZHR0fdBKuv1Grw8VGWfNnZcPmykozlL/HxylgxjUYpg//oOisLMjIKL9nZynLvnlKFsaSKWsbGSqJmYaGsCy7VqikFRWrXVpb8x/lrjUZpxbt%2BXVk/uqjVygB%2BGxtlXfCxjY1yjjp1Hi4WFiWPN8nLU7pp3r2r3KehoZJsProYGiqtjbduFV7i4x%2Bu1WrlPmxslHXBxzY2yv2bmDxc1M/Y6zknR%2BmOevNm4SUurujj7GzlPoyNHy75z01MwN4emjYFV9eH61q1dDtWJy9PWQwMKj6O/P93ISHKcvq0UgQnOxtsbZU/LNjaPlwKPre0rFJjmqq8Eroglk/TlJ0AAA3iSURBVNRSVZEGDx7M2LFjSUxMJDAwEIC7d%2B9Sp04djIyMOHDgAFevXi3xHB07dmTVqlV07dqV0NBQzp49%2B8Tr%2Bvn5sXTpUtq3b8/69evp2rUrqmL%2BL8XHx1OnTh2uXbvGxo0bOXbsmHbb3r17adq0aaGkDCAvL4%2B1a9dy%2BPDh0vwIhBBCZyQBqyC5ublMmDCBPXv2YG9vj4%2BPD35%2Bfri7u2v3KVgNyt/fn08//ZQ1a9boMOrnhJEReHgoS1n/EqrRPEzK0tLgxg0lQSpuuXFD2TcrC%2B7cKd97yRcbW/p9zcweJmM1ayrx3737cElJ0V3hEkPDh8mYqamSLFarpozrq1at8GO1%2BmGyd/Omsk5MfLrYMzMfvy0kRJl3riBrayURc3VVEo66dZUvzwXXNWooyYdGo/xsk5KU5fbth%2Bvbt5Wf9Z07yvLo44wMpTpewSUv72EcpqaPT2ytrZWfX36S/OjawEBJovL/TxZcsrOV/6/5SdcjY2%2B0HhlvU4S5ufLzyU/K8h/Xrw9WVg//DQuuX%2BRW4irYAubh4UFKSgp2dnbUfxDfsGHD8PX1pXnz5nh7e9O0adMSz/H3v/%2Bdt99%2BGzc3N9zc3GjdurV225gxYxg/fjze3t6FjnnnnXcYPnw4Li4uWFtb4%2B/vDyjl7ceMGcOOHTsAeOONN0hKSsLIyIh58%2BZhZWWlPcfjWrkOHTqEg4MDjRo1KtsPRQghKolKU9IIW1FmR48e5csvv2TXrl0AzJw5E4Bp06Zp9%2BnZsydffvkl7du3Jycnh3r16pGQkFDsXwPzeXt7P3GeFVHJNBrli356evHL3btK4pCYqLTePLoGpSujvX3Rxc5O2V7wy33BdVKScp74%2BIfJSmm6DFWrprRimJsrrUr5rX0FH%2Be3INWtW/xSp46SNOTHkL8UfJ6RofxsMjOVBOBZqVRKEpKfDNWvrzx%2BdF2vnpLEFEw8CiYiGRkQHa1MCH7p0sN1aQq4mJoqSdidO%2BVzT49SqwsnYxXJ2hq8vJTKo/mLhYWSpN24oST%2B%2BY/zn8fGKonn0zI0xLtlyyrx/vWk3glXr15l9OjRJCQkYG1tzYoVKwq1tty7dw93d3f69u3L3LlzS7yWt0pF8JYt4Ourfe3ChQu4ubmV702JCiH/VuJFJ987K4a0gFWQgpWeAOzt7QkKCnrsPgWrQdWqVatSYxXPSKVSvpSbmlbcXD8NGpRuv/xWmfyELDlZ%2BUJtaflwqVFDNwVG8lsVs7KUhOz%2BfSXW1FQl8UlNLbxkZytJXsEWqFq1lFae0jI1ffy2R/4yj0ajdF%2B8dEnpwprf6lZwffOmklTnJ7lmZkrLVMEuodbWSstjzZpKa5ClpbLOf5yf%2BBoYPFzU6odrUK7xuKQ2KalwkpyfNOev8%2BedetxSs%2BbDZMvevviuhE5OJf87pqQ8TMYKLnFxyrb8f8/8xykpDyck1rHS9E6YPHkyI0aMYOTIkezfv59p06axfPly7fbPP/%2Bcjh07lv6iVbAFTAghhO5IAqYHFi5cyMIHVf4S8ltMhCiOSvWwK19V64ajUj3sfli9uq6jKUqlejjGqUuXx%2B%2BXn1hYWSkJWEUwN1eS7tIm3pVJpVKS%2BBo14GlaBjIzoUOHiourlI4fP46Li4u2m9qQIUMICAgolICFhYXx448/AtClSxf69u2r3Xby5Elu3brFq6%2B%2BWrq/CjdrpixCCCHEAzIPWAXJr/SULyYmBrv87mTF7FNSNahx48YRHBxMcHAwtWvXrtjAhRAlq1ZNadGoqOTreWViousIgOJ7J8Q%2BMsayZcuW2ol/N23aREpKCklJSeTl5fHxxx8ze/bs0l8wf7yjEEII8YAkYBXEx8eH8PBwoqKiyMrKwt/fHz8/v0L75FeDAkqsBiWEEKLyzJ49m8DAQLy8vAgMDMTOzg4DAwPmz59Pr169ilTfe9TChQvx9vbG29v7sb0WZPh11Sf/RkKIiiJdECuIoaEhc%2BfOpWfPnuTm5jJ69Gg8PDz44osv8Pb2xs/P77HVoIQQQlSM0vROsLW11baApaamsmHDBqysrDh69CiHDx9m/vz5pKamkpWVRbVq1Zg1a1ah48eNG8e4ceMAilQBBDA1NSUpKQkbGxv5o1sVpdFoSEpKwlRaL4UQFUCqIOoZqUYjhNBXVeH9KycnhyZNmrBv3z7s7Ozw8fFh1apVeHh4aPdJTEzE2toatVrN9OnTMTAwYMaMGYXOs2TJEoKDg59cBbGYe87OziYmJqbcJzkW5cvU1BR7e3uMjIx0HYoQOlMV3refR9ICJoQQ4oVRmt4JBw8eZNq0aahUKjp27Mi8efPKNQYjIyOcSqo0KYQQ4v/bu5uQKNc/jOPXHKM2FtJidJii0pHUccYhU3fBFLbLKI0EA8uIaFlRmxYaBBZtCqpFtHFVUJAuLCkIegHBsAwShBAF3xDNJIt8q/u/COdk/5TOdM5z3%2Br3s3IeF17zY55LfjMPzyxrfAK2xPBOBIClaiX210p8zgCWDzrsv8FNOAAAAADAIyxgAAAAAOARLkFcYlJTU5WTk2M7xi%2BNjIw4%2Bz1lZEsO2ZJDtl/r7e3V6Oiolb9tC52dHLIlh2zJIdvCVmJve4GbcCwxOTk5zl6L6/J1wmRLDtmSQzbMobOTQ7bkkC05ZIPXuAQRAAAAADzCAgYAAAAAHkmpq6ursx0C/0xhYaHtCAsiW3LIlhyyJcflbMuRy/MmW3LIlhyyJcflbEgON%2BEAAAAAAI9wCSIAAAAAeIQFbAlpaWnR1q1bFQqFdPHiRdtx5tm8ebMikYhisZi2b99uNUtNTY38fr/y8/MTx8bGxlRaWqrs7GyVlpbqw4cPzmSrq6tTMBhULBZTLBbTgwcPrGTr6%2BtTPB5XXl6ewuGwrl69Ksn%2B7BbK5crcJicnVVxcrIKCAoXDYdXW1kqSenp6VFJSolAopIMHD2p6etqZbIcPH9aWLVsSs%2Bvo6PA820pAZ/8eOjs5rnb2YtlcmB2dDScYLAmzs7MmMzPTdHd3m6mpKRONRk1nZ6ftWAmbNm0yIyMjtmMYY4x5%2BvSpaW9vN%2BFwOHHszJkzpr6%2B3hhjTH19vTl79qwz2Wpra83ly5et5PnR4OCgaW9vN8YY8/HjR5OdnW06Ozutz26hXK7M7du3b2ZiYsIYY8z09LQpLi42ra2t5sCBA%2Bb27dvGGGOOHz9ubty44Uy26upqc/fuXc/zrCR09u%2Bjs5Pjamcvls2F2dHZcAGfgC0RbW1tCoVCyszM1OrVq1VZWammpibbsZy0Y8cOrV%2B/ft6xpqYmVVdXS5Kqq6vV2NhoI9ovs7kiEAho27ZtkqS1a9cqNzdXAwMD1me3UC5X%2BHw%2BpaamSpJmZmY0MzMjn8%2BnJ0%2BeqKKiQpK919xC2fDfo7N/H52dHFc7e7FsLqCz4QIWsCViYGBAGzduTDzesGGDM2UmfS%2BN3bt3q7CwUDdv3rQd5/8MDw8rEAhIkjIyMjQ8PGw50XzXrl1TNBpVTU2NtUttftTb26vXr1%2BrpKTEqdn9mEtyZ25fv35VLBaT3%2B9XaWmpsrKylJaWplWrvn/Xvc3z9edsc7M7d%2B6cotGoTp48qampKSvZljM6%2B8%2B41Du/4kr3zHG1s3/OJrkxOzobtrGA4V/x4sULvXr1Sg8fPtT169f17Nkz25EW5PP5nHpH6cSJE%2Bru7lZHR4cCgYBOnz5tNc%2BnT59UXl6uK1euaN26dfN%2BZ3N2P%2BdyaW4pKSnq6OhQf3%2B/2tra1NXVZS3Lz37O9vbtW9XX16urq0svX77U2NiYLl26ZDsmPEZnJ8%2Bl7pHc7WzJ3d6ms2EbC9gSEQwG1dfXl3jc39%2BvYDBoMdF8c1n8fr/27duntrY2y4nmS09P19DQkCRpaGhIfr/fcqK/paenKyUlRX/99ZeOHTtmdXYzMzMqLy9XVVWV9u/fn8hne3YL5XJlbnPS0tIUj8fV2tqq8fFxzc7OSnLjfJ3L1tLSokAgIJ/PpzVr1ujIkSNOzG65obP/jAu9sxCXusfVzl4smyuzk%2Bhs2MMCtkQUFRXp3bt36unp0fT0tO7cuaOysjLbsSRJnz9/1sTEROLnR48ezbtjlAvKysrU0NAgSWpoaNDevXstJ/rb3D9KSbp//7612RljdPToUeXm5urUqVOJ47Znt1AuV%2BY2MjKi8fFxSdKXL1/0%2BPFj5ebmKh6P6969e5LsveZ%2BlS0nJycxO2OMGhsbnTtflwM6%2B8/Y7p3FuNI9rnb2YtlcmB2dDSfYvAMI/pnm5maTnZ1tMjMzzYULF2zHSeju7jbRaNREo1GTl5dnPVtlZaXJyMgwq1atMsFg0Ny6dcuMjo6anTt3mlAoZHbt2mXev3/vTLZDhw6Z/Px8E4lEzJ49e8zg4KCVbM%2BfPzeSTCQSMQUFBaagoMA0Nzdbn91CuVyZ25s3b0wsFjORSMSEw2Fz/vx5Y8z386KoqMhkZWWZiooKMzk56Uy2eDxu8vPzTTgcNlVVVYm7buHfRWf/Hjo7Oa529mLZXJgdnQ0X%2BIwxxu4KCAAAAAArA5cgAgAAAIBHWMAAAAAAwCMsYAAAAADgERYwAAAAAPAICxgAAAAAeIQFDAAAAAA8wgIGAAAAAB5hAQMAAAAAj7CAAQAAAIBHWMAAAAAAwCMsYAAAAADgERYwAAAAAPAICxgAAAAAeIQFDAAAAAA8wgIGAAAAAB5hAQMAAAAAj7CAAQAAAIBHWMAAAAAAwCMsYAAAAADgERYwAAAAAPDI/wAXcqH3TURYFAAAAABJRU5ErkJggg%3D%3D\">"
      ]
     },
     "metadata": {},
     "output_type": "display_data"
    }
   ],
   "source": [
    "s.run(tf.global_variables_initializer())\n",
    "\n",
    "BATCH_SIZE = 512\n",
    "EPOCHS = 40\n",
    "\n",
    "# for logging the progress right here in Jupyter (for those who don't have TensorBoard)\n",
    "simpleTrainingCurves = matplotlib_utils.SimpleTrainingCurves(\"cross-entropy\", \"accuracy\")\n",
    "\n",
    "for epoch in range(EPOCHS):  # we finish an epoch when we've looked at all training samples\n",
    "    \n",
    "    batch_losses = []\n",
    "    for batch_start in range(0, X_train_flat.shape[0], BATCH_SIZE):  # data is already shuffled\n",
    "        _, batch_loss = s.run([step, loss], {input_X: X_train_flat[batch_start:batch_start+BATCH_SIZE], \n",
    "                                             input_y: y_train_oh[batch_start:batch_start+BATCH_SIZE]})\n",
    "        # collect batch losses, this is almost free as we need a forward pass for backprop anyway\n",
    "        batch_losses.append(batch_loss)\n",
    "\n",
    "    train_loss = np.mean(batch_losses)\n",
    "    val_loss = s.run(loss, {input_X: X_val_flat, input_y: y_val_oh})  # this part is usually small\n",
    "    train_accuracy = accuracy_score(y_train, s.run(classes, {input_X: X_train_flat}))  # this is slow and usually skipped\n",
    "    valid_accuracy = accuracy_score(y_val, s.run(classes, {input_X: X_val_flat}))  \n",
    "    simpleTrainingCurves.add(train_loss, val_loss, train_accuracy, valid_accuracy)"
   ]
  },
  {
   "cell_type": "markdown",
   "metadata": {},
   "source": [
    "# Submit the MLP with 2 hidden layers\n",
    "Run these cells after training the MLP with 2 hidden layers"
   ]
  },
  {
   "cell_type": "code",
   "execution_count": 131,
   "metadata": {},
   "outputs": [],
   "source": [
    "## GRADED PART, DO NOT CHANGE!\n",
    "# Validation loss for MLP\n",
    "grader.set_answer(\"i8bgs\", s.run(loss, {input_X: X_val_flat, input_y: y_val_oh}))\n",
    "# Validation accuracy for MLP\n",
    "grader.set_answer(\"rE763\", accuracy_score(y_val, s.run(classes, {input_X: X_val_flat})))"
   ]
  },
  {
   "cell_type": "code",
   "execution_count": 134,
   "metadata": {},
   "outputs": [
    {
     "name": "stdout",
     "output_type": "stream",
     "text": [
      "Submitted to Coursera platform. See results on assignment page!\n"
     ]
    }
   ],
   "source": [
    "# you can make submission with answers so far to check yourself at this stage\n",
    "grader.submit(COURSERA_EMAIL, COURSERA_TOKEN)"
   ]
  },
  {
   "cell_type": "code",
   "execution_count": null,
   "metadata": {},
   "outputs": [],
   "source": []
  }
 ],
 "metadata": {
  "kernelspec": {
   "display_name": "Python 3",
   "language": "python",
   "name": "python3"
  },
  "language_info": {
   "codemirror_mode": {
    "name": "ipython",
    "version": 3
   },
   "file_extension": ".py",
   "mimetype": "text/x-python",
   "name": "python",
   "nbconvert_exporter": "python",
   "pygments_lexer": "ipython3",
   "version": "3.8.3"
  }
 },
 "nbformat": 4,
 "nbformat_minor": 1
}
